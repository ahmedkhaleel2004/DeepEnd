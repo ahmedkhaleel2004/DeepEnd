{
  "cells": [
    {
      "cell_type": "code",
      "execution_count": null,
      "metadata": {
        "colab": {
          "base_uri": "https://localhost:8080/"
        },
        "id": "mRV3Tx40PbEh",
        "outputId": "d677d598-ab6a-4401-f005-b1a6bd4947c8"
      },
      "outputs": [
        {
          "name": "stdout",
          "output_type": "stream",
          "text": [
            "Collecting tensorflow_text\n",
            "  Downloading tensorflow_text-2.15.0-cp310-cp310-manylinux_2_17_x86_64.manylinux2014_x86_64.whl (5.2 MB)\n",
            "\u001b[2K     \u001b[90m━━━━━━━━━━━━━━━━━━━━━━━━━━━━━━━━━━━━━━━━\u001b[0m \u001b[32m5.2/5.2 MB\u001b[0m \u001b[31m35.1 MB/s\u001b[0m eta \u001b[36m0:00:00\u001b[0m\n",
            "\u001b[?25hRequirement already satisfied: tensorflow-hub>=0.13.0 in /usr/local/lib/python3.10/dist-packages (from tensorflow_text) (0.15.0)\n",
            "Requirement already satisfied: tensorflow<2.16,>=2.15.0 in /usr/local/lib/python3.10/dist-packages (from tensorflow_text) (2.15.0)\n",
            "Requirement already satisfied: absl-py>=1.0.0 in /usr/local/lib/python3.10/dist-packages (from tensorflow<2.16,>=2.15.0->tensorflow_text) (1.4.0)\n",
            "Requirement already satisfied: astunparse>=1.6.0 in /usr/local/lib/python3.10/dist-packages (from tensorflow<2.16,>=2.15.0->tensorflow_text) (1.6.3)\n",
            "Requirement already satisfied: flatbuffers>=23.5.26 in /usr/local/lib/python3.10/dist-packages (from tensorflow<2.16,>=2.15.0->tensorflow_text) (23.5.26)\n",
            "Requirement already satisfied: gast!=0.5.0,!=0.5.1,!=0.5.2,>=0.2.1 in /usr/local/lib/python3.10/dist-packages (from tensorflow<2.16,>=2.15.0->tensorflow_text) (0.5.4)\n",
            "Requirement already satisfied: google-pasta>=0.1.1 in /usr/local/lib/python3.10/dist-packages (from tensorflow<2.16,>=2.15.0->tensorflow_text) (0.2.0)\n",
            "Requirement already satisfied: h5py>=2.9.0 in /usr/local/lib/python3.10/dist-packages (from tensorflow<2.16,>=2.15.0->tensorflow_text) (3.9.0)\n",
            "Requirement already satisfied: libclang>=13.0.0 in /usr/local/lib/python3.10/dist-packages (from tensorflow<2.16,>=2.15.0->tensorflow_text) (16.0.6)\n",
            "Requirement already satisfied: ml-dtypes~=0.2.0 in /usr/local/lib/python3.10/dist-packages (from tensorflow<2.16,>=2.15.0->tensorflow_text) (0.2.0)\n",
            "Requirement already satisfied: numpy<2.0.0,>=1.23.5 in /usr/local/lib/python3.10/dist-packages (from tensorflow<2.16,>=2.15.0->tensorflow_text) (1.23.5)\n",
            "Requirement already satisfied: opt-einsum>=2.3.2 in /usr/local/lib/python3.10/dist-packages (from tensorflow<2.16,>=2.15.0->tensorflow_text) (3.3.0)\n",
            "Requirement already satisfied: packaging in /usr/local/lib/python3.10/dist-packages (from tensorflow<2.16,>=2.15.0->tensorflow_text) (23.2)\n",
            "Requirement already satisfied: protobuf!=4.21.0,!=4.21.1,!=4.21.2,!=4.21.3,!=4.21.4,!=4.21.5,<5.0.0dev,>=3.20.3 in /usr/local/lib/python3.10/dist-packages (from tensorflow<2.16,>=2.15.0->tensorflow_text) (3.20.3)\n",
            "Requirement already satisfied: setuptools in /usr/local/lib/python3.10/dist-packages (from tensorflow<2.16,>=2.15.0->tensorflow_text) (67.7.2)\n",
            "Requirement already satisfied: six>=1.12.0 in /usr/local/lib/python3.10/dist-packages (from tensorflow<2.16,>=2.15.0->tensorflow_text) (1.16.0)\n",
            "Requirement already satisfied: termcolor>=1.1.0 in /usr/local/lib/python3.10/dist-packages (from tensorflow<2.16,>=2.15.0->tensorflow_text) (2.4.0)\n",
            "Requirement already satisfied: typing-extensions>=3.6.6 in /usr/local/lib/python3.10/dist-packages (from tensorflow<2.16,>=2.15.0->tensorflow_text) (4.5.0)\n",
            "Requirement already satisfied: wrapt<1.15,>=1.11.0 in /usr/local/lib/python3.10/dist-packages (from tensorflow<2.16,>=2.15.0->tensorflow_text) (1.14.1)\n",
            "Requirement already satisfied: tensorflow-io-gcs-filesystem>=0.23.1 in /usr/local/lib/python3.10/dist-packages (from tensorflow<2.16,>=2.15.0->tensorflow_text) (0.35.0)\n",
            "Requirement already satisfied: grpcio<2.0,>=1.24.3 in /usr/local/lib/python3.10/dist-packages (from tensorflow<2.16,>=2.15.0->tensorflow_text) (1.60.0)\n",
            "Requirement already satisfied: tensorboard<2.16,>=2.15 in /usr/local/lib/python3.10/dist-packages (from tensorflow<2.16,>=2.15.0->tensorflow_text) (2.15.1)\n",
            "Requirement already satisfied: tensorflow-estimator<2.16,>=2.15.0 in /usr/local/lib/python3.10/dist-packages (from tensorflow<2.16,>=2.15.0->tensorflow_text) (2.15.0)\n",
            "Requirement already satisfied: keras<2.16,>=2.15.0 in /usr/local/lib/python3.10/dist-packages (from tensorflow<2.16,>=2.15.0->tensorflow_text) (2.15.0)\n",
            "Requirement already satisfied: wheel<1.0,>=0.23.0 in /usr/local/lib/python3.10/dist-packages (from astunparse>=1.6.0->tensorflow<2.16,>=2.15.0->tensorflow_text) (0.42.0)\n",
            "Requirement already satisfied: google-auth<3,>=1.6.3 in /usr/local/lib/python3.10/dist-packages (from tensorboard<2.16,>=2.15->tensorflow<2.16,>=2.15.0->tensorflow_text) (2.17.3)\n",
            "Requirement already satisfied: google-auth-oauthlib<2,>=0.5 in /usr/local/lib/python3.10/dist-packages (from tensorboard<2.16,>=2.15->tensorflow<2.16,>=2.15.0->tensorflow_text) (1.2.0)\n",
            "Requirement already satisfied: markdown>=2.6.8 in /usr/local/lib/python3.10/dist-packages (from tensorboard<2.16,>=2.15->tensorflow<2.16,>=2.15.0->tensorflow_text) (3.5.1)\n",
            "Requirement already satisfied: requests<3,>=2.21.0 in /usr/local/lib/python3.10/dist-packages (from tensorboard<2.16,>=2.15->tensorflow<2.16,>=2.15.0->tensorflow_text) (2.31.0)\n",
            "Requirement already satisfied: tensorboard-data-server<0.8.0,>=0.7.0 in /usr/local/lib/python3.10/dist-packages (from tensorboard<2.16,>=2.15->tensorflow<2.16,>=2.15.0->tensorflow_text) (0.7.2)\n",
            "Requirement already satisfied: werkzeug>=1.0.1 in /usr/local/lib/python3.10/dist-packages (from tensorboard<2.16,>=2.15->tensorflow<2.16,>=2.15.0->tensorflow_text) (3.0.1)\n",
            "Requirement already satisfied: cachetools<6.0,>=2.0.0 in /usr/local/lib/python3.10/dist-packages (from google-auth<3,>=1.6.3->tensorboard<2.16,>=2.15->tensorflow<2.16,>=2.15.0->tensorflow_text) (5.3.2)\n",
            "Requirement already satisfied: pyasn1-modules>=0.2.1 in /usr/local/lib/python3.10/dist-packages (from google-auth<3,>=1.6.3->tensorboard<2.16,>=2.15->tensorflow<2.16,>=2.15.0->tensorflow_text) (0.3.0)\n",
            "Requirement already satisfied: rsa<5,>=3.1.4 in /usr/local/lib/python3.10/dist-packages (from google-auth<3,>=1.6.3->tensorboard<2.16,>=2.15->tensorflow<2.16,>=2.15.0->tensorflow_text) (4.9)\n",
            "Requirement already satisfied: requests-oauthlib>=0.7.0 in /usr/local/lib/python3.10/dist-packages (from google-auth-oauthlib<2,>=0.5->tensorboard<2.16,>=2.15->tensorflow<2.16,>=2.15.0->tensorflow_text) (1.3.1)\n",
            "Requirement already satisfied: charset-normalizer<4,>=2 in /usr/local/lib/python3.10/dist-packages (from requests<3,>=2.21.0->tensorboard<2.16,>=2.15->tensorflow<2.16,>=2.15.0->tensorflow_text) (3.3.2)\n",
            "Requirement already satisfied: idna<4,>=2.5 in /usr/local/lib/python3.10/dist-packages (from requests<3,>=2.21.0->tensorboard<2.16,>=2.15->tensorflow<2.16,>=2.15.0->tensorflow_text) (3.6)\n",
            "Requirement already satisfied: urllib3<3,>=1.21.1 in /usr/local/lib/python3.10/dist-packages (from requests<3,>=2.21.0->tensorboard<2.16,>=2.15->tensorflow<2.16,>=2.15.0->tensorflow_text) (2.0.7)\n",
            "Requirement already satisfied: certifi>=2017.4.17 in /usr/local/lib/python3.10/dist-packages (from requests<3,>=2.21.0->tensorboard<2.16,>=2.15->tensorflow<2.16,>=2.15.0->tensorflow_text) (2023.11.17)\n",
            "Requirement already satisfied: MarkupSafe>=2.1.1 in /usr/local/lib/python3.10/dist-packages (from werkzeug>=1.0.1->tensorboard<2.16,>=2.15->tensorflow<2.16,>=2.15.0->tensorflow_text) (2.1.3)\n",
            "Requirement already satisfied: pyasn1<0.6.0,>=0.4.6 in /usr/local/lib/python3.10/dist-packages (from pyasn1-modules>=0.2.1->google-auth<3,>=1.6.3->tensorboard<2.16,>=2.15->tensorflow<2.16,>=2.15.0->tensorflow_text) (0.5.1)\n",
            "Requirement already satisfied: oauthlib>=3.0.0 in /usr/local/lib/python3.10/dist-packages (from requests-oauthlib>=0.7.0->google-auth-oauthlib<2,>=0.5->tensorboard<2.16,>=2.15->tensorflow<2.16,>=2.15.0->tensorflow_text) (3.2.2)\n",
            "Installing collected packages: tensorflow_text\n",
            "Successfully installed tensorflow_text-2.15.0\n"
          ]
        }
      ],
      "source": [
        "!pip install tensorflow_text"
      ]
    },
    {
      "cell_type": "code",
      "execution_count": null,
      "metadata": {
        "id": "26AgC5V1x6yR"
      },
      "outputs": [],
      "source": [
        "import pandas as pd\n",
        "import numpy as np\n",
        "import tensorflow as tf\n",
        "import ast\n",
        "from tensorflow.keras.utils import to_categorical\n",
        "from sklearn.preprocessing import MultiLabelBinarizer\n",
        "import tensorflow_hub as hub\n",
        "import tensorflow_text as text\n",
        "from tensorflow.keras.layers import Input, Dense, Lambda\n",
        "from tensorflow.keras.models import Model"
      ]
    },
    {
      "cell_type": "code",
      "execution_count": null,
      "metadata": {
        "colab": {
          "base_uri": "https://localhost:8080/"
        },
        "id": "iNN--C7Bx6yU",
        "outputId": "293b7d78-2d6c-48fc-cf46-0af0999b5198"
      },
      "outputs": [
        {
          "name": "stdout",
          "output_type": "stream",
          "text": [
            "Rows removed: 1651, 84.71% of the original dataset.\n",
            "You have 298 rows left.\n"
          ]
        }
      ],
      "source": [
        "data = pd.read_csv('github_users_dataset.csv', header=None)\n",
        "\n",
        "initial_rows = data.shape[0]\n",
        "\n",
        "data.dropna(inplace=True)\n",
        "\n",
        "# Set the column names from the first row\n",
        "data.columns = data.iloc[0]\n",
        "\n",
        "# Drop the first row\n",
        "data = data[1:]\n",
        "\n",
        "# Drop all rows that are the same as the column names\n",
        "data = data[~data.eq(data.columns).all(1)]\n",
        "\n",
        "# Function to check if all strings in a given input are ASCII\n",
        "def all_strings_are_ascii(input):\n",
        "    if isinstance(input, list):\n",
        "        return all(str(s).isascii() for s in input)\n",
        "    else:\n",
        "        return str(input).isascii()\n",
        "\n",
        "# Apply the function to each element of the DataFrame\n",
        "data_ascii = data.applymap(all_strings_are_ascii)\n",
        "\n",
        "# Filter out the rows where all elements are ASCII\n",
        "data = data[data_ascii.all(axis=1)]\n",
        "\n",
        "data = data.query('projects != \"[]\" and languages != \"[]\"')\n",
        "\n",
        "# Drop all rows where the 'role' column string has a length of less than 15\n",
        "data = data[data['role'].str.len() >= 25]\n",
        "\n",
        "# Function to check if any string in a list is less than 20 characters\n",
        "def any_string_less_than_20_chars(input):\n",
        "    if isinstance(input, str):\n",
        "        input_list = ast.literal_eval(input)\n",
        "        if isinstance(input_list, list):\n",
        "            return any(len(str(s)) < 20 for s in input_list)\n",
        "    return False\n",
        "\n",
        "# Apply the function to the 'projects' column\n",
        "data['any_project_less_than_20_chars'] = data['projects'].apply(any_string_less_than_20_chars)\n",
        "\n",
        "# Drop the rows where any description in the 'projects' column is less than 20 characters\n",
        "data = data[data['any_project_less_than_20_chars'] == False]\n",
        "\n",
        "# Drop the temporary column\n",
        "data.drop(columns=['any_project_less_than_20_chars'], inplace=True)\n",
        "\n",
        "final_rows = data.shape[0]\n",
        "\n",
        "data.to_csv('cleaned_data.csv', index=False)\n",
        "\n",
        "print(f'Rows removed: {initial_rows - final_rows}, {100 * (initial_rows - final_rows) / initial_rows:.2f}% of the original dataset.\\nYou have {final_rows} rows left.')"
      ]
    },
    {
      "cell_type": "code",
      "execution_count": null,
      "metadata": {
        "colab": {
          "base_uri": "https://localhost:8080/",
          "height": 363
        },
        "id": "QmYS0i0Bx6yU",
        "outputId": "85bb6f30-cc70-45f8-ce28-37a08785ef68"
      },
      "outputs": [
        {
          "data": {
            "text/html": [
              "\n",
              "  <div id=\"df-386e0d46-f77c-46cd-ad77-d5fc1ac35ac3\" class=\"colab-df-container\">\n",
              "    <div>\n",
              "<style scoped>\n",
              "    .dataframe tbody tr th:only-of-type {\n",
              "        vertical-align: middle;\n",
              "    }\n",
              "\n",
              "    .dataframe tbody tr th {\n",
              "        vertical-align: top;\n",
              "    }\n",
              "\n",
              "    .dataframe thead th {\n",
              "        text-align: right;\n",
              "    }\n",
              "</style>\n",
              "<table border=\"1\" class=\"dataframe\">\n",
              "  <thead>\n",
              "    <tr style=\"text-align: right;\">\n",
              "      <th></th>\n",
              "      <th>role</th>\n",
              "      <th>experience_level</th>\n",
              "      <th>languages</th>\n",
              "      <th>tech_keywords</th>\n",
              "      <th>projects</th>\n",
              "    </tr>\n",
              "  </thead>\n",
              "  <tbody>\n",
              "    <tr>\n",
              "      <th>5</th>\n",
              "      <td>Senior Software Engineer @microsoft</td>\n",
              "      <td>Beginner</td>\n",
              "      <td>['Shell', 'PowerShell', 'C#', 'Python', 'JavaS...</td>\n",
              "      <td>['github', 'node', 'video', 'action', 'woke', ...</td>\n",
              "      <td>['A collection of tasks to enable execution My...</td>\n",
              "    </tr>\n",
              "    <tr>\n",
              "      <th>6</th>\n",
              "      <td>Principal AI Scientist at Genentech. Formerly ...</td>\n",
              "      <td>Beginner</td>\n",
              "      <td>['Python', 'Shell', 'R', 'Jupyter Notebook', '...</td>\n",
              "      <td>['ecoli_promoter_mpra', 'training', 'women', '...</td>\n",
              "      <td>['DL based processing of atac-seq data', 'Comm...</td>\n",
              "    </tr>\n",
              "    <tr>\n",
              "      <th>8</th>\n",
              "      <td>CEO and Full-Stack Developer at SULLE WAREHOUSE</td>\n",
              "      <td>Beginner</td>\n",
              "      <td>['C', 'C++', 'CMake', 'Shell', 'Assembly']</td>\n",
              "      <td>['b', 'pixels', 'linux', 'parser', 'expression...</td>\n",
              "      <td>['The README for my personal GitHub account', ...</td>\n",
              "    </tr>\n",
              "    <tr>\n",
              "      <th>9</th>\n",
              "      <td>Machine learning, quantum computing, and every...</td>\n",
              "      <td>Beginner</td>\n",
              "      <td>['Python', 'Jupyter Notebook', 'Shell', 'C++',...</td>\n",
              "      <td>['Cybernetics', 'elden_bot', 'quantum', 'Quant...</td>\n",
              "      <td>['Final Project for CSCI 2500 Computer Organiz...</td>\n",
              "    </tr>\n",
              "    <tr>\n",
              "      <th>11</th>\n",
              "      <td>Co-founder, @levelshealth.</td>\n",
              "      <td>Beginner</td>\n",
              "      <td>['JavaScript', 'Scala', 'CSS', 'HTML', 'PHP']</td>\n",
              "      <td>['sublime', 'play', 'app', 'workflow', 'exampl...</td>\n",
              "      <td>['Alfred App Workflow for caniuse.com', 'Stati...</td>\n",
              "    </tr>\n",
              "    <tr>\n",
              "      <th>17</th>\n",
              "      <td>Lead Engineer at Nike.\\n\\nMostly cloud service...</td>\n",
              "      <td>Intermediate</td>\n",
              "      <td>['JavaScript', 'TypeScript', 'PHP', 'CSS', 'HT...</td>\n",
              "      <td>['mee.js', 'Advanced', 'class.js', 'node', 'cu...</td>\n",
              "      <td>['SecretParser Plugin for the game http://www....</td>\n",
              "    </tr>\n",
              "    <tr>\n",
              "      <th>21</th>\n",
              "      <td>Physical oceanographer with a love of open sou...</td>\n",
              "      <td>Intermediate</td>\n",
              "      <td>['Jupyter Notebook', 'Python', 'HTML', 'Shell'...</td>\n",
              "      <td>['MLINT', 'Notebooks', 'MITgcm66h', 'publicati...</td>\n",
              "      <td>['Repo for the April 10-12 workshop to be held...</td>\n",
              "    </tr>\n",
              "    <tr>\n",
              "      <th>22</th>\n",
              "      <td>Tinker, build, make, share.</td>\n",
              "      <td>Intermediate</td>\n",
              "      <td>['C++', 'C', 'JavaScript', 'HTML', 'CSS']</td>\n",
              "      <td>['ESP32Tests', 'eyeball_simulator', 'BlinkRC7'...</td>\n",
              "      <td>['Abandoned: attempt to make 15-tile sliding p...</td>\n",
              "    </tr>\n",
              "    <tr>\n",
              "      <th>26</th>\n",
              "      <td>:-)</td>\n",
              "      <td>Intermediate</td>\n",
              "      <td>['Python', 'Shell', 'C', 'Java', 'C++']</td>\n",
              "      <td>['MSRnet', 'codeBase', 'discord', 'CO224_Compu...</td>\n",
              "      <td>['ABS: Scanning Neural Networks for Back-doors...</td>\n",
              "    </tr>\n",
              "    <tr>\n",
              "      <th>28</th>\n",
              "      <td>Signal processing, radar, data science</td>\n",
              "      <td>Intermediate</td>\n",
              "      <td>['Shell', 'Batchfile', 'Python', 'Makefile', 'C']</td>\n",
              "      <td>['setup', 'asciimatics', 'adwaita', 'icon', 'c...</td>\n",
              "      <td>['A conda-smithy repository for adwaita-icon-t...</td>\n",
              "    </tr>\n",
              "  </tbody>\n",
              "</table>\n",
              "</div>\n",
              "    <div class=\"colab-df-buttons\">\n",
              "\n",
              "  <div class=\"colab-df-container\">\n",
              "    <button class=\"colab-df-convert\" onclick=\"convertToInteractive('df-386e0d46-f77c-46cd-ad77-d5fc1ac35ac3')\"\n",
              "            title=\"Convert this dataframe to an interactive table.\"\n",
              "            style=\"display:none;\">\n",
              "\n",
              "  <svg xmlns=\"http://www.w3.org/2000/svg\" height=\"24px\" viewBox=\"0 -960 960 960\">\n",
              "    <path d=\"M120-120v-720h720v720H120Zm60-500h600v-160H180v160Zm220 220h160v-160H400v160Zm0 220h160v-160H400v160ZM180-400h160v-160H180v160Zm440 0h160v-160H620v160ZM180-180h160v-160H180v160Zm440 0h160v-160H620v160Z\"/>\n",
              "  </svg>\n",
              "    </button>\n",
              "\n",
              "  <style>\n",
              "    .colab-df-container {\n",
              "      display:flex;\n",
              "      gap: 12px;\n",
              "    }\n",
              "\n",
              "    .colab-df-convert {\n",
              "      background-color: #E8F0FE;\n",
              "      border: none;\n",
              "      border-radius: 50%;\n",
              "      cursor: pointer;\n",
              "      display: none;\n",
              "      fill: #1967D2;\n",
              "      height: 32px;\n",
              "      padding: 0 0 0 0;\n",
              "      width: 32px;\n",
              "    }\n",
              "\n",
              "    .colab-df-convert:hover {\n",
              "      background-color: #E2EBFA;\n",
              "      box-shadow: 0px 1px 2px rgba(60, 64, 67, 0.3), 0px 1px 3px 1px rgba(60, 64, 67, 0.15);\n",
              "      fill: #174EA6;\n",
              "    }\n",
              "\n",
              "    .colab-df-buttons div {\n",
              "      margin-bottom: 4px;\n",
              "    }\n",
              "\n",
              "    [theme=dark] .colab-df-convert {\n",
              "      background-color: #3B4455;\n",
              "      fill: #D2E3FC;\n",
              "    }\n",
              "\n",
              "    [theme=dark] .colab-df-convert:hover {\n",
              "      background-color: #434B5C;\n",
              "      box-shadow: 0px 1px 3px 1px rgba(0, 0, 0, 0.15);\n",
              "      filter: drop-shadow(0px 1px 2px rgba(0, 0, 0, 0.3));\n",
              "      fill: #FFFFFF;\n",
              "    }\n",
              "  </style>\n",
              "\n",
              "    <script>\n",
              "      const buttonEl =\n",
              "        document.querySelector('#df-386e0d46-f77c-46cd-ad77-d5fc1ac35ac3 button.colab-df-convert');\n",
              "      buttonEl.style.display =\n",
              "        google.colab.kernel.accessAllowed ? 'block' : 'none';\n",
              "\n",
              "      async function convertToInteractive(key) {\n",
              "        const element = document.querySelector('#df-386e0d46-f77c-46cd-ad77-d5fc1ac35ac3');\n",
              "        const dataTable =\n",
              "          await google.colab.kernel.invokeFunction('convertToInteractive',\n",
              "                                                    [key], {});\n",
              "        if (!dataTable) return;\n",
              "\n",
              "        const docLinkHtml = 'Like what you see? Visit the ' +\n",
              "          '<a target=\"_blank\" href=https://colab.research.google.com/notebooks/data_table.ipynb>data table notebook</a>'\n",
              "          + ' to learn more about interactive tables.';\n",
              "        element.innerHTML = '';\n",
              "        dataTable['output_type'] = 'display_data';\n",
              "        await google.colab.output.renderOutput(dataTable, element);\n",
              "        const docLink = document.createElement('div');\n",
              "        docLink.innerHTML = docLinkHtml;\n",
              "        element.appendChild(docLink);\n",
              "      }\n",
              "    </script>\n",
              "  </div>\n",
              "\n",
              "\n",
              "<div id=\"df-09436164-b769-4dfd-871f-193e02e752de\">\n",
              "  <button class=\"colab-df-quickchart\" onclick=\"quickchart('df-09436164-b769-4dfd-871f-193e02e752de')\"\n",
              "            title=\"Suggest charts\"\n",
              "            style=\"display:none;\">\n",
              "\n",
              "<svg xmlns=\"http://www.w3.org/2000/svg\" height=\"24px\"viewBox=\"0 0 24 24\"\n",
              "     width=\"24px\">\n",
              "    <g>\n",
              "        <path d=\"M19 3H5c-1.1 0-2 .9-2 2v14c0 1.1.9 2 2 2h14c1.1 0 2-.9 2-2V5c0-1.1-.9-2-2-2zM9 17H7v-7h2v7zm4 0h-2V7h2v10zm4 0h-2v-4h2v4z\"/>\n",
              "    </g>\n",
              "</svg>\n",
              "  </button>\n",
              "\n",
              "<style>\n",
              "  .colab-df-quickchart {\n",
              "      --bg-color: #E8F0FE;\n",
              "      --fill-color: #1967D2;\n",
              "      --hover-bg-color: #E2EBFA;\n",
              "      --hover-fill-color: #174EA6;\n",
              "      --disabled-fill-color: #AAA;\n",
              "      --disabled-bg-color: #DDD;\n",
              "  }\n",
              "\n",
              "  [theme=dark] .colab-df-quickchart {\n",
              "      --bg-color: #3B4455;\n",
              "      --fill-color: #D2E3FC;\n",
              "      --hover-bg-color: #434B5C;\n",
              "      --hover-fill-color: #FFFFFF;\n",
              "      --disabled-bg-color: #3B4455;\n",
              "      --disabled-fill-color: #666;\n",
              "  }\n",
              "\n",
              "  .colab-df-quickchart {\n",
              "    background-color: var(--bg-color);\n",
              "    border: none;\n",
              "    border-radius: 50%;\n",
              "    cursor: pointer;\n",
              "    display: none;\n",
              "    fill: var(--fill-color);\n",
              "    height: 32px;\n",
              "    padding: 0;\n",
              "    width: 32px;\n",
              "  }\n",
              "\n",
              "  .colab-df-quickchart:hover {\n",
              "    background-color: var(--hover-bg-color);\n",
              "    box-shadow: 0 1px 2px rgba(60, 64, 67, 0.3), 0 1px 3px 1px rgba(60, 64, 67, 0.15);\n",
              "    fill: var(--button-hover-fill-color);\n",
              "  }\n",
              "\n",
              "  .colab-df-quickchart-complete:disabled,\n",
              "  .colab-df-quickchart-complete:disabled:hover {\n",
              "    background-color: var(--disabled-bg-color);\n",
              "    fill: var(--disabled-fill-color);\n",
              "    box-shadow: none;\n",
              "  }\n",
              "\n",
              "  .colab-df-spinner {\n",
              "    border: 2px solid var(--fill-color);\n",
              "    border-color: transparent;\n",
              "    border-bottom-color: var(--fill-color);\n",
              "    animation:\n",
              "      spin 1s steps(1) infinite;\n",
              "  }\n",
              "\n",
              "  @keyframes spin {\n",
              "    0% {\n",
              "      border-color: transparent;\n",
              "      border-bottom-color: var(--fill-color);\n",
              "      border-left-color: var(--fill-color);\n",
              "    }\n",
              "    20% {\n",
              "      border-color: transparent;\n",
              "      border-left-color: var(--fill-color);\n",
              "      border-top-color: var(--fill-color);\n",
              "    }\n",
              "    30% {\n",
              "      border-color: transparent;\n",
              "      border-left-color: var(--fill-color);\n",
              "      border-top-color: var(--fill-color);\n",
              "      border-right-color: var(--fill-color);\n",
              "    }\n",
              "    40% {\n",
              "      border-color: transparent;\n",
              "      border-right-color: var(--fill-color);\n",
              "      border-top-color: var(--fill-color);\n",
              "    }\n",
              "    60% {\n",
              "      border-color: transparent;\n",
              "      border-right-color: var(--fill-color);\n",
              "    }\n",
              "    80% {\n",
              "      border-color: transparent;\n",
              "      border-right-color: var(--fill-color);\n",
              "      border-bottom-color: var(--fill-color);\n",
              "    }\n",
              "    90% {\n",
              "      border-color: transparent;\n",
              "      border-bottom-color: var(--fill-color);\n",
              "    }\n",
              "  }\n",
              "</style>\n",
              "\n",
              "  <script>\n",
              "    async function quickchart(key) {\n",
              "      const quickchartButtonEl =\n",
              "        document.querySelector('#' + key + ' button');\n",
              "      quickchartButtonEl.disabled = true;  // To prevent multiple clicks.\n",
              "      quickchartButtonEl.classList.add('colab-df-spinner');\n",
              "      try {\n",
              "        const charts = await google.colab.kernel.invokeFunction(\n",
              "            'suggestCharts', [key], {});\n",
              "      } catch (error) {\n",
              "        console.error('Error during call to suggestCharts:', error);\n",
              "      }\n",
              "      quickchartButtonEl.classList.remove('colab-df-spinner');\n",
              "      quickchartButtonEl.classList.add('colab-df-quickchart-complete');\n",
              "    }\n",
              "    (() => {\n",
              "      let quickchartButtonEl =\n",
              "        document.querySelector('#df-09436164-b769-4dfd-871f-193e02e752de button');\n",
              "      quickchartButtonEl.style.display =\n",
              "        google.colab.kernel.accessAllowed ? 'block' : 'none';\n",
              "    })();\n",
              "  </script>\n",
              "</div>\n",
              "\n",
              "    </div>\n",
              "  </div>\n"
            ],
            "text/plain": [
              "0                                                role experience_level  \\\n",
              "5                 Senior Software Engineer @microsoft         Beginner   \n",
              "6   Principal AI Scientist at Genentech. Formerly ...         Beginner   \n",
              "8     CEO and Full-Stack Developer at SULLE WAREHOUSE         Beginner   \n",
              "9   Machine learning, quantum computing, and every...         Beginner   \n",
              "11                         Co-founder, @levelshealth.         Beginner   \n",
              "17  Lead Engineer at Nike.\\n\\nMostly cloud service...     Intermediate   \n",
              "21  Physical oceanographer with a love of open sou...     Intermediate   \n",
              "22                        Tinker, build, make, share.     Intermediate   \n",
              "26                                                :-)     Intermediate   \n",
              "28             Signal processing, radar, data science     Intermediate   \n",
              "\n",
              "0                                           languages  \\\n",
              "5   ['Shell', 'PowerShell', 'C#', 'Python', 'JavaS...   \n",
              "6   ['Python', 'Shell', 'R', 'Jupyter Notebook', '...   \n",
              "8          ['C', 'C++', 'CMake', 'Shell', 'Assembly']   \n",
              "9   ['Python', 'Jupyter Notebook', 'Shell', 'C++',...   \n",
              "11      ['JavaScript', 'Scala', 'CSS', 'HTML', 'PHP']   \n",
              "17  ['JavaScript', 'TypeScript', 'PHP', 'CSS', 'HT...   \n",
              "21  ['Jupyter Notebook', 'Python', 'HTML', 'Shell'...   \n",
              "22          ['C++', 'C', 'JavaScript', 'HTML', 'CSS']   \n",
              "26            ['Python', 'Shell', 'C', 'Java', 'C++']   \n",
              "28  ['Shell', 'Batchfile', 'Python', 'Makefile', 'C']   \n",
              "\n",
              "0                                       tech_keywords  \\\n",
              "5   ['github', 'node', 'video', 'action', 'woke', ...   \n",
              "6   ['ecoli_promoter_mpra', 'training', 'women', '...   \n",
              "8   ['b', 'pixels', 'linux', 'parser', 'expression...   \n",
              "9   ['Cybernetics', 'elden_bot', 'quantum', 'Quant...   \n",
              "11  ['sublime', 'play', 'app', 'workflow', 'exampl...   \n",
              "17  ['mee.js', 'Advanced', 'class.js', 'node', 'cu...   \n",
              "21  ['MLINT', 'Notebooks', 'MITgcm66h', 'publicati...   \n",
              "22  ['ESP32Tests', 'eyeball_simulator', 'BlinkRC7'...   \n",
              "26  ['MSRnet', 'codeBase', 'discord', 'CO224_Compu...   \n",
              "28  ['setup', 'asciimatics', 'adwaita', 'icon', 'c...   \n",
              "\n",
              "0                                            projects  \n",
              "5   ['A collection of tasks to enable execution My...  \n",
              "6   ['DL based processing of atac-seq data', 'Comm...  \n",
              "8   ['The README for my personal GitHub account', ...  \n",
              "9   ['Final Project for CSCI 2500 Computer Organiz...  \n",
              "11  ['Alfred App Workflow for caniuse.com', 'Stati...  \n",
              "17  ['SecretParser Plugin for the game http://www....  \n",
              "21  ['Repo for the April 10-12 workshop to be held...  \n",
              "22  ['Abandoned: attempt to make 15-tile sliding p...  \n",
              "26  ['ABS: Scanning Neural Networks for Back-doors...  \n",
              "28  ['A conda-smithy repository for adwaita-icon-t...  "
            ]
          },
          "execution_count": 4,
          "metadata": {},
          "output_type": "execute_result"
        }
      ],
      "source": [
        "data.head(10)"
      ]
    },
    {
      "cell_type": "markdown",
      "metadata": {
        "id": "IDPVuLm3LAaH"
      },
      "source": [
        "OHE for experience and language"
      ]
    },
    {
      "cell_type": "code",
      "execution_count": null,
      "metadata": {
        "colab": {
          "base_uri": "https://localhost:8080/"
        },
        "id": "YGQKsU5qx6yU",
        "outputId": "d6b4caa0-8c40-462f-998f-642bb9c5ab66"
      },
      "outputs": [
        {
          "data": {
            "text/plain": [
              "array([[1., 0., 0.],\n",
              "       [1., 0., 0.],\n",
              "       [1., 0., 0.],\n",
              "       ...,\n",
              "       [0., 0., 1.],\n",
              "       [0., 0., 1.],\n",
              "       [0., 0., 1.]], dtype=float32)"
            ]
          },
          "execution_count": 5,
          "metadata": {},
          "output_type": "execute_result"
        }
      ],
      "source": [
        "# unique experience levels\n",
        "experience = data['experience_level'].unique()\n",
        "\n",
        "# map unique experience levels to numbers\n",
        "# categorical data --> numerical data for one-hot encoding\n",
        "experience_level_mapping = {level: idx for idx, level in enumerate(experience)}\n",
        "\n",
        "# w gpt2 nie ma potrzeby one-hot encoding\n",
        "data['experience_level_num'] = data['experience_level'].map(experience_level_mapping)\n",
        "\n",
        "# one-hot encoding !!!!!!!!!!!!\n",
        "experience_level_encoded = to_categorical(data['experience_level_num'])\n",
        "experience_level_encoded\n"
      ]
    },
    {
      "cell_type": "code",
      "execution_count": null,
      "metadata": {
        "colab": {
          "base_uri": "https://localhost:8080/"
        },
        "id": "v7i8q_pnx6yV",
        "outputId": "06f3353e-fe4f-41ba-e635-deaaa18797c7"
      },
      "outputs": [
        {
          "data": {
            "text/plain": [
              "array([[0, 0, 0, 0, 0, 0, 0, 0, 0, 0, 0, 0, 0, 0, 1, 0, 0, 0, 0, 0, 0, 0,\n",
              "        0, 0, 0, 0, 0, 0, 0, 0, 0, 0, 0, 0, 0, 0, 0, 0, 0, 0, 0, 0, 0, 0,\n",
              "        0, 0, 0, 0, 0, 1, 0, 0, 0, 0, 0, 0, 0, 0, 0, 0, 0, 0, 0, 0, 0, 0,\n",
              "        0, 0, 0, 0, 0, 0, 0, 0, 0, 0, 1, 0, 0, 1, 0, 0, 0, 0, 0, 0, 0, 0,\n",
              "        0, 0, 0, 1, 0, 0, 0, 0, 0, 0, 0, 0, 0, 0, 0, 0, 0, 0, 0, 0, 0]])"
            ]
          },
          "execution_count": 6,
          "metadata": {},
          "output_type": "execute_result"
        }
      ],
      "source": [
        "data['languages'] = data['languages'].apply(ast.literal_eval)\n",
        "languages = set([lang for sublist in data['languages'].tolist() for lang in sublist])\n",
        "\n",
        "mlb = MultiLabelBinarizer(classes=sorted(languages))\n",
        "languages_encoded = mlb.fit_transform(data['languages'])\n",
        "languages_encoded[:1]"
      ]
    },
    {
      "cell_type": "markdown",
      "metadata": {
        "id": "DRfmxObHLHmQ"
      },
      "source": [
        "BERT for role and project"
      ]
    },
    {
      "cell_type": "code",
      "execution_count": null,
      "metadata": {
        "colab": {
          "base_uri": "https://localhost:8080/"
        },
        "id": "1Lz4_Ie8x6yV",
        "outputId": "0282d2b1-39ea-4cff-c336-377425bfcaf1"
      },
      "outputs": [
        {
          "data": {
            "text/plain": [
              "dict_keys(['sequence_output', 'encoder_outputs', 'pooled_output', 'default'])"
            ]
          },
          "execution_count": 7,
          "metadata": {},
          "output_type": "execute_result"
        }
      ],
      "source": [
        "bert_preprocess_url = 'https://tfhub.dev/tensorflow/bert_en_uncased_preprocess/3'\n",
        "bert_model_url = 'https://tfhub.dev/tensorflow/small_bert/bert_en_uncased_L-2_H-128_A-2/2'\n",
        "\n",
        "bert_preprocess_model = hub.KerasLayer(bert_preprocess_url)\n",
        "bert_model = hub.KerasLayer(bert_model_url)\n",
        "\n",
        "role_texts = data['role'].tolist()  # Convert 'role' column to a list\n",
        "\n",
        "role_preprocessed = bert_preprocess_model(role_texts)\n",
        "\n",
        "role_results = bert_model(role_preprocessed)\n",
        "role_results.keys()"
      ]
    },
    {
      "cell_type": "code",
      "execution_count": null,
      "metadata": {
        "colab": {
          "base_uri": "https://localhost:8080/"
        },
        "id": "P-dQPBr2JH4f",
        "outputId": "f09825c0-3fcb-4324-a824-89da6c062065"
      },
      "outputs": [
        {
          "data": {
            "text/plain": [
              "TensorShape([714, 128])"
            ]
          },
          "execution_count": 8,
          "metadata": {},
          "output_type": "execute_result"
        }
      ],
      "source": [
        "roles_embedded = role_results['pooled_output']\n",
        "\n",
        "roles_embedded.shape"
      ]
    },
    {
      "cell_type": "code",
      "execution_count": null,
      "metadata": {
        "id": "HCzirrve_AFD"
      },
      "outputs": [],
      "source": [
        "projects = [j for i in data['projects'].tolist() for j in ast.literal_eval(i)]\n",
        "\n",
        "projects_preprocessed = bert_preprocess_model(projects)\n",
        "projects_results = bert_model(projects_preprocessed)\n"
      ]
    },
    {
      "cell_type": "code",
      "execution_count": null,
      "metadata": {
        "colab": {
          "base_uri": "https://localhost:8080/"
        },
        "id": "ZwY00kAkdL_t",
        "outputId": "9b35a732-bee3-46ee-d5ec-21892a660fa3"
      },
      "outputs": [
        {
          "data": {
            "text/plain": [
              "['A collection of tasks to enable execution MySQL commands or scripts by VSTS/TFS Windows Agents.',\n",
              " 'Microsoft Azure Workshop for Developers',\n",
              " 'PowerShell module for interacting with Bluetooth Low Energy (BLE) devices implementing the Generic Attribute Profile (GATT/GAP)',\n",
              " 'Pre-commit hooks collection that utilizes ChatGPT and OpenAI platform to validate changes made to the codebase.',\n",
              " 'This GitHub Action allows you to run Gitleaks in your GitHub workflow.',\n",
              " 'A MkDocs plugin that lets you exclude/include docs files using globs, regexes, gitignore-style file and Markdown/FrontMatter tags metadata.',\n",
              " 'MkDocs Video plugin',\n",
              " 'OSC message decoder/encoder with fault tolerant',\n",
              " 'Detect non-inclusive language in your source code.']"
            ]
          },
          "execution_count": 10,
          "metadata": {},
          "output_type": "execute_result"
        }
      ],
      "source": [
        "map_user_to_projects = {}\n",
        "for user_num, projects_list in enumerate(data['projects']):\n",
        "  map_user_to_projects[user_num] = ast.literal_eval(projects_list)\n",
        "\n",
        "map_user_to_projects[0]\n"
      ]
    },
    {
      "cell_type": "code",
      "execution_count": null,
      "metadata": {
        "colab": {
          "base_uri": "https://localhost:8080/"
        },
        "id": "Lo34yf3v9E6Z",
        "outputId": "14c2203c-0e72-41ab-9f20-31b3ceb916ac"
      },
      "outputs": [
        {
          "data": {
            "text/plain": [
              "dict_keys(['sequence_output', 'encoder_outputs', 'pooled_output', 'default'])"
            ]
          },
          "execution_count": 11,
          "metadata": {},
          "output_type": "execute_result"
        }
      ],
      "source": [
        "projects_results.keys()"
      ]
    },
    {
      "cell_type": "code",
      "execution_count": null,
      "metadata": {
        "id": "j4hjAekyX0T1"
      },
      "outputs": [],
      "source": [
        "projects_embedded = projects_results['pooled_output']"
      ]
    },
    {
      "cell_type": "code",
      "execution_count": null,
      "metadata": {
        "colab": {
          "base_uri": "https://localhost:8080/"
        },
        "id": "bctuuXl2P4Sp",
        "outputId": "479e7f9e-ff2d-4e60-982a-2986fdbc8562"
      },
      "outputs": [
        {
          "name": "stdout",
          "output_type": "stream",
          "text": [
            "(714, 3)\n",
            "(714, 109)\n",
            "(714, 128)\n",
            "(13513, 128)\n"
          ]
        }
      ],
      "source": [
        "for i in [experience_level_encoded,\n",
        "          languages_encoded,\n",
        "          roles_embedded,\n",
        "          projects_embedded]: print(i.shape)"
      ]
    },
    {
      "cell_type": "code",
      "execution_count": null,
      "metadata": {
        "colab": {
          "base_uri": "https://localhost:8080/"
        },
        "id": "cry08HfZSO5B",
        "outputId": "b917fcb9-eca4-4387-9352-b2154e703d84"
      },
      "outputs": [
        {
          "data": {
            "text/plain": [
              "TensorShape([714, 237])"
            ]
          },
          "execution_count": 14,
          "metadata": {},
          "output_type": "execute_result"
        }
      ],
      "source": [
        "user_profiles = tf.concat([roles_embedded, languages_encoded], axis=1)\n",
        "user_profiles.shape"
      ]
    },
    {
      "cell_type": "code",
      "execution_count": null,
      "metadata": {
        "colab": {
          "base_uri": "https://localhost:8080/"
        },
        "id": "4-cUpHTOb3Si",
        "outputId": "728310b6-deb0-4af1-995a-2066133fe3f6"
      },
      "outputs": [
        {
          "data": {
            "text/plain": [
              "<tf.Tensor: shape=(237,), dtype=float32, numpy=\n",
              "array([-0.9998977 ,  0.02674753, -0.95229065,  0.07566944, -0.98473793,\n",
              "        0.8515617 , -0.9891793 , -0.06120098,  0.07552765, -0.00853382,\n",
              "       -0.33273837, -0.07438556, -0.13768643,  0.99698657,  0.20532432,\n",
              "        0.00142703,  0.9212176 ,  0.066608  , -0.86612004, -0.28353733,\n",
              "        0.5697272 ,  0.06278628, -0.8876335 , -0.82182   , -0.9968265 ,\n",
              "       -0.06983151, -0.9948706 ,  0.974122  ,  0.81316996,  0.1028368 ,\n",
              "        0.09937278, -0.0886519 , -0.86351496, -0.9690397 ,  0.7592347 ,\n",
              "        0.996806  , -0.92572796, -0.00526048,  0.51379555, -0.9914838 ,\n",
              "        0.9527194 ,  0.9840963 , -0.99205375,  0.84864724, -0.88819516,\n",
              "       -0.19925441, -0.86289763,  0.9918394 , -0.5801045 ,  0.9990769 ,\n",
              "       -0.5767053 , -0.9606845 , -0.01358342,  0.89274883,  0.8692733 ,\n",
              "        0.59175795, -0.12701385,  0.19582532,  0.9900831 ,  0.7635511 ,\n",
              "        0.08241388, -0.01632024, -0.21319991,  0.7888896 , -0.6095279 ,\n",
              "       -0.99815786,  0.5985274 ,  0.30448887,  0.7767534 ,  0.94538933,\n",
              "        0.99744296,  0.28411013, -0.95372397,  0.0897599 ,  0.8989223 ,\n",
              "       -0.99616855, -0.9038413 ,  0.18534206, -0.5897031 ,  0.02072463,\n",
              "       -0.08313274, -0.02924383, -0.32113564, -0.9986659 ,  0.9884711 ,\n",
              "       -0.9599133 , -0.8250122 , -0.98161006, -0.97992784, -0.28468037,\n",
              "        0.85108006,  0.98269707, -0.87811863,  0.8836258 ,  0.9175378 ,\n",
              "        0.9093333 , -0.53736395,  0.8416976 , -0.99543273, -0.35718548,\n",
              "       -0.97044927, -0.167644  , -0.985918  , -0.9847769 , -0.9972612 ,\n",
              "       -0.19615552, -0.99557334, -0.8198126 , -0.89413035,  0.40607387,\n",
              "        0.993286  ,  0.39813516, -0.2018834 ,  0.98810804, -0.9861045 ,\n",
              "        0.1934642 , -0.9734886 ,  0.7728439 ,  0.12730266, -0.999747  ,\n",
              "        0.1289949 , -0.99871373, -0.94100636,  0.76040995, -0.98724705,\n",
              "        0.9979098 ,  0.92519665,  0.98347044,  0.        ,  0.        ,\n",
              "        0.        ,  0.        ,  0.        ,  0.        ,  0.        ,\n",
              "        0.        ,  0.        ,  0.        ,  0.        ,  0.        ,\n",
              "        0.        ,  0.        ,  1.        ,  0.        ,  0.        ,\n",
              "        0.        ,  0.        ,  0.        ,  0.        ,  0.        ,\n",
              "        0.        ,  0.        ,  0.        ,  0.        ,  0.        ,\n",
              "        0.        ,  0.        ,  0.        ,  0.        ,  0.        ,\n",
              "        0.        ,  0.        ,  0.        ,  0.        ,  0.        ,\n",
              "        0.        ,  0.        ,  0.        ,  0.        ,  0.        ,\n",
              "        0.        ,  0.        ,  0.        ,  0.        ,  0.        ,\n",
              "        0.        ,  0.        ,  1.        ,  0.        ,  0.        ,\n",
              "        0.        ,  0.        ,  0.        ,  0.        ,  0.        ,\n",
              "        0.        ,  0.        ,  0.        ,  0.        ,  0.        ,\n",
              "        0.        ,  0.        ,  0.        ,  0.        ,  0.        ,\n",
              "        0.        ,  0.        ,  0.        ,  0.        ,  0.        ,\n",
              "        0.        ,  0.        ,  0.        ,  0.        ,  1.        ,\n",
              "        0.        ,  0.        ,  1.        ,  0.        ,  0.        ,\n",
              "        0.        ,  0.        ,  0.        ,  0.        ,  0.        ,\n",
              "        0.        ,  0.        ,  0.        ,  0.        ,  1.        ,\n",
              "        0.        ,  0.        ,  0.        ,  0.        ,  0.        ,\n",
              "        0.        ,  0.        ,  0.        ,  0.        ,  0.        ,\n",
              "        0.        ,  0.        ,  0.        ,  0.        ,  0.        ,\n",
              "        0.        ,  0.        ], dtype=float32)>"
            ]
          },
          "execution_count": 15,
          "metadata": {},
          "output_type": "execute_result"
        }
      ],
      "source": [
        "user_profiles[0]"
      ]
    },
    {
      "cell_type": "code",
      "execution_count": null,
      "metadata": {
        "colab": {
          "base_uri": "https://localhost:8080/"
        },
        "id": "W5nZVvZE2zjh",
        "outputId": "932e36bf-bc23-4cac-f4f8-f0cf4afa5ee4"
      },
      "outputs": [
        {
          "name": "stdout",
          "output_type": "stream",
          "text": [
            "User 0: ['A collection of tasks to enable execution MySQL commands or scripts by VSTS/TFS Windows Agents.', 'Microsoft Azure Workshop for Developers', 'PowerShell module for interacting with Bluetooth Low Energy (BLE) devices implementing the Generic Attribute Profile (GATT/GAP)', 'Pre-commit hooks collection that utilizes ChatGPT and OpenAI platform to validate changes made to the codebase.', 'This GitHub Action allows you to run Gitleaks in your GitHub workflow.', 'A MkDocs plugin that lets you exclude/include docs files using globs, regexes, gitignore-style file and Markdown/FrontMatter tags metadata.', 'MkDocs Video plugin', 'OSC message decoder/encoder with fault tolerant', 'Detect non-inclusive language in your source code.']\n",
            "User 1: ['DL based processing of atac-seq data', 'Community-curated list of software packages and data resources for single-cell, including RNA-seq, ATAC-seq, etc.', 'Hackathon team: gene expression analysis for Covid-19', 'Examples of single-cell genomic analysis accelerated with RAPIDS', 'Single-Cell Analysis in Python. Scales to >1M cells.', 'SigProfilerExtractor allows de novo extraction of mutational signatures from data generated in a matrix format. The tool identifies the number of operative mutational signatures, their activities in each sample, and the probability for each signature to cause a specific mutation type in a cancer sample. The tool makes use of SigProfilerMatrixGenerator and SigProfilerPlotting. ', 'Extracting mutational signatures via LASSO. The manuscript of the method is available as a preprint at: https://www.biorxiv.org/content/10.1101/384834v3', 'Training requirements for joining projects', 'Deep Learning based variant calling toolkit - https://clara-parabricks.github.io/VariantWorks/', 'A list of women tech speakers & organizers. Add yourself or others by submitting a PR! PS if you do add someone, make sure to tell them! :) #fempire']\n"
          ]
        }
      ],
      "source": [
        "for i in range(2):\n",
        "  print(f\"User {i}: {map_user_to_projects[i]}\")"
      ]
    },
    {
      "cell_type": "code",
      "execution_count": null,
      "metadata": {
        "colab": {
          "base_uri": "https://localhost:8080/",
          "height": 641
        },
        "id": "Ybfvgejr6b-M",
        "outputId": "e6143afd-2636-4daa-c749-649bc414fd6f"
      },
      "outputs": [
        {
          "data": {
            "text/html": [
              "\n",
              "  <div id=\"df-0adb52ac-e906-417d-b093-1425b58981a3\" class=\"colab-df-container\">\n",
              "    <div>\n",
              "<style scoped>\n",
              "    .dataframe tbody tr th:only-of-type {\n",
              "        vertical-align: middle;\n",
              "    }\n",
              "\n",
              "    .dataframe tbody tr th {\n",
              "        vertical-align: top;\n",
              "    }\n",
              "\n",
              "    .dataframe thead th {\n",
              "        text-align: right;\n",
              "    }\n",
              "</style>\n",
              "<table border=\"1\" class=\"dataframe\">\n",
              "  <thead>\n",
              "    <tr style=\"text-align: right;\">\n",
              "      <th></th>\n",
              "      <th>role</th>\n",
              "      <th>experience_level</th>\n",
              "      <th>languages</th>\n",
              "      <th>tech_keywords</th>\n",
              "      <th>projects</th>\n",
              "      <th>experience_level_num</th>\n",
              "    </tr>\n",
              "  </thead>\n",
              "  <tbody>\n",
              "    <tr>\n",
              "      <th>5</th>\n",
              "      <td>Senior Software Engineer @microsoft</td>\n",
              "      <td>Beginner</td>\n",
              "      <td>[Shell, PowerShell, C#, Python, JavaScript]</td>\n",
              "      <td>['github', 'node', 'video', 'action', 'woke', ...</td>\n",
              "      <td>['A collection of tasks to enable execution My...</td>\n",
              "      <td>0</td>\n",
              "    </tr>\n",
              "    <tr>\n",
              "      <th>6</th>\n",
              "      <td>Principal AI Scientist at Genentech. Formerly ...</td>\n",
              "      <td>Beginner</td>\n",
              "      <td>[Python, Shell, R, Jupyter Notebook, Dockerfile]</td>\n",
              "      <td>['ecoli_promoter_mpra', 'training', 'women', '...</td>\n",
              "      <td>['DL based processing of atac-seq data', 'Comm...</td>\n",
              "      <td>0</td>\n",
              "    </tr>\n",
              "    <tr>\n",
              "      <th>8</th>\n",
              "      <td>CEO and Full-Stack Developer at SULLE WAREHOUSE</td>\n",
              "      <td>Beginner</td>\n",
              "      <td>[C, C++, CMake, Shell, Assembly]</td>\n",
              "      <td>['b', 'pixels', 'linux', 'parser', 'expression...</td>\n",
              "      <td>['The README for my personal GitHub account', ...</td>\n",
              "      <td>0</td>\n",
              "    </tr>\n",
              "    <tr>\n",
              "      <th>9</th>\n",
              "      <td>Machine learning, quantum computing, and every...</td>\n",
              "      <td>Beginner</td>\n",
              "      <td>[Python, Jupyter Notebook, Shell, C++, Starlark]</td>\n",
              "      <td>['Cybernetics', 'elden_bot', 'quantum', 'Quant...</td>\n",
              "      <td>['Final Project for CSCI 2500 Computer Organiz...</td>\n",
              "      <td>0</td>\n",
              "    </tr>\n",
              "    <tr>\n",
              "      <th>11</th>\n",
              "      <td>Co-founder, @levelshealth.</td>\n",
              "      <td>Beginner</td>\n",
              "      <td>[JavaScript, Scala, CSS, HTML, PHP]</td>\n",
              "      <td>['sublime', 'play', 'app', 'workflow', 'exampl...</td>\n",
              "      <td>['Alfred App Workflow for caniuse.com', 'Stati...</td>\n",
              "      <td>0</td>\n",
              "    </tr>\n",
              "    <tr>\n",
              "      <th>17</th>\n",
              "      <td>Lead Engineer at Nike.\\n\\nMostly cloud service...</td>\n",
              "      <td>Intermediate</td>\n",
              "      <td>[JavaScript, TypeScript, PHP, CSS, HTML]</td>\n",
              "      <td>['mee.js', 'Advanced', 'class.js', 'node', 'cu...</td>\n",
              "      <td>['SecretParser Plugin for the game http://www....</td>\n",
              "      <td>1</td>\n",
              "    </tr>\n",
              "    <tr>\n",
              "      <th>21</th>\n",
              "      <td>Physical oceanographer with a love of open sou...</td>\n",
              "      <td>Intermediate</td>\n",
              "      <td>[Jupyter Notebook, Python, HTML, Shell, TeX]</td>\n",
              "      <td>['MLINT', 'Notebooks', 'MITgcm66h', 'publicati...</td>\n",
              "      <td>['Repo for the April 10-12 workshop to be held...</td>\n",
              "      <td>1</td>\n",
              "    </tr>\n",
              "    <tr>\n",
              "      <th>22</th>\n",
              "      <td>Tinker, build, make, share.</td>\n",
              "      <td>Intermediate</td>\n",
              "      <td>[C++, C, JavaScript, HTML, CSS]</td>\n",
              "      <td>['ESP32Tests', 'eyeball_simulator', 'BlinkRC7'...</td>\n",
              "      <td>['Abandoned: attempt to make 15-tile sliding p...</td>\n",
              "      <td>1</td>\n",
              "    </tr>\n",
              "    <tr>\n",
              "      <th>26</th>\n",
              "      <td>:-)</td>\n",
              "      <td>Intermediate</td>\n",
              "      <td>[Python, Shell, C, Java, C++]</td>\n",
              "      <td>['MSRnet', 'codeBase', 'discord', 'CO224_Compu...</td>\n",
              "      <td>['ABS: Scanning Neural Networks for Back-doors...</td>\n",
              "      <td>1</td>\n",
              "    </tr>\n",
              "    <tr>\n",
              "      <th>28</th>\n",
              "      <td>Signal processing, radar, data science</td>\n",
              "      <td>Intermediate</td>\n",
              "      <td>[Shell, Batchfile, Python, Makefile, C]</td>\n",
              "      <td>['setup', 'asciimatics', 'adwaita', 'icon', 'c...</td>\n",
              "      <td>['A conda-smithy repository for adwaita-icon-t...</td>\n",
              "      <td>1</td>\n",
              "    </tr>\n",
              "    <tr>\n",
              "      <th>33</th>\n",
              "      <td>Content Writer, JavaScript Developer, and Sing...</td>\n",
              "      <td>Intermediate</td>\n",
              "      <td>[JavaScript, HTML, CSS, Shell, EJS]</td>\n",
              "      <td>['client', 'game_dig', 'blog_img', 'express_to...</td>\n",
              "      <td>['My submission to the 2013 js13kgames.com com...</td>\n",
              "      <td>1</td>\n",
              "    </tr>\n",
              "    <tr>\n",
              "      <th>36</th>\n",
              "      <td>iOS - Android security.</td>\n",
              "      <td>Beginner</td>\n",
              "      <td>[Makefile, Shell, Python, C, Objective-C]</td>\n",
              "      <td>['Nougat', 'Jailbreak', 'osx', 'xnu', 'iOS', '...</td>\n",
              "      <td>['Android Full Framework for Nougat.', 'Purpos...</td>\n",
              "      <td>0</td>\n",
              "    </tr>\n",
              "    <tr>\n",
              "      <th>39</th>\n",
              "      <td>Creative, detail-oriented software engineer wi...</td>\n",
              "      <td>Intermediate</td>\n",
              "      <td>[JavaScript, HTML, CSS, Shell, SCSS]</td>\n",
              "      <td>['react', 'Algorithm', 'Reactjs', 'redux', 'da...</td>\n",
              "      <td>['This repository contains System Design resou...</td>\n",
              "      <td>1</td>\n",
              "    </tr>\n",
              "    <tr>\n",
              "      <th>44</th>\n",
              "      <td>Developer, researcher, and geek.</td>\n",
              "      <td>Intermediate</td>\n",
              "      <td>[JavaScript, CSS, HTML, Shell, TypeScript]</td>\n",
              "      <td>['react', 'mocha', '', 'date', 'notes', 'appli...</td>\n",
              "      <td>['A React application exercise.', 'Various pro...</td>\n",
              "      <td>1</td>\n",
              "    </tr>\n",
              "    <tr>\n",
              "      <th>45</th>\n",
              "      <td>philosophy student</td>\n",
              "      <td>Intermediate</td>\n",
              "      <td>[Makefile, Shell, C, Python, Perl]</td>\n",
              "      <td>['old', 'elogind', 'discord', 'bsdunzip', 'com...</td>\n",
              "      <td>['Mirror of aports repository', 'Up to date Ar...</td>\n",
              "      <td>1</td>\n",
              "    </tr>\n",
              "  </tbody>\n",
              "</table>\n",
              "</div>\n",
              "    <div class=\"colab-df-buttons\">\n",
              "\n",
              "  <div class=\"colab-df-container\">\n",
              "    <button class=\"colab-df-convert\" onclick=\"convertToInteractive('df-0adb52ac-e906-417d-b093-1425b58981a3')\"\n",
              "            title=\"Convert this dataframe to an interactive table.\"\n",
              "            style=\"display:none;\">\n",
              "\n",
              "  <svg xmlns=\"http://www.w3.org/2000/svg\" height=\"24px\" viewBox=\"0 -960 960 960\">\n",
              "    <path d=\"M120-120v-720h720v720H120Zm60-500h600v-160H180v160Zm220 220h160v-160H400v160Zm0 220h160v-160H400v160ZM180-400h160v-160H180v160Zm440 0h160v-160H620v160ZM180-180h160v-160H180v160Zm440 0h160v-160H620v160Z\"/>\n",
              "  </svg>\n",
              "    </button>\n",
              "\n",
              "  <style>\n",
              "    .colab-df-container {\n",
              "      display:flex;\n",
              "      gap: 12px;\n",
              "    }\n",
              "\n",
              "    .colab-df-convert {\n",
              "      background-color: #E8F0FE;\n",
              "      border: none;\n",
              "      border-radius: 50%;\n",
              "      cursor: pointer;\n",
              "      display: none;\n",
              "      fill: #1967D2;\n",
              "      height: 32px;\n",
              "      padding: 0 0 0 0;\n",
              "      width: 32px;\n",
              "    }\n",
              "\n",
              "    .colab-df-convert:hover {\n",
              "      background-color: #E2EBFA;\n",
              "      box-shadow: 0px 1px 2px rgba(60, 64, 67, 0.3), 0px 1px 3px 1px rgba(60, 64, 67, 0.15);\n",
              "      fill: #174EA6;\n",
              "    }\n",
              "\n",
              "    .colab-df-buttons div {\n",
              "      margin-bottom: 4px;\n",
              "    }\n",
              "\n",
              "    [theme=dark] .colab-df-convert {\n",
              "      background-color: #3B4455;\n",
              "      fill: #D2E3FC;\n",
              "    }\n",
              "\n",
              "    [theme=dark] .colab-df-convert:hover {\n",
              "      background-color: #434B5C;\n",
              "      box-shadow: 0px 1px 3px 1px rgba(0, 0, 0, 0.15);\n",
              "      filter: drop-shadow(0px 1px 2px rgba(0, 0, 0, 0.3));\n",
              "      fill: #FFFFFF;\n",
              "    }\n",
              "  </style>\n",
              "\n",
              "    <script>\n",
              "      const buttonEl =\n",
              "        document.querySelector('#df-0adb52ac-e906-417d-b093-1425b58981a3 button.colab-df-convert');\n",
              "      buttonEl.style.display =\n",
              "        google.colab.kernel.accessAllowed ? 'block' : 'none';\n",
              "\n",
              "      async function convertToInteractive(key) {\n",
              "        const element = document.querySelector('#df-0adb52ac-e906-417d-b093-1425b58981a3');\n",
              "        const dataTable =\n",
              "          await google.colab.kernel.invokeFunction('convertToInteractive',\n",
              "                                                    [key], {});\n",
              "        if (!dataTable) return;\n",
              "\n",
              "        const docLinkHtml = 'Like what you see? Visit the ' +\n",
              "          '<a target=\"_blank\" href=https://colab.research.google.com/notebooks/data_table.ipynb>data table notebook</a>'\n",
              "          + ' to learn more about interactive tables.';\n",
              "        element.innerHTML = '';\n",
              "        dataTable['output_type'] = 'display_data';\n",
              "        await google.colab.output.renderOutput(dataTable, element);\n",
              "        const docLink = document.createElement('div');\n",
              "        docLink.innerHTML = docLinkHtml;\n",
              "        element.appendChild(docLink);\n",
              "      }\n",
              "    </script>\n",
              "  </div>\n",
              "\n",
              "\n",
              "<div id=\"df-1924c15e-5c69-451e-878e-a417cc41e79c\">\n",
              "  <button class=\"colab-df-quickchart\" onclick=\"quickchart('df-1924c15e-5c69-451e-878e-a417cc41e79c')\"\n",
              "            title=\"Suggest charts\"\n",
              "            style=\"display:none;\">\n",
              "\n",
              "<svg xmlns=\"http://www.w3.org/2000/svg\" height=\"24px\"viewBox=\"0 0 24 24\"\n",
              "     width=\"24px\">\n",
              "    <g>\n",
              "        <path d=\"M19 3H5c-1.1 0-2 .9-2 2v14c0 1.1.9 2 2 2h14c1.1 0 2-.9 2-2V5c0-1.1-.9-2-2-2zM9 17H7v-7h2v7zm4 0h-2V7h2v10zm4 0h-2v-4h2v4z\"/>\n",
              "    </g>\n",
              "</svg>\n",
              "  </button>\n",
              "\n",
              "<style>\n",
              "  .colab-df-quickchart {\n",
              "      --bg-color: #E8F0FE;\n",
              "      --fill-color: #1967D2;\n",
              "      --hover-bg-color: #E2EBFA;\n",
              "      --hover-fill-color: #174EA6;\n",
              "      --disabled-fill-color: #AAA;\n",
              "      --disabled-bg-color: #DDD;\n",
              "  }\n",
              "\n",
              "  [theme=dark] .colab-df-quickchart {\n",
              "      --bg-color: #3B4455;\n",
              "      --fill-color: #D2E3FC;\n",
              "      --hover-bg-color: #434B5C;\n",
              "      --hover-fill-color: #FFFFFF;\n",
              "      --disabled-bg-color: #3B4455;\n",
              "      --disabled-fill-color: #666;\n",
              "  }\n",
              "\n",
              "  .colab-df-quickchart {\n",
              "    background-color: var(--bg-color);\n",
              "    border: none;\n",
              "    border-radius: 50%;\n",
              "    cursor: pointer;\n",
              "    display: none;\n",
              "    fill: var(--fill-color);\n",
              "    height: 32px;\n",
              "    padding: 0;\n",
              "    width: 32px;\n",
              "  }\n",
              "\n",
              "  .colab-df-quickchart:hover {\n",
              "    background-color: var(--hover-bg-color);\n",
              "    box-shadow: 0 1px 2px rgba(60, 64, 67, 0.3), 0 1px 3px 1px rgba(60, 64, 67, 0.15);\n",
              "    fill: var(--button-hover-fill-color);\n",
              "  }\n",
              "\n",
              "  .colab-df-quickchart-complete:disabled,\n",
              "  .colab-df-quickchart-complete:disabled:hover {\n",
              "    background-color: var(--disabled-bg-color);\n",
              "    fill: var(--disabled-fill-color);\n",
              "    box-shadow: none;\n",
              "  }\n",
              "\n",
              "  .colab-df-spinner {\n",
              "    border: 2px solid var(--fill-color);\n",
              "    border-color: transparent;\n",
              "    border-bottom-color: var(--fill-color);\n",
              "    animation:\n",
              "      spin 1s steps(1) infinite;\n",
              "  }\n",
              "\n",
              "  @keyframes spin {\n",
              "    0% {\n",
              "      border-color: transparent;\n",
              "      border-bottom-color: var(--fill-color);\n",
              "      border-left-color: var(--fill-color);\n",
              "    }\n",
              "    20% {\n",
              "      border-color: transparent;\n",
              "      border-left-color: var(--fill-color);\n",
              "      border-top-color: var(--fill-color);\n",
              "    }\n",
              "    30% {\n",
              "      border-color: transparent;\n",
              "      border-left-color: var(--fill-color);\n",
              "      border-top-color: var(--fill-color);\n",
              "      border-right-color: var(--fill-color);\n",
              "    }\n",
              "    40% {\n",
              "      border-color: transparent;\n",
              "      border-right-color: var(--fill-color);\n",
              "      border-top-color: var(--fill-color);\n",
              "    }\n",
              "    60% {\n",
              "      border-color: transparent;\n",
              "      border-right-color: var(--fill-color);\n",
              "    }\n",
              "    80% {\n",
              "      border-color: transparent;\n",
              "      border-right-color: var(--fill-color);\n",
              "      border-bottom-color: var(--fill-color);\n",
              "    }\n",
              "    90% {\n",
              "      border-color: transparent;\n",
              "      border-bottom-color: var(--fill-color);\n",
              "    }\n",
              "  }\n",
              "</style>\n",
              "\n",
              "  <script>\n",
              "    async function quickchart(key) {\n",
              "      const quickchartButtonEl =\n",
              "        document.querySelector('#' + key + ' button');\n",
              "      quickchartButtonEl.disabled = true;  // To prevent multiple clicks.\n",
              "      quickchartButtonEl.classList.add('colab-df-spinner');\n",
              "      try {\n",
              "        const charts = await google.colab.kernel.invokeFunction(\n",
              "            'suggestCharts', [key], {});\n",
              "      } catch (error) {\n",
              "        console.error('Error during call to suggestCharts:', error);\n",
              "      }\n",
              "      quickchartButtonEl.classList.remove('colab-df-spinner');\n",
              "      quickchartButtonEl.classList.add('colab-df-quickchart-complete');\n",
              "    }\n",
              "    (() => {\n",
              "      let quickchartButtonEl =\n",
              "        document.querySelector('#df-1924c15e-5c69-451e-878e-a417cc41e79c button');\n",
              "      quickchartButtonEl.style.display =\n",
              "        google.colab.kernel.accessAllowed ? 'block' : 'none';\n",
              "    })();\n",
              "  </script>\n",
              "</div>\n",
              "\n",
              "    </div>\n",
              "  </div>\n"
            ],
            "text/plain": [
              "0                                                role experience_level  \\\n",
              "5                 Senior Software Engineer @microsoft         Beginner   \n",
              "6   Principal AI Scientist at Genentech. Formerly ...         Beginner   \n",
              "8     CEO and Full-Stack Developer at SULLE WAREHOUSE         Beginner   \n",
              "9   Machine learning, quantum computing, and every...         Beginner   \n",
              "11                         Co-founder, @levelshealth.         Beginner   \n",
              "17  Lead Engineer at Nike.\\n\\nMostly cloud service...     Intermediate   \n",
              "21  Physical oceanographer with a love of open sou...     Intermediate   \n",
              "22                        Tinker, build, make, share.     Intermediate   \n",
              "26                                                :-)     Intermediate   \n",
              "28             Signal processing, radar, data science     Intermediate   \n",
              "33  Content Writer, JavaScript Developer, and Sing...     Intermediate   \n",
              "36                           iOS - Android security.          Beginner   \n",
              "39  Creative, detail-oriented software engineer wi...     Intermediate   \n",
              "44                   Developer, researcher, and geek.     Intermediate   \n",
              "45                                 philosophy student     Intermediate   \n",
              "\n",
              "0                                          languages  \\\n",
              "5        [Shell, PowerShell, C#, Python, JavaScript]   \n",
              "6   [Python, Shell, R, Jupyter Notebook, Dockerfile]   \n",
              "8                   [C, C++, CMake, Shell, Assembly]   \n",
              "9   [Python, Jupyter Notebook, Shell, C++, Starlark]   \n",
              "11               [JavaScript, Scala, CSS, HTML, PHP]   \n",
              "17          [JavaScript, TypeScript, PHP, CSS, HTML]   \n",
              "21      [Jupyter Notebook, Python, HTML, Shell, TeX]   \n",
              "22                   [C++, C, JavaScript, HTML, CSS]   \n",
              "26                     [Python, Shell, C, Java, C++]   \n",
              "28           [Shell, Batchfile, Python, Makefile, C]   \n",
              "33               [JavaScript, HTML, CSS, Shell, EJS]   \n",
              "36         [Makefile, Shell, Python, C, Objective-C]   \n",
              "39              [JavaScript, HTML, CSS, Shell, SCSS]   \n",
              "44        [JavaScript, CSS, HTML, Shell, TypeScript]   \n",
              "45                [Makefile, Shell, C, Python, Perl]   \n",
              "\n",
              "0                                       tech_keywords  \\\n",
              "5   ['github', 'node', 'video', 'action', 'woke', ...   \n",
              "6   ['ecoli_promoter_mpra', 'training', 'women', '...   \n",
              "8   ['b', 'pixels', 'linux', 'parser', 'expression...   \n",
              "9   ['Cybernetics', 'elden_bot', 'quantum', 'Quant...   \n",
              "11  ['sublime', 'play', 'app', 'workflow', 'exampl...   \n",
              "17  ['mee.js', 'Advanced', 'class.js', 'node', 'cu...   \n",
              "21  ['MLINT', 'Notebooks', 'MITgcm66h', 'publicati...   \n",
              "22  ['ESP32Tests', 'eyeball_simulator', 'BlinkRC7'...   \n",
              "26  ['MSRnet', 'codeBase', 'discord', 'CO224_Compu...   \n",
              "28  ['setup', 'asciimatics', 'adwaita', 'icon', 'c...   \n",
              "33  ['client', 'game_dig', 'blog_img', 'express_to...   \n",
              "36  ['Nougat', 'Jailbreak', 'osx', 'xnu', 'iOS', '...   \n",
              "39  ['react', 'Algorithm', 'Reactjs', 'redux', 'da...   \n",
              "44  ['react', 'mocha', '', 'date', 'notes', 'appli...   \n",
              "45  ['old', 'elogind', 'discord', 'bsdunzip', 'com...   \n",
              "\n",
              "0                                            projects  experience_level_num  \n",
              "5   ['A collection of tasks to enable execution My...                     0  \n",
              "6   ['DL based processing of atac-seq data', 'Comm...                     0  \n",
              "8   ['The README for my personal GitHub account', ...                     0  \n",
              "9   ['Final Project for CSCI 2500 Computer Organiz...                     0  \n",
              "11  ['Alfred App Workflow for caniuse.com', 'Stati...                     0  \n",
              "17  ['SecretParser Plugin for the game http://www....                     1  \n",
              "21  ['Repo for the April 10-12 workshop to be held...                     1  \n",
              "22  ['Abandoned: attempt to make 15-tile sliding p...                     1  \n",
              "26  ['ABS: Scanning Neural Networks for Back-doors...                     1  \n",
              "28  ['A conda-smithy repository for adwaita-icon-t...                     1  \n",
              "33  ['My submission to the 2013 js13kgames.com com...                     1  \n",
              "36  ['Android Full Framework for Nougat.', 'Purpos...                     0  \n",
              "39  ['This repository contains System Design resou...                     1  \n",
              "44  ['A React application exercise.', 'Various pro...                     1  \n",
              "45  ['Mirror of aports repository', 'Up to date Ar...                     1  "
            ]
          },
          "execution_count": 17,
          "metadata": {},
          "output_type": "execute_result"
        }
      ],
      "source": [
        "data.head(15)"
      ]
    },
    {
      "cell_type": "code",
      "execution_count": null,
      "metadata": {
        "id": "GuspcTxYc5XK"
      },
      "outputs": [],
      "source": [
        "dataset = []"
      ]
    },
    {
      "cell_type": "code",
      "execution_count": null,
      "metadata": {
        "colab": {
          "base_uri": "https://localhost:8080/"
        },
        "id": "AV4_8nTCgatt",
        "outputId": "ad32fe39-512a-4e72-bb25-5d595f395d3e"
      },
      "outputs": [
        {
          "data": {
            "text/plain": [
              "0"
            ]
          },
          "execution_count": 78,
          "metadata": {},
          "output_type": "execute_result"
        }
      ],
      "source": [
        "len(dataset)"
      ]
    },
    {
      "cell_type": "code",
      "execution_count": null,
      "metadata": {
        "colab": {
          "base_uri": "https://localhost:8080/"
        },
        "id": "F3tr0LfRHLq2",
        "outputId": "d5140efc-0d52-4fc9-fe6f-6b0d2c1fa12a"
      },
      "outputs": [
        {
          "data": {
            "text/plain": [
              "9"
            ]
          },
          "execution_count": 85,
          "metadata": {},
          "output_type": "execute_result"
        }
      ],
      "source": [
        "len(map_user_to_projects[0])"
      ]
    },
    {
      "cell_type": "code",
      "execution_count": null,
      "metadata": {
        "colab": {
          "base_uri": "https://localhost:8080/"
        },
        "id": "yvbV5RtBc9Ez",
        "outputId": "64b7edb8-2827-4b29-a1ed-e3e61eed4503"
      },
      "outputs": [
        {
          "name": "stdout",
          "output_type": "stream",
          "text": [
            "num matches:  2\n",
            "len(dataset): 9\n",
            "len(dataset): 19\n"
          ]
        }
      ],
      "source": [
        "file = open(\"negative_match.txt\", \"r\")\n",
        "num_matches = len(file.read().splitlines())\n",
        "file.close()\n",
        "print(\"num matches: \", num_matches)\n",
        "\n",
        "start_project_range = 0\n",
        "for user_num, user_profile in enumerate(user_profiles):\n",
        "  if user_num == num_matches: break\n",
        "  for project_embedding in projects_embedded[start_project_range:start_project_range+len(map_user_to_projects[user_num])]:\n",
        "    dataset.append((user_profile, project_embedding, 1))\n",
        "  start_project_range += len(map_user_to_projects[user_num])\n",
        "\n"
      ]
    },
    {
      "cell_type": "code",
      "execution_count": null,
      "metadata": {
        "colab": {
          "base_uri": "https://localhost:8080/"
        },
        "id": "349JnZCmr9cy",
        "outputId": "6543fdaa-edec-42f9-d8af-c6f02a12db0a"
      },
      "outputs": [
        {
          "data": {
            "text/plain": [
              "19"
            ]
          },
          "execution_count": 90,
          "metadata": {},
          "output_type": "execute_result"
        }
      ],
      "source": [
        "len(dataset)"
      ]
    },
    {
      "cell_type": "markdown",
      "metadata": {
        "id": "CW-Co1c06eh5"
      },
      "source": [
        "better manual method"
      ]
    },
    {
      "cell_type": "code",
      "execution_count": null,
      "metadata": {
        "id": "9kWLEOeJ3aRx"
      },
      "outputs": [],
      "source": [
        "# manual small dataset testing\n",
        "\n",
        "def find_project_start_index_for_given_user(user_num):\n",
        "  i = 0\n",
        "  index = 0\n",
        "  while i != user_num:\n",
        "    index += len(map_user_to_projects[i])\n",
        "    i += 1\n",
        "  return index\n",
        "\n",
        "def add_negative_example_given_non_matching_user_profiles_manually(user1: int, non_matching_user2: int):\n",
        "  start_index = find_project_start_index_for_given_user(non_matching_user2)\n",
        "  for i in range(len(map_user_to_projects[non_matching_user2])):\n",
        "    dataset.append((user_profiles[user1], projects_embedded[start_index + i], 0))\n",
        "\n",
        "def add_positive_example_given_non_matching_user_profiles_manually(user1: int, non_matching_user2: int):\n",
        "  start_index = find_project_start_index_for_given_user(non_matching_user2)\n",
        "  for i in range(len(map_user_to_projects[non_matching_user2])):\n",
        "    dataset.append((user_profiles[user1], projects_embedded[start_index + i], 1))"
      ]
    },
    {
      "cell_type": "code",
      "execution_count": null,
      "metadata": {
        "id": "Vdm3hg4F6CcZ"
      },
      "outputs": [],
      "source": [
        "file = open(\"negative_match.txt\", \"r\")\n",
        "\n",
        "lines = file.read().splitlines()\n",
        "neg_matches = []\n",
        "\n",
        "for line in lines:\n",
        "  first, second = line.split(\",\")\n",
        "  neg_matches.append((int(first), int(second)))\n",
        "\n",
        "for first, second in neg_matches:\n",
        "  add_negative_example_given_non_matching_user_profiles_manually(first, second)\n",
        "\n",
        "file.close()\n"
      ]
    },
    {
      "cell_type": "code",
      "execution_count": null,
      "metadata": {
        "colab": {
          "base_uri": "https://localhost:8080/"
        },
        "id": "pFED4f2pfpzt",
        "outputId": "2b320695-4404-4a70-bb7b-422d43e8737e"
      },
      "outputs": [
        {
          "data": {
            "text/plain": [
              "38"
            ]
          },
          "execution_count": 92,
          "metadata": {},
          "output_type": "execute_result"
        }
      ],
      "source": [
        "len(dataset)"
      ]
    },
    {
      "cell_type": "code",
      "execution_count": null,
      "metadata": {
        "colab": {
          "base_uri": "https://localhost:8080/"
        },
        "id": "s-NQ_2T7hXVO",
        "outputId": "a790c30f-d0ab-4514-8e7b-05f020646ff0"
      },
      "outputs": [
        {
          "data": {
            "text/plain": [
              "(<tf.Tensor: shape=(237,), dtype=float32, numpy=\n",
              " array([-0.9998977 ,  0.02674753, -0.95229065,  0.07566944, -0.98473793,\n",
              "         0.8515617 , -0.9891793 , -0.06120098,  0.07552765, -0.00853382,\n",
              "        -0.33273837, -0.07438556, -0.13768643,  0.99698657,  0.20532432,\n",
              "         0.00142703,  0.9212176 ,  0.066608  , -0.86612004, -0.28353733,\n",
              "         0.5697272 ,  0.06278628, -0.8876335 , -0.82182   , -0.9968265 ,\n",
              "        -0.06983151, -0.9948706 ,  0.974122  ,  0.81316996,  0.1028368 ,\n",
              "         0.09937278, -0.0886519 , -0.86351496, -0.9690397 ,  0.7592347 ,\n",
              "         0.996806  , -0.92572796, -0.00526048,  0.51379555, -0.9914838 ,\n",
              "         0.9527194 ,  0.9840963 , -0.99205375,  0.84864724, -0.88819516,\n",
              "        -0.19925441, -0.86289763,  0.9918394 , -0.5801045 ,  0.9990769 ,\n",
              "        -0.5767053 , -0.9606845 , -0.01358342,  0.89274883,  0.8692733 ,\n",
              "         0.59175795, -0.12701385,  0.19582532,  0.9900831 ,  0.7635511 ,\n",
              "         0.08241388, -0.01632024, -0.21319991,  0.7888896 , -0.6095279 ,\n",
              "        -0.99815786,  0.5985274 ,  0.30448887,  0.7767534 ,  0.94538933,\n",
              "         0.99744296,  0.28411013, -0.95372397,  0.0897599 ,  0.8989223 ,\n",
              "        -0.99616855, -0.9038413 ,  0.18534206, -0.5897031 ,  0.02072463,\n",
              "        -0.08313274, -0.02924383, -0.32113564, -0.9986659 ,  0.9884711 ,\n",
              "        -0.9599133 , -0.8250122 , -0.98161006, -0.97992784, -0.28468037,\n",
              "         0.85108006,  0.98269707, -0.87811863,  0.8836258 ,  0.9175378 ,\n",
              "         0.9093333 , -0.53736395,  0.8416976 , -0.99543273, -0.35718548,\n",
              "        -0.97044927, -0.167644  , -0.985918  , -0.9847769 , -0.9972612 ,\n",
              "        -0.19615552, -0.99557334, -0.8198126 , -0.89413035,  0.40607387,\n",
              "         0.993286  ,  0.39813516, -0.2018834 ,  0.98810804, -0.9861045 ,\n",
              "         0.1934642 , -0.9734886 ,  0.7728439 ,  0.12730266, -0.999747  ,\n",
              "         0.1289949 , -0.99871373, -0.94100636,  0.76040995, -0.98724705,\n",
              "         0.9979098 ,  0.92519665,  0.98347044,  0.        ,  0.        ,\n",
              "         0.        ,  0.        ,  0.        ,  0.        ,  0.        ,\n",
              "         0.        ,  0.        ,  0.        ,  0.        ,  0.        ,\n",
              "         0.        ,  0.        ,  1.        ,  0.        ,  0.        ,\n",
              "         0.        ,  0.        ,  0.        ,  0.        ,  0.        ,\n",
              "         0.        ,  0.        ,  0.        ,  0.        ,  0.        ,\n",
              "         0.        ,  0.        ,  0.        ,  0.        ,  0.        ,\n",
              "         0.        ,  0.        ,  0.        ,  0.        ,  0.        ,\n",
              "         0.        ,  0.        ,  0.        ,  0.        ,  0.        ,\n",
              "         0.        ,  0.        ,  0.        ,  0.        ,  0.        ,\n",
              "         0.        ,  0.        ,  1.        ,  0.        ,  0.        ,\n",
              "         0.        ,  0.        ,  0.        ,  0.        ,  0.        ,\n",
              "         0.        ,  0.        ,  0.        ,  0.        ,  0.        ,\n",
              "         0.        ,  0.        ,  0.        ,  0.        ,  0.        ,\n",
              "         0.        ,  0.        ,  0.        ,  0.        ,  0.        ,\n",
              "         0.        ,  0.        ,  0.        ,  0.        ,  1.        ,\n",
              "         0.        ,  0.        ,  1.        ,  0.        ,  0.        ,\n",
              "         0.        ,  0.        ,  0.        ,  0.        ,  0.        ,\n",
              "         0.        ,  0.        ,  0.        ,  0.        ,  1.        ,\n",
              "         0.        ,  0.        ,  0.        ,  0.        ,  0.        ,\n",
              "         0.        ,  0.        ,  0.        ,  0.        ,  0.        ,\n",
              "         0.        ,  0.        ,  0.        ,  0.        ,  0.        ,\n",
              "         0.        ,  0.        ], dtype=float32)>,\n",
              " <tf.Tensor: shape=(128,), dtype=float32, numpy=\n",
              " array([-0.99997556,  0.10367937, -0.99484557,  0.20247303, -0.983751  ,\n",
              "         0.5019201 , -0.9958578 , -0.93500596,  0.08978978, -0.10646143,\n",
              "        -0.95633787, -0.12278103, -0.05347224,  0.9999581 ,  0.6716952 ,\n",
              "        -0.9695135 ,  0.58677894,  0.15617815, -0.59735435,  0.6536289 ,\n",
              "         0.9242595 , -0.0304998 ,  0.6641621 , -0.20273903, -0.9998259 ,\n",
              "        -0.15405513, -0.99992   ,  0.7692286 ,  0.9868126 , -0.10249873,\n",
              "        -0.0312486 , -0.01830142, -0.99403936, -0.59318924,  0.52490395,\n",
              "         0.99991727, -0.96331966,  0.01014567,  0.9866431 , -0.9893402 ,\n",
              "         0.97925   ,  0.9670491 , -0.9964754 ,  0.8972413 , -0.9982625 ,\n",
              "        -0.08672383, -0.9943723 ,  0.9972327 , -0.03944946,  0.99932474,\n",
              "         0.95592624, -0.9642907 , -0.04157207,  0.95110816,  0.9664468 ,\n",
              "         0.9926298 , -0.96393967,  0.20875886,  0.9001865 , -0.9660278 ,\n",
              "         0.01059676,  0.78682435, -0.6277585 ,  0.88548344,  0.7393845 ,\n",
              "        -0.9999417 , -0.13887125,  0.29154357,  0.71336657,  0.9825898 ,\n",
              "         0.99899215,  0.24746516, -0.9937111 ,  0.01890815,  0.26573765,\n",
              "        -0.9907966 ,  0.20934236,  0.12016849, -0.902037  , -0.05549364,\n",
              "        -0.68548757, -0.10025307, -0.8929772 , -0.9996499 ,  0.9999245 ,\n",
              "        -0.99792325,  0.70607305, -0.98736274, -0.86197597,  0.97642237,\n",
              "        -0.85341537,  0.84387404, -0.3401456 ,  0.9936911 ,  0.9450031 ,\n",
              "         0.69817215, -0.91296864,  0.2718971 , -0.99668133, -0.96969295,\n",
              "        -0.991983  ,  0.9098878 , -0.99761724, -0.1601275 , -0.9913866 ,\n",
              "        -0.92585784, -0.999496  , -0.96771455, -0.19039267,  0.47136983,\n",
              "         0.99279404, -0.17062446, -0.84344435,  0.95749664, -0.9997744 ,\n",
              "         0.01016453, -0.04463772,  0.518246  ,  0.14840549, -0.9981674 ,\n",
              "         0.15670674, -0.9998466 , -0.7735771 ,  0.88839   , -0.9963811 ,\n",
              "         0.987865  ,  0.9961912 ,  0.9377838 ], dtype=float32)>,\n",
              " 1)"
            ]
          },
          "execution_count": 25,
          "metadata": {},
          "output_type": "execute_result"
        }
      ],
      "source": [
        "dataset[0]"
      ]
    },
    {
      "cell_type": "code",
      "execution_count": null,
      "metadata": {
        "id": "6ivpRaC6hkIA"
      },
      "outputs": [],
      "source": [
        "import random\n",
        "\n",
        "# Shuffle the dataset\n",
        "random.shuffle(dataset)"
      ]
    },
    {
      "cell_type": "code",
      "execution_count": null,
      "metadata": {
        "id": "lkTNGqWhhjcU"
      },
      "outputs": [],
      "source": [
        "# Split the dataset into features and labels\n",
        "features = [(user_profile, project_embedding) for user_profile, project_embedding, _ in dataset]\n",
        "labels = [label for _, _, label in dataset]"
      ]
    },
    {
      "cell_type": "code",
      "execution_count": null,
      "metadata": {
        "colab": {
          "base_uri": "https://localhost:8080/"
        },
        "id": "SPnr5npWhpxT",
        "outputId": "12089d9f-8ed9-4142-b2de-f734ba02fb4c"
      },
      "outputs": [
        {
          "name": "stderr",
          "output_type": "stream",
          "text": [
            "<ipython-input-95-b8892ba2606d>:2: VisibleDeprecationWarning: Creating an ndarray from ragged nested sequences (which is a list-or-tuple of lists-or-tuples-or ndarrays with different lengths or shapes) is deprecated. If you meant to do this, you must specify 'dtype=object' when creating the ndarray.\n",
            "  features = np.array(features)\n"
          ]
        }
      ],
      "source": [
        "# Convert to numpy arrays or tensors as required for training\n",
        "features = np.array(features)\n",
        "labels = np.array(labels)"
      ]
    },
    {
      "cell_type": "code",
      "execution_count": null,
      "metadata": {
        "colab": {
          "base_uri": "https://localhost:8080/"
        },
        "id": "4lfHIX0ahvP4",
        "outputId": "2422ebfd-9782-4f91-e6dd-fedf9a009194"
      },
      "outputs": [
        {
          "data": {
            "text/plain": [
              "38"
            ]
          },
          "execution_count": 96,
          "metadata": {},
          "output_type": "execute_result"
        }
      ],
      "source": [
        "len(labels)"
      ]
    },
    {
      "cell_type": "code",
      "execution_count": null,
      "metadata": {
        "id": "DxhoyKIKcvgu"
      },
      "outputs": [],
      "source": [
        "# Hyperparameters (you can adjust these based on your needs)\n",
        "embedding_size = 256  # Size of the final embeddings\n",
        "dropout_rate = 0.05    # Dropout rate for regularization\n",
        "\n",
        "# User Profile Branch\n",
        "user_input = Input(shape=(237,))\n",
        "user_branch = Dense(128, activation='relu')(user_input)\n",
        "# user_branch = tf.keras.layers.Dropout(dropout_rate)(user_branch)\n",
        "user_branch = Dense(64, activation='relu')(user_branch)\n",
        "\n",
        "# Project Description Branch\n",
        "project_input = Input(shape=(128,))\n",
        "project_branch = Dense(64, activation='relu')(project_input)\n",
        "# project_branch = tf.keras.layers.Dropout(dropout_rate)(project_branch)\n",
        "project_branch = Dense(64, activation='relu')(project_branch)\n",
        "\n",
        "# # User Profile Branch\n",
        "# user_input = Input(shape=(237,))  # Adjust the shape based on your concatenated user profile tensor\n",
        "# user_branch = Dense(512, activation='relu')(user_input)\n",
        "\n",
        "# user_branch = Dense(256, activation='relu')(user_branch)\n",
        "# user_branch = tf.keras.layers.Dropout(dropout_rate)(user_branch)\n",
        "# user_branch = Dense(embedding_size, activation='relu')(user_branch)\n",
        "\n",
        "# # Project Description Branch\n",
        "# project_input = Input(shape=(128,))  # Adjust the shape based on your BERT embeddings\n",
        "# project_branch = Dense(256, activation='relu')(project_input)\n",
        "# project_branch = tf.keras.layers.Dropout(dropout_rate)(project_branch)\n",
        "# project_branch = Dense(128, activation='relu')(project_branch)\n",
        "# project_branch = tf.keras.layers.Dropout(dropout_rate)(project_branch)\n",
        "# project_branch = Dense(embedding_size, activation='relu')(project_branch)"
      ]
    },
    {
      "cell_type": "code",
      "execution_count": null,
      "metadata": {
        "colab": {
          "base_uri": "https://localhost:8080/"
        },
        "id": "hM7nO1K976AT",
        "outputId": "bf902c1a-bdee-4bca-e65f-6b26e6c060f4"
      },
      "outputs": [
        {
          "name": "stdout",
          "output_type": "stream",
          "text": [
            "Model: \"model_5\"\n",
            "__________________________________________________________________________________________________\n",
            " Layer (type)                Output Shape                 Param #   Connected to                  \n",
            "==================================================================================================\n",
            " input_11 (InputLayer)       [(None, 237)]                0         []                            \n",
            "                                                                                                  \n",
            " input_12 (InputLayer)       [(None, 128)]                0         []                            \n",
            "                                                                                                  \n",
            " dense_20 (Dense)            (None, 128)                  30464     ['input_11[0][0]']            \n",
            "                                                                                                  \n",
            " dense_22 (Dense)            (None, 64)                   8256      ['input_12[0][0]']            \n",
            "                                                                                                  \n",
            " dense_21 (Dense)            (None, 64)                   8256      ['dense_20[0][0]']            \n",
            "                                                                                                  \n",
            " dense_23 (Dense)            (None, 64)                   4160      ['dense_22[0][0]']            \n",
            "                                                                                                  \n",
            " lambda_5 (Lambda)           (None, 1)                    0         ['dense_21[0][0]',            \n",
            "                                                                     'dense_23[0][0]']            \n",
            "                                                                                                  \n",
            "==================================================================================================\n",
            "Total params: 51136 (199.75 KB)\n",
            "Trainable params: 51136 (199.75 KB)\n",
            "Non-trainable params: 0 (0.00 Byte)\n",
            "__________________________________________________________________________________________________\n"
          ]
        }
      ],
      "source": [
        "# Distance Layer\n",
        "def euclidean_distance(vectors):\n",
        "    x, y = vectors\n",
        "    sum_square = tf.reduce_sum(tf.square(x - y), axis=1, keepdims=True)\n",
        "    return tf.sqrt(sum_square)\n",
        "\n",
        "# def cosine_similarity(vectors):\n",
        "#     # Unpack the vectors\n",
        "#     vector_a, vector_b = vectors\n",
        "\n",
        "#     # Compute the cosine similarity\n",
        "#     a_norm = tf.nn.l2_normalize(vector_a, axis=1)\n",
        "#     b_norm = tf.nn.l2_normalize(vector_b, axis=1)\n",
        "#     cosine_similarity = tf.reduce_sum(tf.multiply(a_norm, b_norm), axis=1)\n",
        "\n",
        "#     # Reshape to ensure the output shape is correct\n",
        "#     return tf.reshape(cosine_similarity, [-1, 1])\n",
        "\n",
        "distance = Lambda(euclidean_distance)([user_branch, project_branch])\n",
        "\n",
        "# Siamese Network Model\n",
        "siamese_network = Model(inputs=[user_input, project_input], outputs=distance)\n",
        "\n",
        "# Contrastive Loss Function\n",
        "def contrastive_loss(y_true, y_pred):\n",
        "    margin = 1\n",
        "    square_pred = tf.square(y_pred)\n",
        "    margin_square = tf.square(tf.maximum(margin - y_pred, 0))\n",
        "    return tf.reduce_mean(y_true * square_pred + (1 - y_true) * margin_square)\n",
        "\n",
        "# Define a custom accuracy metric\n",
        "def accuracy(y_true, y_pred):\n",
        "    '''Compute classification accuracy with a fixed threshold on distances.\n",
        "    '''\n",
        "    return tf.keras.metrics.binary_accuracy(y_true, tf.cast(y_pred < 0.5, dtype=tf.float32))\n",
        "\n",
        "# Compile the model with the custom accuracy metric\n",
        "siamese_network.compile(optimizer=\"adam\", loss=contrastive_loss, metrics=[accuracy])\n",
        "\n",
        "# Model Summary\n",
        "siamese_network.summary()"
      ]
    },
    {
      "cell_type": "code",
      "execution_count": null,
      "metadata": {
        "id": "5_o0oL85iJuP"
      },
      "outputs": [],
      "source": [
        "# prepare data for training\n",
        "\n",
        "user_profiles, project_embeddings = zip(*features)\n",
        "user_profiles = np.array(user_profiles)\n",
        "project_embeddings = np.array(project_embeddings)\n",
        "labels = np.array(labels)"
      ]
    },
    {
      "cell_type": "code",
      "execution_count": null,
      "metadata": {
        "id": "R0VXp6cUiw6d"
      },
      "outputs": [],
      "source": [
        "# Splitting data into training and validation sets\n",
        "from sklearn.model_selection import train_test_split\n",
        "X_train, X_val, y_train, y_val = train_test_split(\n",
        "    list(zip(user_profiles, project_embeddings)), labels, test_size=0.5, random_state=43\n",
        ")"
      ]
    },
    {
      "cell_type": "code",
      "execution_count": null,
      "metadata": {
        "id": "tBDLtyZNi7xy"
      },
      "outputs": [],
      "source": [
        "# Preparing data for the model\n",
        "user_profiles_train, project_embeddings_train = zip(*X_train)\n",
        "user_profiles_val, project_embeddings_val = zip(*X_val)"
      ]
    },
    {
      "cell_type": "code",
      "execution_count": null,
      "metadata": {
        "id": "L7PLWi-pj4RX"
      },
      "outputs": [],
      "source": [
        "# Convert labels to float32\n",
        "y_train = y_train.astype('float32')\n",
        "y_val = y_val.astype('float32')"
      ]
    },
    {
      "cell_type": "code",
      "execution_count": null,
      "metadata": {
        "colab": {
          "base_uri": "https://localhost:8080/"
        },
        "id": "3suz17GgII6w",
        "outputId": "bf29a9e0-8dd4-4405-837a-e4725be92373"
      },
      "outputs": [
        {
          "data": {
            "text/plain": [
              "19"
            ]
          },
          "execution_count": 133,
          "metadata": {},
          "output_type": "execute_result"
        }
      ],
      "source": [
        "len(user_profiles_train)"
      ]
    },
    {
      "cell_type": "code",
      "execution_count": null,
      "metadata": {
        "colab": {
          "base_uri": "https://localhost:8080/"
        },
        "id": "OV_kfQ7cjMF_",
        "outputId": "c19222db-3b6f-40b7-a9ab-1b4249bbafef"
      },
      "outputs": [
        {
          "name": "stdout",
          "output_type": "stream",
          "text": [
            "Epoch 1/30\n",
            "5/5 [==============================] - 2s 70ms/step - loss: 0.2840 - accuracy: 0.4211 - val_loss: 0.2599 - val_accuracy: 0.3684\n",
            "Epoch 2/30\n",
            "5/5 [==============================] - 0s 17ms/step - loss: 0.2414 - accuracy: 0.5789 - val_loss: 0.2770 - val_accuracy: 0.3684\n",
            "Epoch 3/30\n",
            "5/5 [==============================] - 0s 13ms/step - loss: 0.2330 - accuracy: 0.5789 - val_loss: 0.2813 - val_accuracy: 0.4211\n",
            "Epoch 4/30\n",
            "5/5 [==============================] - 0s 18ms/step - loss: 0.2220 - accuracy: 0.6316 - val_loss: 0.2863 - val_accuracy: 0.4211\n",
            "Epoch 5/30\n",
            "5/5 [==============================] - 0s 14ms/step - loss: 0.2175 - accuracy: 0.6316 - val_loss: 0.2880 - val_accuracy: 0.4737\n",
            "Epoch 6/30\n",
            "5/5 [==============================] - 0s 13ms/step - loss: 0.2140 - accuracy: 0.6842 - val_loss: 0.2927 - val_accuracy: 0.4737\n",
            "Epoch 7/30\n",
            "5/5 [==============================] - 0s 13ms/step - loss: 0.1947 - accuracy: 0.7368 - val_loss: 0.2971 - val_accuracy: 0.4211\n",
            "Epoch 8/30\n",
            "5/5 [==============================] - 0s 15ms/step - loss: 0.1936 - accuracy: 0.7368 - val_loss: 0.3079 - val_accuracy: 0.4211\n",
            "Epoch 9/30\n",
            "5/5 [==============================] - 0s 18ms/step - loss: 0.1715 - accuracy: 0.7895 - val_loss: 0.3089 - val_accuracy: 0.4737\n",
            "Epoch 10/30\n",
            "5/5 [==============================] - 0s 17ms/step - loss: 0.1465 - accuracy: 0.8421 - val_loss: 0.3081 - val_accuracy: 0.4211\n",
            "Epoch 11/30\n",
            "5/5 [==============================] - 0s 16ms/step - loss: 0.1220 - accuracy: 0.9474 - val_loss: 0.2898 - val_accuracy: 0.4737\n",
            "Epoch 12/30\n",
            "5/5 [==============================] - 0s 13ms/step - loss: 0.1001 - accuracy: 0.9474 - val_loss: 0.2862 - val_accuracy: 0.4737\n",
            "Epoch 13/30\n",
            "5/5 [==============================] - 0s 13ms/step - loss: 0.0787 - accuracy: 0.9474 - val_loss: 0.2760 - val_accuracy: 0.5789\n",
            "Epoch 14/30\n",
            "5/5 [==============================] - 0s 16ms/step - loss: 0.0576 - accuracy: 1.0000 - val_loss: 0.2634 - val_accuracy: 0.6316\n",
            "Epoch 15/30\n",
            "5/5 [==============================] - 0s 16ms/step - loss: 0.0507 - accuracy: 1.0000 - val_loss: 0.2545 - val_accuracy: 0.6316\n",
            "Epoch 16/30\n",
            "5/5 [==============================] - 0s 13ms/step - loss: 0.0380 - accuracy: 1.0000 - val_loss: 0.2663 - val_accuracy: 0.6316\n",
            "Epoch 17/30\n",
            "5/5 [==============================] - 0s 16ms/step - loss: 0.0273 - accuracy: 1.0000 - val_loss: 0.2703 - val_accuracy: 0.6316\n",
            "Epoch 18/30\n",
            "5/5 [==============================] - 0s 18ms/step - loss: 0.0215 - accuracy: 1.0000 - val_loss: 0.2664 - val_accuracy: 0.6316\n",
            "Epoch 19/30\n",
            "5/5 [==============================] - 0s 13ms/step - loss: 0.0166 - accuracy: 1.0000 - val_loss: 0.2579 - val_accuracy: 0.6316\n",
            "Epoch 20/30\n",
            "5/5 [==============================] - 0s 14ms/step - loss: 0.0126 - accuracy: 1.0000 - val_loss: 0.2557 - val_accuracy: 0.6316\n",
            "Epoch 21/30\n",
            "5/5 [==============================] - 0s 16ms/step - loss: 0.0103 - accuracy: 1.0000 - val_loss: 0.2573 - val_accuracy: 0.6842\n",
            "Epoch 22/30\n",
            "5/5 [==============================] - 0s 17ms/step - loss: 0.0084 - accuracy: 1.0000 - val_loss: 0.2543 - val_accuracy: 0.6842\n",
            "Epoch 23/30\n",
            "5/5 [==============================] - 0s 14ms/step - loss: 0.0066 - accuracy: 1.0000 - val_loss: 0.2569 - val_accuracy: 0.6842\n",
            "Epoch 24/30\n",
            "5/5 [==============================] - 0s 16ms/step - loss: 0.0050 - accuracy: 1.0000 - val_loss: 0.2586 - val_accuracy: 0.6842\n",
            "Epoch 25/30\n",
            "5/5 [==============================] - 0s 13ms/step - loss: 0.0041 - accuracy: 1.0000 - val_loss: 0.2604 - val_accuracy: 0.6842\n",
            "Epoch 26/30\n",
            "5/5 [==============================] - 0s 13ms/step - loss: 0.0034 - accuracy: 1.0000 - val_loss: 0.2642 - val_accuracy: 0.6842\n",
            "Epoch 27/30\n",
            "5/5 [==============================] - 0s 13ms/step - loss: 0.0028 - accuracy: 1.0000 - val_loss: 0.2634 - val_accuracy: 0.6842\n",
            "Epoch 28/30\n",
            "5/5 [==============================] - 0s 13ms/step - loss: 0.0024 - accuracy: 1.0000 - val_loss: 0.2641 - val_accuracy: 0.6842\n",
            "Epoch 29/30\n",
            "5/5 [==============================] - 0s 15ms/step - loss: 0.0020 - accuracy: 1.0000 - val_loss: 0.2663 - val_accuracy: 0.6842\n",
            "Epoch 30/30\n",
            "5/5 [==============================] - 0s 15ms/step - loss: 0.0017 - accuracy: 1.0000 - val_loss: 0.2643 - val_accuracy: 0.6842\n"
          ]
        }
      ],
      "source": [
        "# Training the model\n",
        "history = siamese_network.fit(\n",
        "    [np.array(user_profiles_train), np.array(project_embeddings_train)],\n",
        "    np.array(y_train),\n",
        "    validation_data=([np.array(user_profiles_val), np.array(project_embeddings_val)], np.array(y_val)),\n",
        "    epochs=30,  # You can adjust the number of epochs\n",
        "    batch_size=4 # And the batch size\n",
        ")"
      ]
    },
    {
      "cell_type": "code",
      "execution_count": null,
      "metadata": {
        "id": "-hFzUKY8uSlz"
      },
      "outputs": [],
      "source": [
        "def create_user_vector(role: str, languages: list[str]):\n",
        "  languages_vector = mlb.fit_transform([languages])\n",
        "\n",
        "  pred_role_preprocessed = bert_preprocess_model([role])\n",
        "  pred_role_results = bert_model(pred_role_preprocessed)\n",
        "  pred_roles_embedded = pred_role_results['pooled_output']\n",
        "\n",
        "  return tf.concat([pred_roles_embedded, languages_vector], axis=1)\n",
        "\n"
      ]
    },
    {
      "cell_type": "code",
      "execution_count": null,
      "metadata": {
        "colab": {
          "base_uri": "https://localhost:8080/"
        },
        "id": "LuXvv-UUpHlw",
        "outputId": "ecbd6c66-435f-4c20-bc21-8b14798d942e"
      },
      "outputs": [
        {
          "name": "stdout",
          "output_type": "stream",
          "text": [
            "1/1 [==============================] - 0s 81ms/step\n",
            "Similarity Score: 1.1335626\n"
          ]
        }
      ],
      "source": [
        "user_profile_example = create_user_vector(\"Machine learning, quantum computing phd student\", ['Shell', 'Python', 'R', 'C++', 'Makefile'])\n",
        "project_embedding_example = bert_model(bert_preprocess_model(['JQuery multiselect plugin based on Twitter Bootstrap.']))['pooled_output']\n",
        "\n",
        "# Make a prediction\n",
        "similarity_score = siamese_network.predict([user_profile_example, project_embedding_example])\n",
        "\n",
        "# Output the similarity score\n",
        "print(\"Similarity Score:\", similarity_score[0][0])"
      ]
    },
    {
      "cell_type": "markdown",
      "metadata": {
        "id": "Xbe47aC--hEr"
      },
      "source": [
        "Let's try ranking random projects for a given input user profile"
      ]
    },
    {
      "cell_type": "code",
      "execution_count": null,
      "metadata": {
        "colab": {
          "base_uri": "https://localhost:8080/"
        },
        "id": "XeQqy_Bm9Iv9",
        "outputId": "301954ab-7ea9-406a-fe6f-abcd39e066bc"
      },
      "outputs": [
        {
          "name": "stdout",
          "output_type": "stream",
          "text": [
            "0\n",
            "1/1 [==============================] - 0s 89ms/step\n",
            "1/1 [==============================] - 0s 24ms/step\n",
            "1/1 [==============================] - 0s 23ms/step\n",
            "1/1 [==============================] - 0s 23ms/step\n",
            "1/1 [==============================] - 0s 24ms/step\n",
            "1/1 [==============================] - 0s 39ms/step\n",
            "1/1 [==============================] - 0s 34ms/step\n",
            "1/1 [==============================] - 0s 40ms/step\n",
            "1/1 [==============================] - 0s 36ms/step\n",
            "1/1 [==============================] - 0s 32ms/step\n",
            "1/1 [==============================] - 0s 46ms/step\n",
            "1/1 [==============================] - 0s 33ms/step\n",
            "1/1 [==============================] - 0s 32ms/step\n",
            "1/1 [==============================] - 0s 32ms/step\n",
            "1/1 [==============================] - 0s 32ms/step\n",
            "1/1 [==============================] - 0s 34ms/step\n",
            "1/1 [==============================] - 0s 32ms/step\n",
            "1/1 [==============================] - 0s 31ms/step\n",
            "1/1 [==============================] - 0s 40ms/step\n"
          ]
        }
      ],
      "source": [
        "# rank projects testing\n",
        "user_profile_example = create_user_vector(\"Senior Software Engineer @microsoft\", ['Shell', 'PowerShell', 'C#', 'Python', 'JavaScript'])\n",
        "num_projects = 19\n",
        "rand_index = random.randint(num_projects+1, len(projects) - 1) - num_projects\n",
        "rand_index = 0\n",
        "\n",
        "print(rand_index)\n",
        "\n",
        "predictions = []\n",
        "\n",
        "for i in range(num_projects):\n",
        "  project_embedding_example = bert_model(bert_preprocess_model([projects[rand_index + i]]))['pooled_output']\n",
        "  similarity_score = siamese_network.predict([user_profile_example, project_embedding_example])\n",
        "  predictions.append((projects[rand_index + i], similarity_score[0][0]))"
      ]
    },
    {
      "cell_type": "code",
      "execution_count": null,
      "metadata": {
        "colab": {
          "base_uri": "https://localhost:8080/"
        },
        "id": "G_v8sJFY_qiR",
        "outputId": "826175e6-d9fb-4931-c8fe-de12a5bcb144"
      },
      "outputs": [
        {
          "name": "stdout",
          "output_type": "stream",
          "text": [
            "Deep Learning based variant calling toolkit - https://clara-parabricks.github.io/VariantWorks/: 0.880397379398346\n",
            "Community-curated list of software packages and data resources for single-cell, including RNA-seq, ATAC-seq, etc.: 0.8409087657928467\n",
            "DL based processing of atac-seq data: 0.8351987600326538\n",
            "Extracting mutational signatures via LASSO. The manuscript of the method is available as a preprint at: https://www.biorxiv.org/content/10.1101/384834v3: 0.831963062286377\n",
            "Hackathon team: gene expression analysis for Covid-19: 0.8025743365287781\n",
            "Examples of single-cell genomic analysis accelerated with RAPIDS: 0.7941628098487854\n",
            "Training requirements for joining projects: 0.7786807417869568\n",
            "Microsoft Azure Workshop for Developers: 0.5894323587417603\n",
            "MkDocs Video plugin: 0.5631030201911926\n",
            "OSC message decoder/encoder with fault tolerant: 0.4191855192184448\n",
            "Single-Cell Analysis in Python. Scales to >1M cells.: 0.36352550983428955\n",
            "A MkDocs plugin that lets you exclude/include docs files using globs, regexes, gitignore-style file and Markdown/FrontMatter tags metadata.: 0.3496532440185547\n",
            "Pre-commit hooks collection that utilizes ChatGPT and OpenAI platform to validate changes made to the codebase.: 0.3405347466468811\n",
            "PowerShell module for interacting with Bluetooth Low Energy (BLE) devices implementing the Generic Attribute Profile (GATT/GAP): 0.33775514364242554\n",
            "SigProfilerExtractor allows de novo extraction of mutational signatures from data generated in a matrix format. The tool identifies the number of operative mutational signatures, their activities in each sample, and the probability for each signature to cause a specific mutation type in a cancer sample. The tool makes use of SigProfilerMatrixGenerator and SigProfilerPlotting. : 0.3331673741340637\n",
            "This GitHub Action allows you to run Gitleaks in your GitHub workflow.: 0.3230254352092743\n",
            "A collection of tasks to enable execution MySQL commands or scripts by VSTS/TFS Windows Agents.: 0.2511216700077057\n",
            "Detect non-inclusive language in your source code.: 0.15091447532176971\n",
            "A list of women tech speakers & organizers. Add yourself or others by submitting a PR! PS if you do add someone, make sure to tell them! :) #fempire: 0.09594608098268509\n"
          ]
        }
      ],
      "source": [
        "# Sort the predictions in descending order of the score\n",
        "sorted_predictions = sorted(predictions, key=lambda x: x[1], reverse=True)\n",
        "\n",
        "# Print the sorted predictions\n",
        "for project, score in sorted_predictions:\n",
        "  print(f\"{project}: {score}\")"
      ]
    },
    {
      "cell_type": "code",
      "execution_count": null,
      "metadata": {
        "colab": {
          "base_uri": "https://localhost:8080/"
        },
        "id": "E-irY-cNJ2Ze",
        "outputId": "1702c807-f71d-41bd-d5e9-5cbf303efcdd"
      },
      "outputs": [
        {
          "name": "stdout",
          "output_type": "stream",
          "text": [
            "User 0: ['A collection of tasks to enable execution MySQL commands or scripts by VSTS/TFS Windows Agents.', 'Microsoft Azure Workshop for Developers', 'PowerShell module for interacting with Bluetooth Low Energy (BLE) devices implementing the Generic Attribute Profile (GATT/GAP)', 'Pre-commit hooks collection that utilizes ChatGPT and OpenAI platform to validate changes made to the codebase.', 'This GitHub Action allows you to run Gitleaks in your GitHub workflow.', 'A MkDocs plugin that lets you exclude/include docs files using globs, regexes, gitignore-style file and Markdown/FrontMatter tags metadata.', 'MkDocs Video plugin', 'OSC message decoder/encoder with fault tolerant', 'Detect non-inclusive language in your source code.']\n",
            "User 1: ['DL based processing of atac-seq data', 'Community-curated list of software packages and data resources for single-cell, including RNA-seq, ATAC-seq, etc.', 'Hackathon team: gene expression analysis for Covid-19', 'Examples of single-cell genomic analysis accelerated with RAPIDS', 'Single-Cell Analysis in Python. Scales to >1M cells.', 'SigProfilerExtractor allows de novo extraction of mutational signatures from data generated in a matrix format. The tool identifies the number of operative mutational signatures, their activities in each sample, and the probability for each signature to cause a specific mutation type in a cancer sample. The tool makes use of SigProfilerMatrixGenerator and SigProfilerPlotting. ', 'Extracting mutational signatures via LASSO. The manuscript of the method is available as a preprint at: https://www.biorxiv.org/content/10.1101/384834v3', 'Training requirements for joining projects', 'Deep Learning based variant calling toolkit - https://clara-parabricks.github.io/VariantWorks/', 'A list of women tech speakers & organizers. Add yourself or others by submitting a PR! PS if you do add someone, make sure to tell them! :) #fempire']\n"
          ]
        }
      ],
      "source": [
        "for i in range(2):\n",
        "  print(f\"User {i}: {map_user_to_projects[i]}\")"
      ]
    },
    {
      "cell_type": "code",
      "execution_count": null,
      "metadata": {
        "colab": {
          "base_uri": "https://localhost:8080/"
        },
        "id": "G7N39K7mlReS",
        "outputId": "f29c57a3-d748-4c4c-91d5-a0d553d05469"
      },
      "outputs": [
        {
          "name": "stdout",
          "output_type": "stream",
          "text": [
            "0                                                 role experience_level  \\\n",
            "374  a python/javascript/php/linux guru ready to ta...           Expert   \n",
            "375                                Interested in Web3.           Expert   \n",
            "377      ElectroMecahnical Engineer | Python | Arduino           Expert   \n",
            "378                           Just this guy, you know?         Beginner   \n",
            "386   I love GNOME and cats, like any self-respecti...           Expert   \n",
            "398       Dragon boat paddler, Kitty Mama, rice lover.         Beginner   \n",
            "400                                I build cool stuff!         Beginner   \n",
            "401  Software is my medium for expressing ideas and...         Beginner   \n",
            "402  UC Berkeley, California, USA.\\ndaixili_cs@berk...     Intermediate   \n",
            "404          Postdoc at the Coley Research Group, MIT.     Intermediate   \n",
            "405  bioinformatician, computational biologist, com...     Intermediate   \n",
            "406  Open-source software for volunteer computing a...     Intermediate   \n",
            "410  I write, make games, make websites, make tools...           Expert   \n",
            "416  There are a lot of incomplete projects on my p...           Expert   \n",
            "417                  Building and scaling @jiffy-labs            Expert   \n",
            "419  Front-End Developer\\nReactJS, NodeJS, GLSL, GS...           Expert   \n",
            "420  Web developer, member of the OCI Micronaut and...           Expert   \n",
            "421                  C C c. C C cccc CC cccc c ccCC c.         Beginner   \n",
            "422  Graduate Student at RI, CMU\\nUndergraduate Res...           Expert   \n",
            "423  There's a buzzin' in my brain I really can't e...           Expert   \n",
            "\n",
            "0                                            languages  \\\n",
            "374      [JavaScript, Python, HTML, CSS, CoffeeScript]   \n",
            "375  [Python, Jupyter Notebook, Dockerfile, Shell, ...   \n",
            "377                 [CSS, HTML, JavaScript, SCSS, C++]   \n",
            "378                                       [JavaScript]   \n",
            "386                       [HTML, D, CSS, Shell, Meson]   \n",
            "398                             [PHP, JavaScript, CSS]   \n",
            "400                    [TypeScript, Shell, C#, C++, C]   \n",
            "401                 [C#, JavaScript, Java, CSS, Shell]   \n",
            "402             [Python, JavaScript, CSS, HTML, Shell]   \n",
            "404  [Python, Shell, Jupyter Notebook, JavaScript, ...   \n",
            "405                  [Shell, Python, R, C++, Makefile]   \n",
            "406                       [Shell, PHP, C++, Python, C]   \n",
            "410         [JavaScript, CSS, HTML, Batchfile, Smarty]   \n",
            "416               [JavaScript, Makefile, HTML, CSS, C]   \n",
            "417         [JavaScript, CSS, Shell, Solidity, Python]   \n",
            "419                 [HTML, JavaScript, CSS, SCSS, Vue]   \n",
            "420             [Groovy, JavaScript, CSS, Shell, Java]   \n",
            "421                                       [Vim Script]   \n",
            "422             [Python, C++, CMake, MATLAB, Makefile]   \n",
            "423               [JavaScript, HTML, CSS, Python, PHP]   \n",
            "\n",
            "0                                        tech_keywords  \\\n",
            "374  ['boto', 'yui', 'example', 'client', 'spades',...   \n",
            "375  ['of', 'Work', 'disease', 'crm', 'bar', 'Auto'...   \n",
            "377  ['emails', 'of', 'resources', 'developers', 'c...   \n",
            "378  ['the', 'things', 'copy', 'devices', 'host', '...   \n",
            "386  ['ColourPicker', 'appstream', 'eog', 'snaps', ...   \n",
            "398  ['hlc', 'totes', 'wp', 'frontend', '_s', 'uplo...   \n",
            "400  ['terminal', 'vscat', 'actions', 'project', 'j...   \n",
            "401  ['client', 'rexster', 'OldPhotoGallery', 'tita...   \n",
            "402  ['Delay', 'holicity', 'LION', 'uCTRL', 'cnn', ...   \n",
            "404  ['GPflow', 'ml', 'bioinformatics', 'sinusoids'...   \n",
            "405  ['awesome', 'Homework_2020', 'PS', 'single', '...   \n",
            "406  ['client', 'dcapi', 'site', 'docker', 'lite', ...   \n",
            "410  ['should', 'analytics', 'land', 'ggz', 'js', '...   \n",
            "416  ['client', 'specification', 'voltmeter', 'like...   \n",
            "417  ['client', 'Arduino', 'dgrants', 'Codes', 'erc...   \n",
            "419  ['', 'on', 'javascript', 'bodhi', 'avocadiki',...   \n",
            "420  ['net', 'client', 'table', 'with', 'g3', 'usin...   \n",
            "421                                     ['vim_config']   \n",
            "422  ['tools', 'Coin', '', 'moodle_auto_login', 'Sh...   \n",
            "423  ['awesome', 'address', 'mobile', 'fetch', 'Dis...   \n",
            "\n",
            "0                                             projects  experience_level_num  \n",
            "374  ['tkinter gui that uses my minigame library \\n...                     2  \n",
            "375  ['Come on... AUT student and wanna help?', 'Wr...                     2  \n",
            "377  ['Fork this template for the 100 days journal ...                     2  \n",
            "378  ['GitHub profile README', 'A userscript to cop...                     0  \n",
            "386  ['A fast AppStream metadata generator', 'A lis...                     2  \n",
            "398  ['New theme for the HLC', 'Useful phrases to u...                     0  \n",
            "400  ['Provides linting APIs on the command line, t...                     0  \n",
            "401  ['Graph Analytics Engine', 'In short, Forge Ne...                     0  \n",
            "402  ['Learning Convolutional Neural Networks with ...                     1  \n",
            "404  ['A collection of auto-encoders including VAEs...                     1  \n",
            "405  ['List of software/websites/databases/other st...                     1  \n",
            "406  ['Open-source software for volunteer computing...                     1  \n",
            "410  ['twinelab webpage', \"it's the css bin\", 'The ...                     2  \n",
            "416  ['Simple animation app', 'Stupid project for a...                     2  \n",
            "417  ['Implementation of various algorithms and mod...                     2  \n",
            "419  ['3D force-directed graph component using Thre...                     2  \n",
            "420  ['Spring-Boot AMQP Client ', 'spring-boot amqp...                     2  \n",
            "421                             [\"DonHo's vim config\"]                     0  \n",
            "422  ['Some setup scripts for security research too...                     2  \n",
            "423  ['Automatically exported from code.google.com/...                     2  \n"
          ]
        }
      ],
      "source": [
        "num = 130\n",
        "selected_rows = data.iloc[num:num+20]\n",
        "print(selected_rows)"
      ]
    }
  ],
  "metadata": {
    "colab": {
      "provenance": []
    },
    "kernelspec": {
      "display_name": "Python 3",
      "language": "python",
      "name": "python3"
    },
    "language_info": {
      "codemirror_mode": {
        "name": "ipython",
        "version": 3
      },
      "file_extension": ".py",
      "mimetype": "text/x-python",
      "name": "python",
      "nbconvert_exporter": "python",
      "pygments_lexer": "ipython3",
      "version": "3.10.8"
    }
  },
  "nbformat": 4,
  "nbformat_minor": 0
}
