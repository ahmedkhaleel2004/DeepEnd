{
 "cells": [
  {
   "cell_type": "code",
   "execution_count": 309,
   "metadata": {},
   "outputs": [],
   "source": [
    "import pandas as pd\n",
    "import numpy as np\n",
    "import tensorflow as tf\n",
    "import ast\n",
    "from tensorflow.keras.utils import to_categorical\n",
    "from sklearn.preprocessing import MultiLabelBinarizer\n",
    "from sklearn.feature_extraction.text import TfidfVectorizer\n",
    "from scipy.sparse import hstack\n"
   ]
  },
  {
   "cell_type": "code",
   "execution_count": 310,
   "metadata": {},
   "outputs": [],
   "source": [
    "data = pd.read_csv('github_users_dataset.csv')\n",
    "data.dropna(inplace=True)\n",
    "data = data[data['role'] != 'role']"
   ]
  },
  {
   "cell_type": "code",
   "execution_count": 311,
   "metadata": {},
   "outputs": [
    {
     "data": {
      "text/html": [
       "<div>\n",
       "<style scoped>\n",
       "    .dataframe tbody tr th:only-of-type {\n",
       "        vertical-align: middle;\n",
       "    }\n",
       "\n",
       "    .dataframe tbody tr th {\n",
       "        vertical-align: top;\n",
       "    }\n",
       "\n",
       "    .dataframe thead th {\n",
       "        text-align: right;\n",
       "    }\n",
       "</style>\n",
       "<table border=\"1\" class=\"dataframe\">\n",
       "  <thead>\n",
       "    <tr style=\"text-align: right;\">\n",
       "      <th></th>\n",
       "      <th>role</th>\n",
       "      <th>experience_level</th>\n",
       "      <th>languages</th>\n",
       "      <th>tech_keywords</th>\n",
       "      <th>projects</th>\n",
       "    </tr>\n",
       "  </thead>\n",
       "  <tbody>\n",
       "    <tr>\n",
       "      <th>1</th>\n",
       "      <td>full-stack SWE • leader &amp; highly effective com...</td>\n",
       "      <td>Beginner</td>\n",
       "      <td>['JavaScript', 'HTML', 'Vue', 'CSS', 'TypeScri...</td>\n",
       "      <td>['vue', 'random', 'chart', 'grind', 'pinia', '...</td>\n",
       "      <td>[\"JavaScript &amp; TypeScript solutions to the 'Gr...</td>\n",
       "    </tr>\n",
       "    <tr>\n",
       "      <th>4</th>\n",
       "      <td>Senior Software Engineer @microsoft</td>\n",
       "      <td>Beginner</td>\n",
       "      <td>['Shell', 'PowerShell', 'C#', 'Python', 'JavaS...</td>\n",
       "      <td>['github', 'node', 'video', 'action', 'woke', ...</td>\n",
       "      <td>['A collection of tasks to enable execution My...</td>\n",
       "    </tr>\n",
       "    <tr>\n",
       "      <th>5</th>\n",
       "      <td>Principal AI Scientist at Genentech. Formerly ...</td>\n",
       "      <td>Beginner</td>\n",
       "      <td>['Python', 'Shell', 'R', 'Jupyter Notebook', '...</td>\n",
       "      <td>['ecoli_promoter_mpra', 'training', 'women', '...</td>\n",
       "      <td>['DL based processing of atac-seq data', 'Comm...</td>\n",
       "    </tr>\n",
       "    <tr>\n",
       "      <th>7</th>\n",
       "      <td>CEO and Full-Stack Developer at SULLE WAREHOUSE</td>\n",
       "      <td>Beginner</td>\n",
       "      <td>['C', 'C++', 'CMake', 'Shell', 'Assembly']</td>\n",
       "      <td>['b', 'pixels', 'linux', 'parser', 'expression...</td>\n",
       "      <td>['The README for my personal GitHub account', ...</td>\n",
       "    </tr>\n",
       "    <tr>\n",
       "      <th>8</th>\n",
       "      <td>Machine learning, quantum computing, and every...</td>\n",
       "      <td>Beginner</td>\n",
       "      <td>['Python', 'Jupyter Notebook', 'Shell', 'C++',...</td>\n",
       "      <td>['Cybernetics', 'elden_bot', 'quantum', 'Quant...</td>\n",
       "      <td>['Final Project for CSCI 2500 Computer Organiz...</td>\n",
       "    </tr>\n",
       "    <tr>\n",
       "      <th>10</th>\n",
       "      <td>Co-founder, @levelshealth.</td>\n",
       "      <td>Beginner</td>\n",
       "      <td>['JavaScript', 'Scala', 'CSS', 'HTML', 'PHP']</td>\n",
       "      <td>['sublime', 'play', 'app', 'workflow', 'exampl...</td>\n",
       "      <td>['Alfred App Workflow for caniuse.com', 'Stati...</td>\n",
       "    </tr>\n",
       "    <tr>\n",
       "      <th>12</th>\n",
       "      <td>UX Engineering Consulting. Cocktails.</td>\n",
       "      <td>Intermediate</td>\n",
       "      <td>['JavaScript', 'HTML', 'CSS', 'Python', 'Shell']</td>\n",
       "      <td>['sentry', 'faker.js', 'route', 'cms', 'tldext...</td>\n",
       "      <td>['Broccoli plugin to add fingerprint checksums...</td>\n",
       "    </tr>\n",
       "    <tr>\n",
       "      <th>13</th>\n",
       "      <td>\\n5th year CS Ph.D. @ UC, Irvine\\n\\n</td>\n",
       "      <td>Beginner</td>\n",
       "      <td>['Python', 'Shell', 'C++', 'Cuda', 'Jupyter No...</td>\n",
       "      <td>['HRBP', 'lstm_pm_pytorch', 'stingy', 'PPT', '...</td>\n",
       "      <td>['Brain tumor segmentation for Brats15 dataset...</td>\n",
       "    </tr>\n",
       "    <tr>\n",
       "      <th>14</th>\n",
       "      <td>@MajorLeagueBaseball Kubernetes SME &amp; Cloud Pl...</td>\n",
       "      <td>Intermediate</td>\n",
       "      <td>['Shell', 'Dockerfile', 'Go', 'Makefile', 'Jav...</td>\n",
       "      <td>['controller', 'docker', 'chaperone', 'externa...</td>\n",
       "      <td>['🏷️ GitHub Action to add labels', '🎣 GitHub A...</td>\n",
       "    </tr>\n",
       "    <tr>\n",
       "      <th>15</th>\n",
       "      <td>Juggler with a penchant for software development</td>\n",
       "      <td>Intermediate</td>\n",
       "      <td>['Shell', 'Python', 'JavaScript', 'HTML', 'CSS']</td>\n",
       "      <td>['engine', 'bootstrap_2to3', 'fetch', 'antenna...</td>\n",
       "      <td>[' PKGBUILDs for Arch Linux', 'RESTful HTTP cl...</td>\n",
       "    </tr>\n",
       "  </tbody>\n",
       "</table>\n",
       "</div>"
      ],
      "text/plain": [
       "                                                 role experience_level  \\\n",
       "1   full-stack SWE • leader & highly effective com...         Beginner   \n",
       "4                 Senior Software Engineer @microsoft         Beginner   \n",
       "5   Principal AI Scientist at Genentech. Formerly ...         Beginner   \n",
       "7     CEO and Full-Stack Developer at SULLE WAREHOUSE         Beginner   \n",
       "8   Machine learning, quantum computing, and every...         Beginner   \n",
       "10                         Co-founder, @levelshealth.         Beginner   \n",
       "12              UX Engineering Consulting. Cocktails.     Intermediate   \n",
       "13               \\n5th year CS Ph.D. @ UC, Irvine\\n\\n         Beginner   \n",
       "14  @MajorLeagueBaseball Kubernetes SME & Cloud Pl...     Intermediate   \n",
       "15   Juggler with a penchant for software development     Intermediate   \n",
       "\n",
       "                                            languages  \\\n",
       "1   ['JavaScript', 'HTML', 'Vue', 'CSS', 'TypeScri...   \n",
       "4   ['Shell', 'PowerShell', 'C#', 'Python', 'JavaS...   \n",
       "5   ['Python', 'Shell', 'R', 'Jupyter Notebook', '...   \n",
       "7          ['C', 'C++', 'CMake', 'Shell', 'Assembly']   \n",
       "8   ['Python', 'Jupyter Notebook', 'Shell', 'C++',...   \n",
       "10      ['JavaScript', 'Scala', 'CSS', 'HTML', 'PHP']   \n",
       "12   ['JavaScript', 'HTML', 'CSS', 'Python', 'Shell']   \n",
       "13  ['Python', 'Shell', 'C++', 'Cuda', 'Jupyter No...   \n",
       "14  ['Shell', 'Dockerfile', 'Go', 'Makefile', 'Jav...   \n",
       "15   ['Shell', 'Python', 'JavaScript', 'HTML', 'CSS']   \n",
       "\n",
       "                                        tech_keywords  \\\n",
       "1   ['vue', 'random', 'chart', 'grind', 'pinia', '...   \n",
       "4   ['github', 'node', 'video', 'action', 'woke', ...   \n",
       "5   ['ecoli_promoter_mpra', 'training', 'women', '...   \n",
       "7   ['b', 'pixels', 'linux', 'parser', 'expression...   \n",
       "8   ['Cybernetics', 'elden_bot', 'quantum', 'Quant...   \n",
       "10  ['sublime', 'play', 'app', 'workflow', 'exampl...   \n",
       "12  ['sentry', 'faker.js', 'route', 'cms', 'tldext...   \n",
       "13  ['HRBP', 'lstm_pm_pytorch', 'stingy', 'PPT', '...   \n",
       "14  ['controller', 'docker', 'chaperone', 'externa...   \n",
       "15  ['engine', 'bootstrap_2to3', 'fetch', 'antenna...   \n",
       "\n",
       "                                             projects  \n",
       "1   [\"JavaScript & TypeScript solutions to the 'Gr...  \n",
       "4   ['A collection of tasks to enable execution My...  \n",
       "5   ['DL based processing of atac-seq data', 'Comm...  \n",
       "7   ['The README for my personal GitHub account', ...  \n",
       "8   ['Final Project for CSCI 2500 Computer Organiz...  \n",
       "10  ['Alfred App Workflow for caniuse.com', 'Stati...  \n",
       "12  ['Broccoli plugin to add fingerprint checksums...  \n",
       "13  ['Brain tumor segmentation for Brats15 dataset...  \n",
       "14  ['🏷️ GitHub Action to add labels', '🎣 GitHub A...  \n",
       "15  [' PKGBUILDs for Arch Linux', 'RESTful HTTP cl...  "
      ]
     },
     "execution_count": 311,
     "metadata": {},
     "output_type": "execute_result"
    }
   ],
   "source": [
    "data.head(10)"
   ]
  },
  {
   "cell_type": "code",
   "execution_count": 312,
   "metadata": {},
   "outputs": [
    {
     "data": {
      "text/plain": [
       "array([[1., 0., 0.],\n",
       "       [1., 0., 0.],\n",
       "       [1., 0., 0.],\n",
       "       ...,\n",
       "       [0., 0., 1.],\n",
       "       [0., 0., 1.],\n",
       "       [0., 0., 1.]], dtype=float32)"
      ]
     },
     "execution_count": 312,
     "metadata": {},
     "output_type": "execute_result"
    }
   ],
   "source": [
    "# unique experience levels\n",
    "experience = data['experience_level'].unique()\n",
    "\n",
    "# map unique experience levels to numbers\n",
    "# categorical data --> numerical data for one-hot encoding\n",
    "experience_level_mapping = {level: idx for idx, level in enumerate(experience)}\n",
    "\n",
    "# w gpt2 nie ma potrzeby one-hot encoding\n",
    "data['experience_level_num'] = data['experience_level'].map(experience_level_mapping)\n",
    "\n",
    "# one-hot encoding !!!!!!!!!!!!\n",
    "experience_level_encoded = to_categorical(data['experience_level_num'])\n",
    "experience_level_encoded\n"
   ]
  },
  {
   "cell_type": "code",
   "execution_count": 313,
   "metadata": {},
   "outputs": [
    {
     "data": {
      "text/plain": [
       "array([[0, 0, 0, 0, 0, 0, 0, 0, 0, 0, 0, 0, 0, 0, 0, 0, 0, 1, 0, 0, 0, 0,\n",
       "        0, 0, 0, 0, 0, 0, 0, 0, 0, 0, 0, 0, 0, 0, 0, 0, 0, 0, 0, 0, 0, 1,\n",
       "        0, 0, 0, 0, 1, 0, 0, 0, 0, 0, 0, 0, 0, 0, 0, 0, 0, 0, 0, 0, 0, 0,\n",
       "        0, 0, 0, 0, 0, 0, 0, 0, 0, 0, 0, 0, 0, 0, 0, 0, 0, 0, 0, 0, 0, 0,\n",
       "        0, 0, 0, 0, 0, 0, 0, 0, 0, 0, 0, 0, 0, 1, 0, 0, 0, 0, 0, 1, 0, 0,\n",
       "        0, 0]])"
      ]
     },
     "execution_count": 313,
     "metadata": {},
     "output_type": "execute_result"
    }
   ],
   "source": [
    "data['languages'] = data['languages'].apply(ast.literal_eval)\n",
    "languages = set([lang for sublist in data['languages'].tolist() for lang in sublist])\n",
    "\n",
    "mlb = MultiLabelBinarizer(classes=sorted(languages))\n",
    "languages_encoded = mlb.fit_transform(data['languages'])\n",
    "languages_encoded[:1]"
   ]
  },
  {
   "cell_type": "code",
   "execution_count": 315,
   "metadata": {},
   "outputs": [
    {
     "ename": "ModuleNotFoundError",
     "evalue": "No module named 'transformers'",
     "output_type": "error",
     "traceback": [
      "\u001b[0;31m---------------------------------------------------------------------------\u001b[0m",
      "\u001b[0;31mModuleNotFoundError\u001b[0m                       Traceback (most recent call last)",
      "Cell \u001b[0;32mIn[315], line 1\u001b[0m\n\u001b[0;32m----> 1\u001b[0m \u001b[38;5;28;01mfrom\u001b[39;00m \u001b[38;5;21;01mtransformers\u001b[39;00m \u001b[38;5;28;01mimport\u001b[39;00m BertTokenizer, BertModel\n\u001b[1;32m      2\u001b[0m \u001b[38;5;28;01mimport\u001b[39;00m \u001b[38;5;21;01mtorch\u001b[39;00m\n\u001b[1;32m      4\u001b[0m \u001b[38;5;66;03m# Initialize BERT tokenizer and model\u001b[39;00m\n",
      "\u001b[0;31mModuleNotFoundError\u001b[0m: No module named 'transformers'"
     ]
    }
   ],
   "source": []
  },
  {
   "cell_type": "code",
   "execution_count": null,
   "metadata": {},
   "outputs": [],
   "source": []
  }
 ],
 "metadata": {
  "kernelspec": {
   "display_name": "Python 3",
   "language": "python",
   "name": "python3"
  },
  "language_info": {
   "codemirror_mode": {
    "name": "ipython",
    "version": 3
   },
   "file_extension": ".py",
   "mimetype": "text/x-python",
   "name": "python",
   "nbconvert_exporter": "python",
   "pygments_lexer": "ipython3",
   "version": "3.11.2"
  }
 },
 "nbformat": 4,
 "nbformat_minor": 2
}
