{
  "cells": [
    {
      "cell_type": "code",
      "execution_count": null,
      "metadata": {
        "colab": {
          "base_uri": "https://localhost:8080/"
        },
        "id": "mRV3Tx40PbEh",
        "outputId": "c82d929d-92dc-4fbf-acba-c2f1103ba422"
      },
      "outputs": [
        {
          "name": "stdout",
          "output_type": "stream",
          "text": [
            "Collecting tensorflow_text\n",
            "  Downloading tensorflow_text-2.15.0-cp310-cp310-manylinux_2_17_x86_64.manylinux2014_x86_64.whl (5.2 MB)\n",
            "\u001b[2K     \u001b[90m━━━━━━━━━━━━━━━━━━━━━━━━━━━━━━━━━━━━━━━━\u001b[0m \u001b[32m5.2/5.2 MB\u001b[0m \u001b[31m26.9 MB/s\u001b[0m eta \u001b[36m0:00:00\u001b[0m\n",
            "\u001b[?25hRequirement already satisfied: tensorflow-hub>=0.13.0 in /usr/local/lib/python3.10/dist-packages (from tensorflow_text) (0.15.0)\n",
            "Requirement already satisfied: tensorflow<2.16,>=2.15.0 in /usr/local/lib/python3.10/dist-packages (from tensorflow_text) (2.15.0)\n",
            "Requirement already satisfied: absl-py>=1.0.0 in /usr/local/lib/python3.10/dist-packages (from tensorflow<2.16,>=2.15.0->tensorflow_text) (1.4.0)\n",
            "Requirement already satisfied: astunparse>=1.6.0 in /usr/local/lib/python3.10/dist-packages (from tensorflow<2.16,>=2.15.0->tensorflow_text) (1.6.3)\n",
            "Requirement already satisfied: flatbuffers>=23.5.26 in /usr/local/lib/python3.10/dist-packages (from tensorflow<2.16,>=2.15.0->tensorflow_text) (23.5.26)\n",
            "Requirement already satisfied: gast!=0.5.0,!=0.5.1,!=0.5.2,>=0.2.1 in /usr/local/lib/python3.10/dist-packages (from tensorflow<2.16,>=2.15.0->tensorflow_text) (0.5.4)\n",
            "Requirement already satisfied: google-pasta>=0.1.1 in /usr/local/lib/python3.10/dist-packages (from tensorflow<2.16,>=2.15.0->tensorflow_text) (0.2.0)\n",
            "Requirement already satisfied: h5py>=2.9.0 in /usr/local/lib/python3.10/dist-packages (from tensorflow<2.16,>=2.15.0->tensorflow_text) (3.9.0)\n",
            "Requirement already satisfied: libclang>=13.0.0 in /usr/local/lib/python3.10/dist-packages (from tensorflow<2.16,>=2.15.0->tensorflow_text) (16.0.6)\n",
            "Requirement already satisfied: ml-dtypes~=0.2.0 in /usr/local/lib/python3.10/dist-packages (from tensorflow<2.16,>=2.15.0->tensorflow_text) (0.2.0)\n",
            "Requirement already satisfied: numpy<2.0.0,>=1.23.5 in /usr/local/lib/python3.10/dist-packages (from tensorflow<2.16,>=2.15.0->tensorflow_text) (1.23.5)\n",
            "Requirement already satisfied: opt-einsum>=2.3.2 in /usr/local/lib/python3.10/dist-packages (from tensorflow<2.16,>=2.15.0->tensorflow_text) (3.3.0)\n",
            "Requirement already satisfied: packaging in /usr/local/lib/python3.10/dist-packages (from tensorflow<2.16,>=2.15.0->tensorflow_text) (23.2)\n",
            "Requirement already satisfied: protobuf!=4.21.0,!=4.21.1,!=4.21.2,!=4.21.3,!=4.21.4,!=4.21.5,<5.0.0dev,>=3.20.3 in /usr/local/lib/python3.10/dist-packages (from tensorflow<2.16,>=2.15.0->tensorflow_text) (3.20.3)\n",
            "Requirement already satisfied: setuptools in /usr/local/lib/python3.10/dist-packages (from tensorflow<2.16,>=2.15.0->tensorflow_text) (67.7.2)\n",
            "Requirement already satisfied: six>=1.12.0 in /usr/local/lib/python3.10/dist-packages (from tensorflow<2.16,>=2.15.0->tensorflow_text) (1.16.0)\n",
            "Requirement already satisfied: termcolor>=1.1.0 in /usr/local/lib/python3.10/dist-packages (from tensorflow<2.16,>=2.15.0->tensorflow_text) (2.4.0)\n",
            "Requirement already satisfied: typing-extensions>=3.6.6 in /usr/local/lib/python3.10/dist-packages (from tensorflow<2.16,>=2.15.0->tensorflow_text) (4.5.0)\n",
            "Requirement already satisfied: wrapt<1.15,>=1.11.0 in /usr/local/lib/python3.10/dist-packages (from tensorflow<2.16,>=2.15.0->tensorflow_text) (1.14.1)\n",
            "Requirement already satisfied: tensorflow-io-gcs-filesystem>=0.23.1 in /usr/local/lib/python3.10/dist-packages (from tensorflow<2.16,>=2.15.0->tensorflow_text) (0.35.0)\n",
            "Requirement already satisfied: grpcio<2.0,>=1.24.3 in /usr/local/lib/python3.10/dist-packages (from tensorflow<2.16,>=2.15.0->tensorflow_text) (1.60.0)\n",
            "Requirement already satisfied: tensorboard<2.16,>=2.15 in /usr/local/lib/python3.10/dist-packages (from tensorflow<2.16,>=2.15.0->tensorflow_text) (2.15.1)\n",
            "Requirement already satisfied: tensorflow-estimator<2.16,>=2.15.0 in /usr/local/lib/python3.10/dist-packages (from tensorflow<2.16,>=2.15.0->tensorflow_text) (2.15.0)\n",
            "Requirement already satisfied: keras<2.16,>=2.15.0 in /usr/local/lib/python3.10/dist-packages (from tensorflow<2.16,>=2.15.0->tensorflow_text) (2.15.0)\n",
            "Requirement already satisfied: wheel<1.0,>=0.23.0 in /usr/local/lib/python3.10/dist-packages (from astunparse>=1.6.0->tensorflow<2.16,>=2.15.0->tensorflow_text) (0.42.0)\n",
            "Requirement already satisfied: google-auth<3,>=1.6.3 in /usr/local/lib/python3.10/dist-packages (from tensorboard<2.16,>=2.15->tensorflow<2.16,>=2.15.0->tensorflow_text) (2.17.3)\n",
            "Requirement already satisfied: google-auth-oauthlib<2,>=0.5 in /usr/local/lib/python3.10/dist-packages (from tensorboard<2.16,>=2.15->tensorflow<2.16,>=2.15.0->tensorflow_text) (1.2.0)\n",
            "Requirement already satisfied: markdown>=2.6.8 in /usr/local/lib/python3.10/dist-packages (from tensorboard<2.16,>=2.15->tensorflow<2.16,>=2.15.0->tensorflow_text) (3.5.1)\n",
            "Requirement already satisfied: requests<3,>=2.21.0 in /usr/local/lib/python3.10/dist-packages (from tensorboard<2.16,>=2.15->tensorflow<2.16,>=2.15.0->tensorflow_text) (2.31.0)\n",
            "Requirement already satisfied: tensorboard-data-server<0.8.0,>=0.7.0 in /usr/local/lib/python3.10/dist-packages (from tensorboard<2.16,>=2.15->tensorflow<2.16,>=2.15.0->tensorflow_text) (0.7.2)\n",
            "Requirement already satisfied: werkzeug>=1.0.1 in /usr/local/lib/python3.10/dist-packages (from tensorboard<2.16,>=2.15->tensorflow<2.16,>=2.15.0->tensorflow_text) (3.0.1)\n",
            "Requirement already satisfied: cachetools<6.0,>=2.0.0 in /usr/local/lib/python3.10/dist-packages (from google-auth<3,>=1.6.3->tensorboard<2.16,>=2.15->tensorflow<2.16,>=2.15.0->tensorflow_text) (5.3.2)\n",
            "Requirement already satisfied: pyasn1-modules>=0.2.1 in /usr/local/lib/python3.10/dist-packages (from google-auth<3,>=1.6.3->tensorboard<2.16,>=2.15->tensorflow<2.16,>=2.15.0->tensorflow_text) (0.3.0)\n",
            "Requirement already satisfied: rsa<5,>=3.1.4 in /usr/local/lib/python3.10/dist-packages (from google-auth<3,>=1.6.3->tensorboard<2.16,>=2.15->tensorflow<2.16,>=2.15.0->tensorflow_text) (4.9)\n",
            "Requirement already satisfied: requests-oauthlib>=0.7.0 in /usr/local/lib/python3.10/dist-packages (from google-auth-oauthlib<2,>=0.5->tensorboard<2.16,>=2.15->tensorflow<2.16,>=2.15.0->tensorflow_text) (1.3.1)\n",
            "Requirement already satisfied: charset-normalizer<4,>=2 in /usr/local/lib/python3.10/dist-packages (from requests<3,>=2.21.0->tensorboard<2.16,>=2.15->tensorflow<2.16,>=2.15.0->tensorflow_text) (3.3.2)\n",
            "Requirement already satisfied: idna<4,>=2.5 in /usr/local/lib/python3.10/dist-packages (from requests<3,>=2.21.0->tensorboard<2.16,>=2.15->tensorflow<2.16,>=2.15.0->tensorflow_text) (3.6)\n",
            "Requirement already satisfied: urllib3<3,>=1.21.1 in /usr/local/lib/python3.10/dist-packages (from requests<3,>=2.21.0->tensorboard<2.16,>=2.15->tensorflow<2.16,>=2.15.0->tensorflow_text) (2.0.7)\n",
            "Requirement already satisfied: certifi>=2017.4.17 in /usr/local/lib/python3.10/dist-packages (from requests<3,>=2.21.0->tensorboard<2.16,>=2.15->tensorflow<2.16,>=2.15.0->tensorflow_text) (2023.11.17)\n",
            "Requirement already satisfied: MarkupSafe>=2.1.1 in /usr/local/lib/python3.10/dist-packages (from werkzeug>=1.0.1->tensorboard<2.16,>=2.15->tensorflow<2.16,>=2.15.0->tensorflow_text) (2.1.3)\n",
            "Requirement already satisfied: pyasn1<0.6.0,>=0.4.6 in /usr/local/lib/python3.10/dist-packages (from pyasn1-modules>=0.2.1->google-auth<3,>=1.6.3->tensorboard<2.16,>=2.15->tensorflow<2.16,>=2.15.0->tensorflow_text) (0.5.1)\n",
            "Requirement already satisfied: oauthlib>=3.0.0 in /usr/local/lib/python3.10/dist-packages (from requests-oauthlib>=0.7.0->google-auth-oauthlib<2,>=0.5->tensorboard<2.16,>=2.15->tensorflow<2.16,>=2.15.0->tensorflow_text) (3.2.2)\n",
            "Installing collected packages: tensorflow_text\n",
            "Successfully installed tensorflow_text-2.15.0\n"
          ]
        }
      ],
      "source": [
        "!pip install tensorflow_text"
      ]
    },
    {
      "cell_type": "code",
      "execution_count": null,
      "metadata": {
        "id": "26AgC5V1x6yR"
      },
      "outputs": [],
      "source": [
        "import pandas as pd\n",
        "import numpy as np\n",
        "import tensorflow as tf\n",
        "import ast\n",
        "from tensorflow.keras.utils import to_categorical\n",
        "from sklearn.preprocessing import MultiLabelBinarizer\n",
        "import tensorflow_hub as hub\n",
        "import tensorflow_text as text\n",
        "from tensorflow.keras.layers import Input, Dense, Lambda\n",
        "from tensorflow.keras.models import Model"
      ]
    },
    {
      "cell_type": "code",
      "execution_count": null,
      "metadata": {
        "colab": {
          "base_uri": "https://localhost:8080/"
        },
        "id": "iNN--C7Bx6yU",
        "outputId": "9ea08bc6-9106-4242-891f-69da25489ff4"
      },
      "outputs": [
        {
          "name": "stdout",
          "output_type": "stream",
          "text": [
            "Rows removed: 954, 63.90% of the original dataset\n"
          ]
        }
      ],
      "source": [
        "data = pd.read_csv('github_users_dataset.csv', header=None)\n",
        "\n",
        "initial_rows = data.shape[0]\n",
        "\n",
        "data.dropna(inplace=True)\n",
        "\n",
        "# Set the column names from the first row\n",
        "data.columns = data.iloc[0]\n",
        "\n",
        "# Drop the first row\n",
        "data = data[1:]\n",
        "\n",
        "# Drop all rows that are the same as the column names\n",
        "data = data[~data.eq(data.columns).all(1)]\n",
        "\n",
        "# Function to check if all strings in a given input are ASCII\n",
        "def all_strings_are_ascii(input):\n",
        "    if isinstance(input, list):\n",
        "        return all(str(s).isascii() for s in input)\n",
        "    else:\n",
        "        return str(input).isascii()\n",
        "\n",
        "# Apply the function to each element of the DataFrame\n",
        "data_ascii = data.applymap(all_strings_are_ascii)\n",
        "\n",
        "# Filter out the rows where all elements are ASCII\n",
        "data = data[data_ascii.all(axis=1)]\n",
        "\n",
        "data = data.query('projects != \"[]\" and languages != \"[]\"')\n",
        "\n",
        "final_rows = data.shape[0]\n",
        "\n",
        "print(f'Rows removed: {initial_rows - final_rows}, {100 * (initial_rows - final_rows) / initial_rows:.2f}% of the original dataset')"
      ]
    },
    {
      "cell_type": "code",
      "execution_count": null,
      "metadata": {
        "colab": {
          "base_uri": "https://localhost:8080/",
          "height": 363
        },
        "id": "QmYS0i0Bx6yU",
        "outputId": "048c6cec-f953-4f4f-9bf2-90675d005118"
      },
      "outputs": [
        {
          "data": {
            "text/html": [
              "\n",
              "  <div id=\"df-53034713-7fe5-442b-82de-c27f0cad40d0\" class=\"colab-df-container\">\n",
              "    <div>\n",
              "<style scoped>\n",
              "    .dataframe tbody tr th:only-of-type {\n",
              "        vertical-align: middle;\n",
              "    }\n",
              "\n",
              "    .dataframe tbody tr th {\n",
              "        vertical-align: top;\n",
              "    }\n",
              "\n",
              "    .dataframe thead th {\n",
              "        text-align: right;\n",
              "    }\n",
              "</style>\n",
              "<table border=\"1\" class=\"dataframe\">\n",
              "  <thead>\n",
              "    <tr style=\"text-align: right;\">\n",
              "      <th></th>\n",
              "      <th>role</th>\n",
              "      <th>experience_level</th>\n",
              "      <th>languages</th>\n",
              "      <th>tech_keywords</th>\n",
              "      <th>projects</th>\n",
              "    </tr>\n",
              "  </thead>\n",
              "  <tbody>\n",
              "    <tr>\n",
              "      <th>5</th>\n",
              "      <td>Senior Software Engineer @microsoft</td>\n",
              "      <td>Beginner</td>\n",
              "      <td>['Shell', 'PowerShell', 'C#', 'Python', 'JavaS...</td>\n",
              "      <td>['github', 'node', 'video', 'action', 'woke', ...</td>\n",
              "      <td>['A collection of tasks to enable execution My...</td>\n",
              "    </tr>\n",
              "    <tr>\n",
              "      <th>6</th>\n",
              "      <td>Principal AI Scientist at Genentech. Formerly ...</td>\n",
              "      <td>Beginner</td>\n",
              "      <td>['Python', 'Shell', 'R', 'Jupyter Notebook', '...</td>\n",
              "      <td>['ecoli_promoter_mpra', 'training', 'women', '...</td>\n",
              "      <td>['DL based processing of atac-seq data', 'Comm...</td>\n",
              "    </tr>\n",
              "    <tr>\n",
              "      <th>8</th>\n",
              "      <td>CEO and Full-Stack Developer at SULLE WAREHOUSE</td>\n",
              "      <td>Beginner</td>\n",
              "      <td>['C', 'C++', 'CMake', 'Shell', 'Assembly']</td>\n",
              "      <td>['b', 'pixels', 'linux', 'parser', 'expression...</td>\n",
              "      <td>['The README for my personal GitHub account', ...</td>\n",
              "    </tr>\n",
              "    <tr>\n",
              "      <th>9</th>\n",
              "      <td>Machine learning, quantum computing, and every...</td>\n",
              "      <td>Beginner</td>\n",
              "      <td>['Python', 'Jupyter Notebook', 'Shell', 'C++',...</td>\n",
              "      <td>['Cybernetics', 'elden_bot', 'quantum', 'Quant...</td>\n",
              "      <td>['Final Project for CSCI 2500 Computer Organiz...</td>\n",
              "    </tr>\n",
              "    <tr>\n",
              "      <th>11</th>\n",
              "      <td>Co-founder, @levelshealth.</td>\n",
              "      <td>Beginner</td>\n",
              "      <td>['JavaScript', 'Scala', 'CSS', 'HTML', 'PHP']</td>\n",
              "      <td>['sublime', 'play', 'app', 'workflow', 'exampl...</td>\n",
              "      <td>['Alfred App Workflow for caniuse.com', 'Stati...</td>\n",
              "    </tr>\n",
              "    <tr>\n",
              "      <th>17</th>\n",
              "      <td>Lead Engineer at Nike.\\n\\nMostly cloud service...</td>\n",
              "      <td>Intermediate</td>\n",
              "      <td>['JavaScript', 'TypeScript', 'PHP', 'CSS', 'HT...</td>\n",
              "      <td>['mee.js', 'Advanced', 'class.js', 'node', 'cu...</td>\n",
              "      <td>['SecretParser Plugin for the game http://www....</td>\n",
              "    </tr>\n",
              "    <tr>\n",
              "      <th>21</th>\n",
              "      <td>Physical oceanographer with a love of open sou...</td>\n",
              "      <td>Intermediate</td>\n",
              "      <td>['Jupyter Notebook', 'Python', 'HTML', 'Shell'...</td>\n",
              "      <td>['MLINT', 'Notebooks', 'MITgcm66h', 'publicati...</td>\n",
              "      <td>['Repo for the April 10-12 workshop to be held...</td>\n",
              "    </tr>\n",
              "    <tr>\n",
              "      <th>22</th>\n",
              "      <td>Tinker, build, make, share.</td>\n",
              "      <td>Intermediate</td>\n",
              "      <td>['C++', 'C', 'JavaScript', 'HTML', 'CSS']</td>\n",
              "      <td>['ESP32Tests', 'eyeball_simulator', 'BlinkRC7'...</td>\n",
              "      <td>['Abandoned: attempt to make 15-tile sliding p...</td>\n",
              "    </tr>\n",
              "    <tr>\n",
              "      <th>26</th>\n",
              "      <td>:-)</td>\n",
              "      <td>Intermediate</td>\n",
              "      <td>['Python', 'Shell', 'C', 'Java', 'C++']</td>\n",
              "      <td>['MSRnet', 'codeBase', 'discord', 'CO224_Compu...</td>\n",
              "      <td>['ABS: Scanning Neural Networks for Back-doors...</td>\n",
              "    </tr>\n",
              "    <tr>\n",
              "      <th>28</th>\n",
              "      <td>Signal processing, radar, data science</td>\n",
              "      <td>Intermediate</td>\n",
              "      <td>['Shell', 'Batchfile', 'Python', 'Makefile', 'C']</td>\n",
              "      <td>['setup', 'asciimatics', 'adwaita', 'icon', 'c...</td>\n",
              "      <td>['A conda-smithy repository for adwaita-icon-t...</td>\n",
              "    </tr>\n",
              "  </tbody>\n",
              "</table>\n",
              "</div>\n",
              "    <div class=\"colab-df-buttons\">\n",
              "\n",
              "  <div class=\"colab-df-container\">\n",
              "    <button class=\"colab-df-convert\" onclick=\"convertToInteractive('df-53034713-7fe5-442b-82de-c27f0cad40d0')\"\n",
              "            title=\"Convert this dataframe to an interactive table.\"\n",
              "            style=\"display:none;\">\n",
              "\n",
              "  <svg xmlns=\"http://www.w3.org/2000/svg\" height=\"24px\" viewBox=\"0 -960 960 960\">\n",
              "    <path d=\"M120-120v-720h720v720H120Zm60-500h600v-160H180v160Zm220 220h160v-160H400v160Zm0 220h160v-160H400v160ZM180-400h160v-160H180v160Zm440 0h160v-160H620v160ZM180-180h160v-160H180v160Zm440 0h160v-160H620v160Z\"/>\n",
              "  </svg>\n",
              "    </button>\n",
              "\n",
              "  <style>\n",
              "    .colab-df-container {\n",
              "      display:flex;\n",
              "      gap: 12px;\n",
              "    }\n",
              "\n",
              "    .colab-df-convert {\n",
              "      background-color: #E8F0FE;\n",
              "      border: none;\n",
              "      border-radius: 50%;\n",
              "      cursor: pointer;\n",
              "      display: none;\n",
              "      fill: #1967D2;\n",
              "      height: 32px;\n",
              "      padding: 0 0 0 0;\n",
              "      width: 32px;\n",
              "    }\n",
              "\n",
              "    .colab-df-convert:hover {\n",
              "      background-color: #E2EBFA;\n",
              "      box-shadow: 0px 1px 2px rgba(60, 64, 67, 0.3), 0px 1px 3px 1px rgba(60, 64, 67, 0.15);\n",
              "      fill: #174EA6;\n",
              "    }\n",
              "\n",
              "    .colab-df-buttons div {\n",
              "      margin-bottom: 4px;\n",
              "    }\n",
              "\n",
              "    [theme=dark] .colab-df-convert {\n",
              "      background-color: #3B4455;\n",
              "      fill: #D2E3FC;\n",
              "    }\n",
              "\n",
              "    [theme=dark] .colab-df-convert:hover {\n",
              "      background-color: #434B5C;\n",
              "      box-shadow: 0px 1px 3px 1px rgba(0, 0, 0, 0.15);\n",
              "      filter: drop-shadow(0px 1px 2px rgba(0, 0, 0, 0.3));\n",
              "      fill: #FFFFFF;\n",
              "    }\n",
              "  </style>\n",
              "\n",
              "    <script>\n",
              "      const buttonEl =\n",
              "        document.querySelector('#df-53034713-7fe5-442b-82de-c27f0cad40d0 button.colab-df-convert');\n",
              "      buttonEl.style.display =\n",
              "        google.colab.kernel.accessAllowed ? 'block' : 'none';\n",
              "\n",
              "      async function convertToInteractive(key) {\n",
              "        const element = document.querySelector('#df-53034713-7fe5-442b-82de-c27f0cad40d0');\n",
              "        const dataTable =\n",
              "          await google.colab.kernel.invokeFunction('convertToInteractive',\n",
              "                                                    [key], {});\n",
              "        if (!dataTable) return;\n",
              "\n",
              "        const docLinkHtml = 'Like what you see? Visit the ' +\n",
              "          '<a target=\"_blank\" href=https://colab.research.google.com/notebooks/data_table.ipynb>data table notebook</a>'\n",
              "          + ' to learn more about interactive tables.';\n",
              "        element.innerHTML = '';\n",
              "        dataTable['output_type'] = 'display_data';\n",
              "        await google.colab.output.renderOutput(dataTable, element);\n",
              "        const docLink = document.createElement('div');\n",
              "        docLink.innerHTML = docLinkHtml;\n",
              "        element.appendChild(docLink);\n",
              "      }\n",
              "    </script>\n",
              "  </div>\n",
              "\n",
              "\n",
              "<div id=\"df-d3bbb5fe-e13b-4391-9e36-b5e019996122\">\n",
              "  <button class=\"colab-df-quickchart\" onclick=\"quickchart('df-d3bbb5fe-e13b-4391-9e36-b5e019996122')\"\n",
              "            title=\"Suggest charts\"\n",
              "            style=\"display:none;\">\n",
              "\n",
              "<svg xmlns=\"http://www.w3.org/2000/svg\" height=\"24px\"viewBox=\"0 0 24 24\"\n",
              "     width=\"24px\">\n",
              "    <g>\n",
              "        <path d=\"M19 3H5c-1.1 0-2 .9-2 2v14c0 1.1.9 2 2 2h14c1.1 0 2-.9 2-2V5c0-1.1-.9-2-2-2zM9 17H7v-7h2v7zm4 0h-2V7h2v10zm4 0h-2v-4h2v4z\"/>\n",
              "    </g>\n",
              "</svg>\n",
              "  </button>\n",
              "\n",
              "<style>\n",
              "  .colab-df-quickchart {\n",
              "      --bg-color: #E8F0FE;\n",
              "      --fill-color: #1967D2;\n",
              "      --hover-bg-color: #E2EBFA;\n",
              "      --hover-fill-color: #174EA6;\n",
              "      --disabled-fill-color: #AAA;\n",
              "      --disabled-bg-color: #DDD;\n",
              "  }\n",
              "\n",
              "  [theme=dark] .colab-df-quickchart {\n",
              "      --bg-color: #3B4455;\n",
              "      --fill-color: #D2E3FC;\n",
              "      --hover-bg-color: #434B5C;\n",
              "      --hover-fill-color: #FFFFFF;\n",
              "      --disabled-bg-color: #3B4455;\n",
              "      --disabled-fill-color: #666;\n",
              "  }\n",
              "\n",
              "  .colab-df-quickchart {\n",
              "    background-color: var(--bg-color);\n",
              "    border: none;\n",
              "    border-radius: 50%;\n",
              "    cursor: pointer;\n",
              "    display: none;\n",
              "    fill: var(--fill-color);\n",
              "    height: 32px;\n",
              "    padding: 0;\n",
              "    width: 32px;\n",
              "  }\n",
              "\n",
              "  .colab-df-quickchart:hover {\n",
              "    background-color: var(--hover-bg-color);\n",
              "    box-shadow: 0 1px 2px rgba(60, 64, 67, 0.3), 0 1px 3px 1px rgba(60, 64, 67, 0.15);\n",
              "    fill: var(--button-hover-fill-color);\n",
              "  }\n",
              "\n",
              "  .colab-df-quickchart-complete:disabled,\n",
              "  .colab-df-quickchart-complete:disabled:hover {\n",
              "    background-color: var(--disabled-bg-color);\n",
              "    fill: var(--disabled-fill-color);\n",
              "    box-shadow: none;\n",
              "  }\n",
              "\n",
              "  .colab-df-spinner {\n",
              "    border: 2px solid var(--fill-color);\n",
              "    border-color: transparent;\n",
              "    border-bottom-color: var(--fill-color);\n",
              "    animation:\n",
              "      spin 1s steps(1) infinite;\n",
              "  }\n",
              "\n",
              "  @keyframes spin {\n",
              "    0% {\n",
              "      border-color: transparent;\n",
              "      border-bottom-color: var(--fill-color);\n",
              "      border-left-color: var(--fill-color);\n",
              "    }\n",
              "    20% {\n",
              "      border-color: transparent;\n",
              "      border-left-color: var(--fill-color);\n",
              "      border-top-color: var(--fill-color);\n",
              "    }\n",
              "    30% {\n",
              "      border-color: transparent;\n",
              "      border-left-color: var(--fill-color);\n",
              "      border-top-color: var(--fill-color);\n",
              "      border-right-color: var(--fill-color);\n",
              "    }\n",
              "    40% {\n",
              "      border-color: transparent;\n",
              "      border-right-color: var(--fill-color);\n",
              "      border-top-color: var(--fill-color);\n",
              "    }\n",
              "    60% {\n",
              "      border-color: transparent;\n",
              "      border-right-color: var(--fill-color);\n",
              "    }\n",
              "    80% {\n",
              "      border-color: transparent;\n",
              "      border-right-color: var(--fill-color);\n",
              "      border-bottom-color: var(--fill-color);\n",
              "    }\n",
              "    90% {\n",
              "      border-color: transparent;\n",
              "      border-bottom-color: var(--fill-color);\n",
              "    }\n",
              "  }\n",
              "</style>\n",
              "\n",
              "  <script>\n",
              "    async function quickchart(key) {\n",
              "      const quickchartButtonEl =\n",
              "        document.querySelector('#' + key + ' button');\n",
              "      quickchartButtonEl.disabled = true;  // To prevent multiple clicks.\n",
              "      quickchartButtonEl.classList.add('colab-df-spinner');\n",
              "      try {\n",
              "        const charts = await google.colab.kernel.invokeFunction(\n",
              "            'suggestCharts', [key], {});\n",
              "      } catch (error) {\n",
              "        console.error('Error during call to suggestCharts:', error);\n",
              "      }\n",
              "      quickchartButtonEl.classList.remove('colab-df-spinner');\n",
              "      quickchartButtonEl.classList.add('colab-df-quickchart-complete');\n",
              "    }\n",
              "    (() => {\n",
              "      let quickchartButtonEl =\n",
              "        document.querySelector('#df-d3bbb5fe-e13b-4391-9e36-b5e019996122 button');\n",
              "      quickchartButtonEl.style.display =\n",
              "        google.colab.kernel.accessAllowed ? 'block' : 'none';\n",
              "    })();\n",
              "  </script>\n",
              "</div>\n",
              "\n",
              "    </div>\n",
              "  </div>\n"
            ],
            "text/plain": [
              "0                                                role experience_level  \\\n",
              "5                 Senior Software Engineer @microsoft         Beginner   \n",
              "6   Principal AI Scientist at Genentech. Formerly ...         Beginner   \n",
              "8     CEO and Full-Stack Developer at SULLE WAREHOUSE         Beginner   \n",
              "9   Machine learning, quantum computing, and every...         Beginner   \n",
              "11                         Co-founder, @levelshealth.         Beginner   \n",
              "17  Lead Engineer at Nike.\\n\\nMostly cloud service...     Intermediate   \n",
              "21  Physical oceanographer with a love of open sou...     Intermediate   \n",
              "22                        Tinker, build, make, share.     Intermediate   \n",
              "26                                                :-)     Intermediate   \n",
              "28             Signal processing, radar, data science     Intermediate   \n",
              "\n",
              "0                                           languages  \\\n",
              "5   ['Shell', 'PowerShell', 'C#', 'Python', 'JavaS...   \n",
              "6   ['Python', 'Shell', 'R', 'Jupyter Notebook', '...   \n",
              "8          ['C', 'C++', 'CMake', 'Shell', 'Assembly']   \n",
              "9   ['Python', 'Jupyter Notebook', 'Shell', 'C++',...   \n",
              "11      ['JavaScript', 'Scala', 'CSS', 'HTML', 'PHP']   \n",
              "17  ['JavaScript', 'TypeScript', 'PHP', 'CSS', 'HT...   \n",
              "21  ['Jupyter Notebook', 'Python', 'HTML', 'Shell'...   \n",
              "22          ['C++', 'C', 'JavaScript', 'HTML', 'CSS']   \n",
              "26            ['Python', 'Shell', 'C', 'Java', 'C++']   \n",
              "28  ['Shell', 'Batchfile', 'Python', 'Makefile', 'C']   \n",
              "\n",
              "0                                       tech_keywords  \\\n",
              "5   ['github', 'node', 'video', 'action', 'woke', ...   \n",
              "6   ['ecoli_promoter_mpra', 'training', 'women', '...   \n",
              "8   ['b', 'pixels', 'linux', 'parser', 'expression...   \n",
              "9   ['Cybernetics', 'elden_bot', 'quantum', 'Quant...   \n",
              "11  ['sublime', 'play', 'app', 'workflow', 'exampl...   \n",
              "17  ['mee.js', 'Advanced', 'class.js', 'node', 'cu...   \n",
              "21  ['MLINT', 'Notebooks', 'MITgcm66h', 'publicati...   \n",
              "22  ['ESP32Tests', 'eyeball_simulator', 'BlinkRC7'...   \n",
              "26  ['MSRnet', 'codeBase', 'discord', 'CO224_Compu...   \n",
              "28  ['setup', 'asciimatics', 'adwaita', 'icon', 'c...   \n",
              "\n",
              "0                                            projects  \n",
              "5   ['A collection of tasks to enable execution My...  \n",
              "6   ['DL based processing of atac-seq data', 'Comm...  \n",
              "8   ['The README for my personal GitHub account', ...  \n",
              "9   ['Final Project for CSCI 2500 Computer Organiz...  \n",
              "11  ['Alfred App Workflow for caniuse.com', 'Stati...  \n",
              "17  ['SecretParser Plugin for the game http://www....  \n",
              "21  ['Repo for the April 10-12 workshop to be held...  \n",
              "22  ['Abandoned: attempt to make 15-tile sliding p...  \n",
              "26  ['ABS: Scanning Neural Networks for Back-doors...  \n",
              "28  ['A conda-smithy repository for adwaita-icon-t...  "
            ]
          },
          "execution_count": 5,
          "metadata": {},
          "output_type": "execute_result"
        }
      ],
      "source": [
        "data.head(10)"
      ]
    },
    {
      "cell_type": "markdown",
      "metadata": {
        "id": "IDPVuLm3LAaH"
      },
      "source": [
        "OHE for experience and language"
      ]
    },
    {
      "cell_type": "code",
      "execution_count": null,
      "metadata": {
        "colab": {
          "base_uri": "https://localhost:8080/"
        },
        "id": "YGQKsU5qx6yU",
        "outputId": "48806990-422b-4ae8-c3f4-852ef80ddb01"
      },
      "outputs": [
        {
          "data": {
            "text/plain": [
              "array([[1., 0., 0.],\n",
              "       [1., 0., 0.],\n",
              "       [1., 0., 0.],\n",
              "       ...,\n",
              "       [0., 0., 1.],\n",
              "       [0., 0., 1.],\n",
              "       [0., 0., 1.]], dtype=float32)"
            ]
          },
          "execution_count": 6,
          "metadata": {},
          "output_type": "execute_result"
        }
      ],
      "source": [
        "# unique experience levels\n",
        "experience = data['experience_level'].unique()\n",
        "\n",
        "# map unique experience levels to numbers\n",
        "# categorical data --> numerical data for one-hot encoding\n",
        "experience_level_mapping = {level: idx for idx, level in enumerate(experience)}\n",
        "\n",
        "# w gpt2 nie ma potrzeby one-hot encoding\n",
        "data['experience_level_num'] = data['experience_level'].map(experience_level_mapping)\n",
        "\n",
        "# one-hot encoding !!!!!!!!!!!!\n",
        "experience_level_encoded = to_categorical(data['experience_level_num'])\n",
        "experience_level_encoded\n"
      ]
    },
    {
      "cell_type": "code",
      "execution_count": null,
      "metadata": {
        "colab": {
          "base_uri": "https://localhost:8080/"
        },
        "id": "v7i8q_pnx6yV",
        "outputId": "5c6eaca7-8166-4a2a-c155-5e049c19a28d"
      },
      "outputs": [
        {
          "data": {
            "text/plain": [
              "array([[0, 0, 0, 0, 0, 0, 0, 0, 0, 0, 0, 0, 0, 0, 1, 0, 0, 0, 0, 0, 0, 0,\n",
              "        0, 0, 0, 0, 0, 0, 0, 0, 0, 0, 0, 0, 0, 0, 0, 0, 0, 0, 0, 0, 0, 0,\n",
              "        1, 0, 0, 0, 0, 0, 0, 0, 0, 0, 0, 0, 0, 0, 0, 0, 0, 0, 0, 0, 0, 0,\n",
              "        0, 1, 0, 0, 1, 0, 0, 0, 0, 0, 0, 0, 0, 0, 1, 0, 0, 0, 0, 0, 0, 0,\n",
              "        0, 0, 0, 0, 0, 0, 0]])"
            ]
          },
          "execution_count": 7,
          "metadata": {},
          "output_type": "execute_result"
        }
      ],
      "source": [
        "data['languages'] = data['languages'].apply(ast.literal_eval)\n",
        "languages = set([lang for sublist in data['languages'].tolist() for lang in sublist])\n",
        "\n",
        "mlb = MultiLabelBinarizer(classes=sorted(languages))\n",
        "languages_encoded = mlb.fit_transform(data['languages'])\n",
        "languages_encoded[:1]"
      ]
    },
    {
      "cell_type": "markdown",
      "metadata": {
        "id": "DRfmxObHLHmQ"
      },
      "source": [
        "BERT for role and project"
      ]
    },
    {
      "cell_type": "code",
      "execution_count": null,
      "metadata": {
        "colab": {
          "base_uri": "https://localhost:8080/"
        },
        "id": "1Lz4_Ie8x6yV",
        "outputId": "e400c4a2-c0c8-407e-cc63-b000c1d4c45e"
      },
      "outputs": [
        {
          "data": {
            "text/plain": [
              "dict_keys(['pooled_output', 'default', 'encoder_outputs', 'sequence_output'])"
            ]
          },
          "execution_count": 8,
          "metadata": {},
          "output_type": "execute_result"
        }
      ],
      "source": [
        "bert_preprocess_url = 'https://tfhub.dev/tensorflow/bert_en_uncased_preprocess/3'\n",
        "bert_model_url = 'https://tfhub.dev/tensorflow/small_bert/bert_en_uncased_L-2_H-128_A-2/2'\n",
        "\n",
        "bert_preprocess_model = hub.KerasLayer(bert_preprocess_url)\n",
        "bert_model = hub.KerasLayer(bert_model_url)\n",
        "\n",
        "role_texts = data['role'].tolist()  # Convert 'role' column to a list\n",
        "\n",
        "role_preprocessed = bert_preprocess_model(role_texts)\n",
        "\n",
        "role_results = bert_model(role_preprocessed)\n",
        "role_results.keys()"
      ]
    },
    {
      "cell_type": "code",
      "execution_count": null,
      "metadata": {
        "colab": {
          "base_uri": "https://localhost:8080/"
        },
        "id": "P-dQPBr2JH4f",
        "outputId": "11eb1913-d847-4769-8d45-26fed7ea4228"
      },
      "outputs": [
        {
          "data": {
            "text/plain": [
              "TensorShape([539, 128])"
            ]
          },
          "execution_count": 9,
          "metadata": {},
          "output_type": "execute_result"
        }
      ],
      "source": [
        "roles_embedded = role_results['pooled_output']\n",
        "\n",
        "roles_embedded.shape"
      ]
    },
    {
      "cell_type": "code",
      "execution_count": null,
      "metadata": {
        "id": "HCzirrve_AFD"
      },
      "outputs": [],
      "source": [
        "projects = [j for i in data['projects'].tolist() for j in ast.literal_eval(i)]\n",
        "\n",
        "projects_preprocessed = bert_preprocess_model(projects)\n",
        "projects_results = bert_model(projects_preprocessed)\n"
      ]
    },
    {
      "cell_type": "code",
      "execution_count": null,
      "metadata": {
        "colab": {
          "base_uri": "https://localhost:8080/"
        },
        "id": "ZwY00kAkdL_t",
        "outputId": "d147990a-9075-41a0-9542-e881b22c4245"
      },
      "outputs": [
        {
          "data": {
            "text/plain": [
              "['A collection of tasks to enable execution MySQL commands or scripts by VSTS/TFS Windows Agents.',\n",
              " 'Microsoft Azure Workshop for Developers',\n",
              " 'PowerShell module for interacting with Bluetooth Low Energy (BLE) devices implementing the Generic Attribute Profile (GATT/GAP)',\n",
              " 'Pre-commit hooks collection that utilizes ChatGPT and OpenAI platform to validate changes made to the codebase.',\n",
              " 'This GitHub Action allows you to run Gitleaks in your GitHub workflow.',\n",
              " 'A MkDocs plugin that lets you exclude/include docs files using globs, regexes, gitignore-style file and Markdown/FrontMatter tags metadata.',\n",
              " 'MkDocs Video plugin',\n",
              " 'OSC message decoder/encoder with fault tolerant',\n",
              " 'Detect non-inclusive language in your source code.']"
            ]
          },
          "execution_count": 11,
          "metadata": {},
          "output_type": "execute_result"
        }
      ],
      "source": [
        "map_user_to_projects = {}\n",
        "for user_num, projects_list in enumerate(data['projects']):\n",
        "  map_user_to_projects[user_num] = ast.literal_eval(projects_list)\n",
        "\n",
        "map_user_to_projects[0]\n"
      ]
    },
    {
      "cell_type": "code",
      "execution_count": null,
      "metadata": {
        "colab": {
          "base_uri": "https://localhost:8080/"
        },
        "id": "Lo34yf3v9E6Z",
        "outputId": "cfae5ef9-aac2-4298-b585-db689cf8dcda"
      },
      "outputs": [
        {
          "data": {
            "text/plain": [
              "dict_keys(['pooled_output', 'default', 'encoder_outputs', 'sequence_output'])"
            ]
          },
          "execution_count": 12,
          "metadata": {},
          "output_type": "execute_result"
        }
      ],
      "source": [
        "projects_results.keys()"
      ]
    },
    {
      "cell_type": "code",
      "execution_count": null,
      "metadata": {
        "id": "j4hjAekyX0T1"
      },
      "outputs": [],
      "source": [
        "projects_embedded = projects_results['pooled_output']"
      ]
    },
    {
      "cell_type": "code",
      "execution_count": null,
      "metadata": {
        "colab": {
          "base_uri": "https://localhost:8080/"
        },
        "id": "bctuuXl2P4Sp",
        "outputId": "58fe70c8-e066-48b5-f442-a577b7e60f03"
      },
      "outputs": [
        {
          "name": "stdout",
          "output_type": "stream",
          "text": [
            "(539, 3)\n",
            "(539, 95)\n",
            "(539, 128)\n",
            "(10437, 128)\n"
          ]
        }
      ],
      "source": [
        "for i in [experience_level_encoded,\n",
        "          languages_encoded,\n",
        "          roles_embedded,\n",
        "          projects_embedded]: print(i.shape)"
      ]
    },
    {
      "cell_type": "code",
      "execution_count": null,
      "metadata": {
        "colab": {
          "base_uri": "https://localhost:8080/"
        },
        "id": "cry08HfZSO5B",
        "outputId": "bc286e3e-3944-4b13-c3e8-bf54ae382b7c"
      },
      "outputs": [
        {
          "data": {
            "text/plain": [
              "TensorShape([539, 226])"
            ]
          },
          "execution_count": 15,
          "metadata": {},
          "output_type": "execute_result"
        }
      ],
      "source": [
        "user_profiles = tf.concat([roles_embedded, experience_level_encoded, languages_encoded], axis=1)\n",
        "user_profiles.shape"
      ]
    },
    {
      "cell_type": "code",
      "execution_count": null,
      "metadata": {
        "colab": {
          "base_uri": "https://localhost:8080/"
        },
        "id": "4-cUpHTOb3Si",
        "outputId": "b7501c45-822e-49ff-ad60-de4714b1617e"
      },
      "outputs": [
        {
          "data": {
            "text/plain": [
              "<tf.Tensor: shape=(226,), dtype=float32, numpy=\n",
              "array([-0.9998977 ,  0.02674753, -0.95229065,  0.07566944, -0.98473793,\n",
              "        0.8515617 , -0.9891793 , -0.06120098,  0.07552765, -0.00853382,\n",
              "       -0.33273837, -0.07438556, -0.13768643,  0.99698657,  0.20532432,\n",
              "        0.00142703,  0.9212176 ,  0.066608  , -0.86612004, -0.28353733,\n",
              "        0.5697272 ,  0.06278628, -0.8876335 , -0.82182   , -0.9968265 ,\n",
              "       -0.06983151, -0.9948706 ,  0.974122  ,  0.81316996,  0.1028368 ,\n",
              "        0.09937278, -0.0886519 , -0.86351496, -0.9690397 ,  0.7592347 ,\n",
              "        0.996806  , -0.92572796, -0.00526048,  0.51379555, -0.9914838 ,\n",
              "        0.9527194 ,  0.9840963 , -0.99205375,  0.84864724, -0.88819516,\n",
              "       -0.19925441, -0.86289763,  0.9918394 , -0.5801045 ,  0.9990769 ,\n",
              "       -0.5767053 , -0.9606845 , -0.01358342,  0.89274883,  0.8692733 ,\n",
              "        0.59175795, -0.12701385,  0.19582532,  0.9900831 ,  0.7635511 ,\n",
              "        0.08241388, -0.01632024, -0.21319991,  0.7888896 , -0.6095279 ,\n",
              "       -0.99815786,  0.5985274 ,  0.30448887,  0.7767534 ,  0.94538933,\n",
              "        0.99744296,  0.28411013, -0.95372397,  0.0897599 ,  0.8989223 ,\n",
              "       -0.99616855, -0.9038413 ,  0.18534206, -0.5897031 ,  0.02072463,\n",
              "       -0.08313274, -0.02924383, -0.32113564, -0.9986659 ,  0.9884711 ,\n",
              "       -0.9599133 , -0.8250122 , -0.98161006, -0.97992784, -0.28468037,\n",
              "        0.85108006,  0.98269707, -0.87811863,  0.8836258 ,  0.9175378 ,\n",
              "        0.9093333 , -0.53736395,  0.8416976 , -0.99543273, -0.35718548,\n",
              "       -0.97044927, -0.167644  , -0.985918  , -0.9847769 , -0.9972612 ,\n",
              "       -0.19615552, -0.99557334, -0.8198126 , -0.89413035,  0.40607387,\n",
              "        0.993286  ,  0.39813516, -0.2018834 ,  0.98810804, -0.9861045 ,\n",
              "        0.1934642 , -0.9734886 ,  0.7728439 ,  0.12730266, -0.999747  ,\n",
              "        0.1289949 , -0.99871373, -0.94100636,  0.76040995, -0.98724705,\n",
              "        0.9979098 ,  0.92519665,  0.98347044,  1.        ,  0.        ,\n",
              "        0.        ,  0.        ,  0.        ,  0.        ,  0.        ,\n",
              "        0.        ,  0.        ,  0.        ,  0.        ,  0.        ,\n",
              "        0.        ,  0.        ,  0.        ,  0.        ,  0.        ,\n",
              "        1.        ,  0.        ,  0.        ,  0.        ,  0.        ,\n",
              "        0.        ,  0.        ,  0.        ,  0.        ,  0.        ,\n",
              "        0.        ,  0.        ,  0.        ,  0.        ,  0.        ,\n",
              "        0.        ,  0.        ,  0.        ,  0.        ,  0.        ,\n",
              "        0.        ,  0.        ,  0.        ,  0.        ,  0.        ,\n",
              "        0.        ,  0.        ,  0.        ,  0.        ,  0.        ,\n",
              "        1.        ,  0.        ,  0.        ,  0.        ,  0.        ,\n",
              "        0.        ,  0.        ,  0.        ,  0.        ,  0.        ,\n",
              "        0.        ,  0.        ,  0.        ,  0.        ,  0.        ,\n",
              "        0.        ,  0.        ,  0.        ,  0.        ,  0.        ,\n",
              "        0.        ,  0.        ,  0.        ,  1.        ,  0.        ,\n",
              "        0.        ,  1.        ,  0.        ,  0.        ,  0.        ,\n",
              "        0.        ,  0.        ,  0.        ,  0.        ,  0.        ,\n",
              "        0.        ,  1.        ,  0.        ,  0.        ,  0.        ,\n",
              "        0.        ,  0.        ,  0.        ,  0.        ,  0.        ,\n",
              "        0.        ,  0.        ,  0.        ,  0.        ,  0.        ,\n",
              "        0.        ], dtype=float32)>"
            ]
          },
          "execution_count": 16,
          "metadata": {},
          "output_type": "execute_result"
        }
      ],
      "source": [
        "user_profiles[0]"
      ]
    },
    {
      "cell_type": "code",
      "execution_count": null,
      "metadata": {
        "colab": {
          "base_uri": "https://localhost:8080/"
        },
        "id": "W5nZVvZE2zjh",
        "outputId": "b8fd7950-e6d9-46ee-8244-b82e0f949762"
      },
      "outputs": [
        {
          "name": "stdout",
          "output_type": "stream",
          "text": [
            "User 0: ['A collection of tasks to enable execution MySQL commands or scripts by VSTS/TFS Windows Agents.', 'Microsoft Azure Workshop for Developers', 'PowerShell module for interacting with Bluetooth Low Energy (BLE) devices implementing the Generic Attribute Profile (GATT/GAP)', 'Pre-commit hooks collection that utilizes ChatGPT and OpenAI platform to validate changes made to the codebase.', 'This GitHub Action allows you to run Gitleaks in your GitHub workflow.', 'A MkDocs plugin that lets you exclude/include docs files using globs, regexes, gitignore-style file and Markdown/FrontMatter tags metadata.', 'MkDocs Video plugin', 'OSC message decoder/encoder with fault tolerant', 'Detect non-inclusive language in your source code.']\n",
            "User 1: ['DL based processing of atac-seq data', 'Community-curated list of software packages and data resources for single-cell, including RNA-seq, ATAC-seq, etc.', 'Hackathon team: gene expression analysis for Covid-19', 'Examples of single-cell genomic analysis accelerated with RAPIDS', 'Single-Cell Analysis in Python. Scales to >1M cells.', 'SigProfilerExtractor allows de novo extraction of mutational signatures from data generated in a matrix format. The tool identifies the number of operative mutational signatures, their activities in each sample, and the probability for each signature to cause a specific mutation type in a cancer sample. The tool makes use of SigProfilerMatrixGenerator and SigProfilerPlotting. ', 'Extracting mutational signatures via LASSO. The manuscript of the method is available as a preprint at: https://www.biorxiv.org/content/10.1101/384834v3', 'Training requirements for joining projects', 'Deep Learning based variant calling toolkit - https://clara-parabricks.github.io/VariantWorks/', 'A list of women tech speakers & organizers. Add yourself or others by submitting a PR! PS if you do add someone, make sure to tell them! :) #fempire']\n",
            "User 2: ['The README for my personal GitHub account', 'Shows how to accurately blend 2 BGRA pixels, using a user-defined alpha input, resulting in a final BGRA pixel.', 'General C/C++ programming library with data algorithms and CPU based image processing', 'An expression parser in C that can easily be modified for more operations.', 'A lightweight C program for Linux user authentication using the shadow file.', 'A portable URL parser in C.', 'DPI aware layer for windows GUI development.']\n",
            "User 3: ['Final Project for CSCI 2500 Computer Organization at RPI', 'Final Project for RPI Cryptography and Network Security', 'An Rensselaer Center for Open Source (RCOS) created project exploring AI and video games; created to make a StarCraft 2 AI', 'AI to Play Elden Ring', 'Multi-backend SDK for quantum optimisation', 'Repository containing code for the Qiskit video series: Paper Reviews', 'A curated list of papers, blogs, and research publications in the field of Quantum Machine Learning', 'Hybrid Quantum-Classical Machine Learning in TensorFlow', 'A Julia/JuMP Package for Optimal Quantum Circuit Design', 'Code for implementing and experimenting with quantum algorithms', 'Code for the paper \"An Empirical Review of Optimization Techniques for Quantum Variational Circuits\"', 'Code and Results from Paper: Replicating Softmax Deep Double Deterministic Policy Gradients', 'From scratch implementations of prominent reinforcement learning techniques', \"Code done working through Sutton and Barto's Reinforcement Learning\", 'Code for \"Optimizing Quantum Variational Circuits with Deep Reinforcement Learning\"', 'Simple Genetic Algorithm in Python with Visualization', '[WIP] Vectorized architecture for value-based methods such as DQN and DDPG']\n",
            "User 4: ['Alfred App Workflow for caniuse.com', 'Static site powering andrewconner.com', 'A Facebook SDK wrapper service for Angular.js', 'Smart infinite scroll directive for Angular.js that is customizable to support nested, horizontal, vertical, and/or bidirectional scrolls', 'A boilerplate-reducing giter8 template for sbt 0.11 projects.', 'Begin app', 'Scala Persistent Task Queuing Library for AWS', 'Various helpers to pass trusted data to untrusted environments', 'D3 graphing library, originally forked from nvd3.js', 'A sample Play! Framework 2.0 application with Angular.js integration. ', 'A simple Play 2.1 application using Google Guice for dependency injection.', 'Play Framework', 'A small decorator for the JavaScript WebSocket API that automatically reconnects', 'Library for quick scala code checking and validation.', 'Chrome extension to prevent Slack from sending a typing status to channels and private messages', 'Amazon EC2 Spot Instance Analysis Framework', 'Make the Guice EDSL more Scala friendly', 'This project is an integration of Sublime Text Editor 2 with Ensime for Scala development']\n",
            "User 5: ['SecretParser Plugin for the game http://www.thesecretworld.com for', 'A simple benchmark runner for Node', 'Binary Format Encoder Compiler', 'A cross-browser storage library using localStorage and others', 'A JavaScript Playing Card Library', 'A simple JavaScript class system', 'CSS3 language file for Gedit, Gtk+', 'Cube: A system for time series visualization.', 'A config driven dashboard for cube', 'Small experimenting app for planning Dead Cells runs', 'A jQuery plugin that sets the default \"value\" for a text input.', 'A JavaScript micro-framework for adding drag-and-drop functionality to elements for advanced UI development', 'easy to use OpenID library for codeIgniter', 'A JavaScript micro-framework for events', 'OpenID and OAuth together in one easy-to-use external ID library', 'TypeScript library for interacting with FunimationNow service APIs', 'Temporary blog until I build a new one... eventually', 'A PHP git library', 'Polyfill for the HTML5 <progress> element', 'A mouse event emulator for touch devices', 'Fantastic Micro-Frameworks and Micro-Libraries for Fun and Profit!', \"An extension of mongoose's models\", 'A JS/CSS Build Utility', 'A Node.js playing card module with support for custom decks', 'A server-side companion for EventSource', ':seat: Find all the git repositories in a specified directory, recursively.', 'A streaming compression / gzip library for node.js', 'Node.js Randomization Utilities', 'Secure password hashing with salt and key stretching for Node.js', 'A trie dictionary storage model for Node.js']\n",
            "User 6: ['Repo for the April 10-12 workshop to be held in Berkeley, CA', 'Estimating the Bottom Pressure Torque in ECCO', 'Useful little scripts that I use on commandline. Work in OS-X + zsh at least.', 'Code for Sonnewald and Lguensat 2021', 'Files to present at interview', 'Slides and materials for an ML introduction for GFDL interns, summer 2020.', 'How tos on the unix systems', 'Website made by Katherine Rosenfeld', 'Analysis framework and collection of process-oriented diagnostics for weather and climate simulations', 'M.I.T general circulation model as of checkpoint66h with author emails', 'Tutorial material for MLINT', 'A modern LaTeX Beamer theme', 'Code to accompany paper', 'Ipython notebook directory', 'Notebook to play with the occiput data and the AMOC-SSH connection at the \"switch/noisemaker\" points.', 'To accompany Sonnewald et al. Sonnewald et al.: Elucidating Ecological Complexity: Unsupervised Learning determines global marine eco-provinces', 'Repo to keep track of the lectures', 'Some papers in preperation. Comments, discussion and oppinions much appreciated!', 'ipython notebook to accompany 2A) The Power of Model Validation', 'SOM with noisy encoding and decision noise (modified from Olivia Guest + minisom )', 'An up to date version of the Journal of Climate SSH paper: \"Linear predictability: A sea level case study\"', 'This is the current draft of my thesis', 'Read MITgcm mds binary files into xarray']\n",
            "User 7: ['Abandoned: attempt to make 15-tile sliding puzzle game using HTML', 'Retrocomputing badge for the 2018 Hackaday Superconference', '8 sliding tile puzzle with helper/solution written in JavaScript', 'Porting Adjustable Eye from TVout to ESP_8_BIT_composite', 'Angular tutorial \"Tour of Heroes\" application', 'Repository for small test projects with Angular web application framework', 'Example from AnimatedGIF Arduino library, converted to ESP_8_BIT_composite', 'Faux analog TV tuning effect via intentionally incorrect image stride', 'Playground for Arduino experiments', 'Work for ART.HAPPENS 2021/2/18', 'Web UI to interactively play with AS7341 sensor', 'PIC16F18345 pulses LED connected to pin RA2 via PWM module', 'Turning PIC RC7 pin ON/OFF based on command sent via serial port.', 'Fork of Hackaday Superconference 2017 Camera Badge project', 'Files from exploring a Canon Pixma MX340 multi-function inkjet', 'Codecademy off-platform projects for HTML & related (CSS, JavaScript) technologies', 'Codecademy Python 3 off-platform projects', 'Compass web app for Android Chrome', 'Test programs for exploring ESP32', 'Experiments in ESP8266', 'ESP32 code to generate color NTSC composite video signal', 'Color composite video code from ESP_8_BIT as an Arduino library', 'Variant of Adafruit Uncanny Eye on ESP32 via NTSC composite video', 'Repro code for Fusion 360 object creation slowdown problem', 'Telnet into a Folding@Home client and print queue info', 'Pixelblaze project Glow Flow', '2018 Hackaday Belgrade Hardware Badge']\n",
            "User 8: ['ABS: Scanning Neural Networks for Back-doors by  Artificial Brain Stimulation', 'API Portal of the Department of Computer Engineering https://api.ce.pdn.ac.lk/', 'An attempt to infer what a person is seeing by analyzing the EEG signals from the scalp outside the visual cortex.', \"an attempt use buffon's needle area estimation as an heuristic for foraging behaviour of a simulated swarm bots\", 'Inventory Management system DBMS', 'This repository is to store useful algorithms which are used frequently and to study them', ':mortar_board: Path to a free self-taught education in Computer Science!', 'Solutions for the contests organized by NOISL', 'A web app for ranking computer science departments according to their research output in selective venues, and for finding active faculty across a wide range of areas.', 'Methods and Implements of Deep Clustering', 'Vu Tran, Gihan Jayatilaka, Ashwin Ashok and Archan Misra, 2021, April. Deeplight : Robust & Unobtrusive Real-time Screen-Camera Communication for Real-World Displays. In 2021 20th ACM/IEEE International Conference on Information Processing in Sensor Networks (IPSN) (). IEEE.', 'LED cube animation  with automated multiplexing', 'Detectron2 is a platform for object detection, segmentation and other visual recognition tasks.', 'PyTorch code for Vision Transformers training with the Self-Supervised learning method DINO', 'Various discord things for running courses', 'Code written for E14']\n",
            "User 9: ['A conda-smithy repository for adwaita-icon-theme.', 'A conda-smithy repository for airspy.', 'A conda-smithy repository for airspyhf.', 'A conda-smithy repository for alsa-lib.', 'A conda-smithy repository for alsa-plugins.', 'A conda-smithy repository for asciimatics.', 'A conda-smithy repository for at-spi2-atk.', 'A conda-smithy repository for at-spi2-core.', 'A conda-smithy repository for atk.', 'Bernard - Discord bot and Head of Behavior', 'bladeRF USB 3.0 Superspeed Software Defined Radio Source Code', 'A conda-smithy repository for bladerf.', 'A WIP bot for playing Blood on the Clocktower on Discord. Version 2.', 'Collection of Discord bot extensions for playing Blood on the Clocktower', 'A conda-smithy repository for cairo.', 'A conda-smithy repository for cf-autotick-bot-test-package.', 'Working files for the @cf-regro-autotick-bot', 'Flagship repo for cf-regro-autotick-bot', 'Open source speech codec designed for communications quality speech between 450 and 3200 bit/s. The main application is low bandwidth HF/VHF digital radio. ', 'A conda-smithy repository for codec2.', 'OS-agnostic, system-level binary package manager and ecosystem', 'A conda-smithy repository for conda-forge-ci-setup.', 'A conda-smithy repository for conda-forge-pinning.', 'Documentation for conda-forge', 'Lightweight lockfile for conda environments', 'The tool for managing conda-forge feedstocks.', 'A conda-smithy repository for cppzmq.', 'Read, write, and interact with data in the Digital RF and Digital Metadata formats']\n",
            "User 10: ['My submission to the 2013 js13kgames.com competition', 'Simple blender projects', 'blog images', 'The markdown source files of my blog posts that are used in the build process of my site here at github, and some additional scripts I worked out', 'blog word report cli tool', 'The source code for my collection of posts on canvas examples', 'a city building game', 'A game about ships', 'my 2016 submission to js13k games', 'Linux bash command scripting demos with node.js', 'playing around with the idea of deterministic systems', 'demos for deterministic v 0.0.11', 'The github page of dustinpfister', 'This is for EM', 'A collection of basic electionjs examples', 'Some Python examples', 'Various examples of R programing language features', 'josn on the fly', 'Yet another one of these', 'visualizing my sites analytics data', 'First time playing with three.js', 'Animation by a forFrame basis', 'A client system for playing back forFrame animations', 'A basic game framework', 'a game about digging in dirt', 'For the 2015 Buffalo Game Space Game Jam', 'Life off the grid', 'A game about land parcels', 'Just a basic roguelike']\n",
            "User 11: ['Android Full Framework for Nougat.', 'Purpose only! The   dangers   of   Bluetooth   implementations:   Unveiling   zero   day vulnerabilities   and   security   flaws   in   modern   Bluetooth   stacks.', 'Broadpwn bug (CVE-2017-9417)', 'The Darwin Kernel (mirror)', 'Most usable tools for iOS penetration testing', 'Useful resources for iOS hacking', 'iOS Security Audit Toolit - A semi-automatic tool for iOS App security audit and iOS reverse engineering', 'open-source jailbreaking tool for many iOS devices', 'This repository contains several applications, demonstrating the Meltdown bug.', 'A collection of resources for OSX/iOS reverse engineering.', 'A collection of resources for linux and macOS/iOS reverse engineering', 'RTL8812AU/21AU and RTL8814AU driver with monitor mode and frame injection', 'Flutter web site']\n",
            "User 12: ['This repository contains System Design resources which are useful while preparing for interviews and learning Distributed Systems', 'All the questions to prep for a technical interview', 'Accept Bitcoin payments. Free, open-source & self-hosted, Bitcoin payment processor. ', 'Solutions for Leetcode, Codewars, Hackerrank, Structy, and other platforms.', 'Built from scratch using the MERN stack. The project features server-side pagination, line charts, pie charts, and responsive design. The back end uses Node.js, Express.js, and Mongoose while the front end uses Material UI for styling, Material UI data grid for tables, Nivo for charts, and Redux toolkit for state management.', 'Built from scratch using the MERN stack. The project features server-side pagination, line charts, pie charts, and responsive design. The back end uses Node.js, Express.js, and Mongoose while the front end uses Material UI for styling, Material UI data grid for tables, Nivo for charts, and Redux toolkit for state management.', 'Capture', 'A visually stunning movie app that transforms how you manage movie recommendations. Search for movies by title, bookmark them, and review at your convenience.', 'My personal repository.', 'My portfolio site includes links to my projects, my designs, my resume, my reference, and ways to get in touch with me. The PDF version of my resume can be downloaded on the home page.', 'Created with CodeSandbox', 'Nur Bier, a full-stack eCommerce WebApp, lets you learn about a brewery startup in Berlin, Germany, and gives you a chance to purchase its new beers.']\n",
            "User 13: ['A React application exercise.', 'Various projects that are no longer relevant to me yet I want to save for reference.', 'A list of awesome resources for UNIX manpage authorship.', 'A curated list of various semantic web and linked data resources.', 'A project boilerplate for Babel and Mocha.', 'The kata for sitters of babies.', 'Yet another web framework experiment.', 'JSON & YAML representations of the BibTeX macros.', 'Blasters.link website.', 'A Vagrant box provisioned via Ansible for BookStack, a simple and free documentation platform.', 'Testing... 1, 2, 3.', 'WIP!!!', 'A C pre-compiler (was almost called --C for prefix C nerd-dom) experiment.', 'An experiment with representing vCard data via h-card and Handlebars.js.', 'Random cheat sheets, notes and goodies for development.', 'Collapses ISO 8601 Extended timestamps down to a vCard usable format.', 'Address book-like application to manage contact information.', 'A working example project to demonstrate the usage of `createLocalVue()` for plugin testing.', 'A non-working example project to demonstrate the usage of `createLocalVue()` for plugin testing.', 'Color C lib for printf', \"RadHam DataDX is the pseudo-sequel to PDOConn OMG! Long story short... it's a PDO helper class to make data access easy.\", \"An exercise in which we'll be provisioning a LAMP stack with Vagrant & Ansible.\", 'Searches through a list of git branches given a search term', 'RDF schema for describing software projects']\n",
            "User 14: ['Mirror of aports repository', 'Up to date Arc Colors wallpapers', 'music library manager and MusicBrainz tagger', ' A plugin for beets that finds releases (on musicbrainz) based on a barcode that is provided via text or decoded from image files', \"an init system that isn't smarter than you\", 'daemons for the Beginning init daemon.', 'A breadth-first version of the UNIX find command', 'libarchive(3)-utilizing unzip implementation, lightly ported from FreeBSD', 'A tiling window manager based on binary space partitioning', 'script to generate the files needed for the XML DocBook catalog; forked from Gentoo.', 'utilities for working with clang-compat on Exherbo Linux ', 'The manager for supervision trees used on Mutiny.', 'filters, backends, cups-browsed, ... - Everything which CUPS needs to be used on non-Mac systems', 'A Powercord theme that makes Discord look more like IRC.', 'namako ni li ante e toki pi ilo Siko tawa toki pona. A Powercord plugin to translate Discord to Toki Pona.', 'poki ni li jo e ante toki pi ilo Siko. A repository that contains data for translating Discord to Toki Pona', 'Docker image creation files', 'The systemd project\\'s \"logind\", extracted to a standalone package', 'The execline scripting language', 'The base files and directory structure that makes up a Mutiny system.', 'A nix flake for the funkwhale music service', 'fork of git-dude, for use in printing commits to IRC ', 'quickly review and push gerrit patches from the terminal ', 'Automatically exported from code.google.com/p/gnome-colors', 'up to date GNOME Colors icon theme ', 'fork of gummiboot, simple UEFI boot manager now known as systemd-boot ', 'Fixes Hardcoded Icons', 'Manage a user environment using Nix  [maintainer=@rycee] ', 'POSIX sh test runner, aiming to be roughly TAP compliant ']\n",
            "User 15: ['A collection of short tutorials for those who want to learn Python, ArcGIS API for Python and other technologies.', 'Kubernetes controller for GitHub Actions self-hosted runners', 'Course Materials for Advanced Python Scripting for GIS - 430.618', 'Ideas for a more advanced Python class for GIS and Remote Sensing', '430.618.81 - Advanced Python Scripting for GIS', 'A set of python tools to assist working with AGOL feature services', 'Take a modern Python codebase to the next level of performance.', 'Minimal examples of data structures and algorithms in Python', 'Documentation and samples for ArcGIS API for Python', \"The slides and code of Esri's FedDev Summit presentation given in Washington DC 2019\", 'Repository for Testing and Deployment of ArcGIS Python API Utilities', 'python package for REST API (AGS, AGOL, webmap JSON, etc..)', 'Packages for BreadPi, a hardware designed by SB Components', 'Extended pickling support for Python objects', 'A cookiecutter template for creating ArcGIS API for Python extensions.  ', 'Algorithms that run our universe | Your personal library of every algorithm and data structure code that you will ever encounter', 'cs_project_big_data2017', 'IP Address dtype and block for pandas', 'Tutorial on using Cython to optimize Python code.', \"Tutorial for Python 3.7's dataclass\", 'Data Structure And Algorithmic Thinking With Python', 'Dinosaurus is a python package add-in developed to extend the ArcGIS API for Python.  ', 'Opinionated stacks of ready-to-run Jupyter applications in Docker.', 'Dot access dictionary with dynamic hierarchy creation and ordered iteration', 'NTLM authentication support for Requests.', 'A cookiecutter for Esri Python Toolbox Projects', 'Code examples from the book.']\n",
            "User 16: ['Angular Style Guide: A starting point for Angular development teams to provide consistency through good practices.', 'Public feedback discussions for: GitHub for Mobile, GitHub Discussions, GitHub Codespaces, GitHub Sponsors, GitHub Issues and more!', 'Ferret is a free software lisp implementation for real time embedded control systems.', 'A series of Jupyter notebooks that walk you through the fundamentals of Machine Learning and Deep Learning in Python using Scikit-Learn, Keras and TensorFlow 2.', 'The Roslyn .NET compiler provides C# and Visual Basic languages with rich code analysis APIs.', \"The regex file necessary to build language ports of Browserscope's user agent parser.\", 'This contains tomcat tasks for vsts build and rm']\n",
            "User 17: ['A beautiful, simple, clean, and responsive Jekyll theme for academics', 'Implementation of Verifiable Secret Sharing as part of Foundations of Cryptography Course', \"File compression using Huffman coding implemented in C for 1st Semester's project.\", 'C++ projects part of 3rd Semester\\'s \"Programming Languages - 2\" project', 'Atom plugin for competitive programming', 'SAP-1 implementation in Verilog as part of 2nd Semester\\'s \"Digital Design\" course assignment', 'Operating Systems course project. Uses system programming to implement a banking system.', 'Code for various data structures and algorithms', 'Submission for ETHIndia hackathon', 'Decentralized file sharing over LAN', 'Website for SIH 2018']\n",
            "User 18: ['Workspace combining my Oranges, Limes, and Lemons repos', 'My dotfiles', 'CMake ExternalProject wrapper for building ffmpeg', 'A GUI builder module for JUCE', 'A library of utilities and building blocks for JUCE-based apps and plugins', 'C++ filesystem library, built on top of std::filesystem', 'C++ library for working with musical harmony', 'C++ hashes library', 'C++ utilities and building blocks', 'Shared scripts & configuration files for use by the Limes library repositories', 'Template for a C++ project that uses my linfra infrastructure code', 'C++ serialization library', 'CMake wrapper for MTS-ESP', 'CMake modules, scripts, and utilities', 'Cross platform plugin testing and validation tool']\n",
            "User 19: ['AutoDispatch is a multimethod implementation for Java using an annotation processor', 'AutoWeave generates AOP weaved classes using Java Annotation Processing', 'Codefest 2011 VirtualCombat', 'Custom hardware+software platform monitoring my Rise Garden', \"All bnorm's Robocode projects.\", 'Real math for Java!', 'JUnit5 extension for making unit tests contingent on other unit test success', 'A library for testing Kotlin and Java annotation processors, compiler plugins and code generation', 'Template for IR based Kotlin compiler plugin.', 'Kotlin compiler plugin to enable diagrammed function calls in the Kotlin programming language', 'Kotlin Compiler plugin for React boilerplate', 'Turns a Retrofit service interface into Ktor routing', 'Robot for the Datasite Robocode tournament', 'An experimental tool for building console UI in Kotlin using the Jetpack Compose compiler/runtime', 'A modern I/O API for Java', 'An extension for Okio which allows for native memory manipulation', 'Useful extensions to the Okio library', 'A library for generating ANSI patches for updating existing console output']\n"
          ]
        }
      ],
      "source": [
        "for i in range(20):\n",
        "  print(f\"User {i}: {map_user_to_projects[i]}\")"
      ]
    },
    {
      "cell_type": "code",
      "execution_count": null,
      "metadata": {
        "colab": {
          "base_uri": "https://localhost:8080/",
          "height": 641
        },
        "id": "Ybfvgejr6b-M",
        "outputId": "02cc9a5b-74ac-4fc2-efa6-e8e356bca618"
      },
      "outputs": [
        {
          "data": {
            "text/html": [
              "\n",
              "  <div id=\"df-b02315d1-69e7-41ad-b1ab-848b6b7ab640\" class=\"colab-df-container\">\n",
              "    <div>\n",
              "<style scoped>\n",
              "    .dataframe tbody tr th:only-of-type {\n",
              "        vertical-align: middle;\n",
              "    }\n",
              "\n",
              "    .dataframe tbody tr th {\n",
              "        vertical-align: top;\n",
              "    }\n",
              "\n",
              "    .dataframe thead th {\n",
              "        text-align: right;\n",
              "    }\n",
              "</style>\n",
              "<table border=\"1\" class=\"dataframe\">\n",
              "  <thead>\n",
              "    <tr style=\"text-align: right;\">\n",
              "      <th></th>\n",
              "      <th>role</th>\n",
              "      <th>experience_level</th>\n",
              "      <th>languages</th>\n",
              "      <th>tech_keywords</th>\n",
              "      <th>projects</th>\n",
              "      <th>experience_level_num</th>\n",
              "    </tr>\n",
              "  </thead>\n",
              "  <tbody>\n",
              "    <tr>\n",
              "      <th>5</th>\n",
              "      <td>Senior Software Engineer @microsoft</td>\n",
              "      <td>Beginner</td>\n",
              "      <td>[Shell, PowerShell, C#, Python, JavaScript]</td>\n",
              "      <td>['github', 'node', 'video', 'action', 'woke', ...</td>\n",
              "      <td>['A collection of tasks to enable execution My...</td>\n",
              "      <td>0</td>\n",
              "    </tr>\n",
              "    <tr>\n",
              "      <th>6</th>\n",
              "      <td>Principal AI Scientist at Genentech. Formerly ...</td>\n",
              "      <td>Beginner</td>\n",
              "      <td>[Python, Shell, R, Jupyter Notebook, Dockerfile]</td>\n",
              "      <td>['ecoli_promoter_mpra', 'training', 'women', '...</td>\n",
              "      <td>['DL based processing of atac-seq data', 'Comm...</td>\n",
              "      <td>0</td>\n",
              "    </tr>\n",
              "    <tr>\n",
              "      <th>8</th>\n",
              "      <td>CEO and Full-Stack Developer at SULLE WAREHOUSE</td>\n",
              "      <td>Beginner</td>\n",
              "      <td>[C, C++, CMake, Shell, Assembly]</td>\n",
              "      <td>['b', 'pixels', 'linux', 'parser', 'expression...</td>\n",
              "      <td>['The README for my personal GitHub account', ...</td>\n",
              "      <td>0</td>\n",
              "    </tr>\n",
              "    <tr>\n",
              "      <th>9</th>\n",
              "      <td>Machine learning, quantum computing, and every...</td>\n",
              "      <td>Beginner</td>\n",
              "      <td>[Python, Jupyter Notebook, Shell, C++, Starlark]</td>\n",
              "      <td>['Cybernetics', 'elden_bot', 'quantum', 'Quant...</td>\n",
              "      <td>['Final Project for CSCI 2500 Computer Organiz...</td>\n",
              "      <td>0</td>\n",
              "    </tr>\n",
              "    <tr>\n",
              "      <th>11</th>\n",
              "      <td>Co-founder, @levelshealth.</td>\n",
              "      <td>Beginner</td>\n",
              "      <td>[JavaScript, Scala, CSS, HTML, PHP]</td>\n",
              "      <td>['sublime', 'play', 'app', 'workflow', 'exampl...</td>\n",
              "      <td>['Alfred App Workflow for caniuse.com', 'Stati...</td>\n",
              "      <td>0</td>\n",
              "    </tr>\n",
              "    <tr>\n",
              "      <th>17</th>\n",
              "      <td>Lead Engineer at Nike.\\n\\nMostly cloud service...</td>\n",
              "      <td>Intermediate</td>\n",
              "      <td>[JavaScript, TypeScript, PHP, CSS, HTML]</td>\n",
              "      <td>['mee.js', 'Advanced', 'class.js', 'node', 'cu...</td>\n",
              "      <td>['SecretParser Plugin for the game http://www....</td>\n",
              "      <td>1</td>\n",
              "    </tr>\n",
              "    <tr>\n",
              "      <th>21</th>\n",
              "      <td>Physical oceanographer with a love of open sou...</td>\n",
              "      <td>Intermediate</td>\n",
              "      <td>[Jupyter Notebook, Python, HTML, Shell, TeX]</td>\n",
              "      <td>['MLINT', 'Notebooks', 'MITgcm66h', 'publicati...</td>\n",
              "      <td>['Repo for the April 10-12 workshop to be held...</td>\n",
              "      <td>1</td>\n",
              "    </tr>\n",
              "    <tr>\n",
              "      <th>22</th>\n",
              "      <td>Tinker, build, make, share.</td>\n",
              "      <td>Intermediate</td>\n",
              "      <td>[C++, C, JavaScript, HTML, CSS]</td>\n",
              "      <td>['ESP32Tests', 'eyeball_simulator', 'BlinkRC7'...</td>\n",
              "      <td>['Abandoned: attempt to make 15-tile sliding p...</td>\n",
              "      <td>1</td>\n",
              "    </tr>\n",
              "    <tr>\n",
              "      <th>26</th>\n",
              "      <td>:-)</td>\n",
              "      <td>Intermediate</td>\n",
              "      <td>[Python, Shell, C, Java, C++]</td>\n",
              "      <td>['MSRnet', 'codeBase', 'discord', 'CO224_Compu...</td>\n",
              "      <td>['ABS: Scanning Neural Networks for Back-doors...</td>\n",
              "      <td>1</td>\n",
              "    </tr>\n",
              "    <tr>\n",
              "      <th>28</th>\n",
              "      <td>Signal processing, radar, data science</td>\n",
              "      <td>Intermediate</td>\n",
              "      <td>[Shell, Batchfile, Python, Makefile, C]</td>\n",
              "      <td>['setup', 'asciimatics', 'adwaita', 'icon', 'c...</td>\n",
              "      <td>['A conda-smithy repository for adwaita-icon-t...</td>\n",
              "      <td>1</td>\n",
              "    </tr>\n",
              "    <tr>\n",
              "      <th>33</th>\n",
              "      <td>Content Writer, JavaScript Developer, and Sing...</td>\n",
              "      <td>Intermediate</td>\n",
              "      <td>[JavaScript, HTML, CSS, Shell, EJS]</td>\n",
              "      <td>['client', 'game_dig', 'blog_img', 'express_to...</td>\n",
              "      <td>['My submission to the 2013 js13kgames.com com...</td>\n",
              "      <td>1</td>\n",
              "    </tr>\n",
              "    <tr>\n",
              "      <th>36</th>\n",
              "      <td>iOS - Android security.</td>\n",
              "      <td>Beginner</td>\n",
              "      <td>[Makefile, Shell, Python, C, Objective-C]</td>\n",
              "      <td>['Nougat', 'Jailbreak', 'osx', 'xnu', 'iOS', '...</td>\n",
              "      <td>['Android Full Framework for Nougat.', 'Purpos...</td>\n",
              "      <td>0</td>\n",
              "    </tr>\n",
              "    <tr>\n",
              "      <th>39</th>\n",
              "      <td>Creative, detail-oriented software engineer wi...</td>\n",
              "      <td>Intermediate</td>\n",
              "      <td>[JavaScript, HTML, CSS, Shell, SCSS]</td>\n",
              "      <td>['react', 'Algorithm', 'Reactjs', 'redux', 'da...</td>\n",
              "      <td>['This repository contains System Design resou...</td>\n",
              "      <td>1</td>\n",
              "    </tr>\n",
              "    <tr>\n",
              "      <th>44</th>\n",
              "      <td>Developer, researcher, and geek.</td>\n",
              "      <td>Intermediate</td>\n",
              "      <td>[JavaScript, CSS, HTML, Shell, TypeScript]</td>\n",
              "      <td>['react', 'mocha', '', 'date', 'notes', 'appli...</td>\n",
              "      <td>['A React application exercise.', 'Various pro...</td>\n",
              "      <td>1</td>\n",
              "    </tr>\n",
              "    <tr>\n",
              "      <th>45</th>\n",
              "      <td>philosophy student</td>\n",
              "      <td>Intermediate</td>\n",
              "      <td>[Makefile, Shell, C, Python, Perl]</td>\n",
              "      <td>['old', 'elogind', 'discord', 'bsdunzip', 'com...</td>\n",
              "      <td>['Mirror of aports repository', 'Up to date Ar...</td>\n",
              "      <td>1</td>\n",
              "    </tr>\n",
              "  </tbody>\n",
              "</table>\n",
              "</div>\n",
              "    <div class=\"colab-df-buttons\">\n",
              "\n",
              "  <div class=\"colab-df-container\">\n",
              "    <button class=\"colab-df-convert\" onclick=\"convertToInteractive('df-b02315d1-69e7-41ad-b1ab-848b6b7ab640')\"\n",
              "            title=\"Convert this dataframe to an interactive table.\"\n",
              "            style=\"display:none;\">\n",
              "\n",
              "  <svg xmlns=\"http://www.w3.org/2000/svg\" height=\"24px\" viewBox=\"0 -960 960 960\">\n",
              "    <path d=\"M120-120v-720h720v720H120Zm60-500h600v-160H180v160Zm220 220h160v-160H400v160Zm0 220h160v-160H400v160ZM180-400h160v-160H180v160Zm440 0h160v-160H620v160ZM180-180h160v-160H180v160Zm440 0h160v-160H620v160Z\"/>\n",
              "  </svg>\n",
              "    </button>\n",
              "\n",
              "  <style>\n",
              "    .colab-df-container {\n",
              "      display:flex;\n",
              "      gap: 12px;\n",
              "    }\n",
              "\n",
              "    .colab-df-convert {\n",
              "      background-color: #E8F0FE;\n",
              "      border: none;\n",
              "      border-radius: 50%;\n",
              "      cursor: pointer;\n",
              "      display: none;\n",
              "      fill: #1967D2;\n",
              "      height: 32px;\n",
              "      padding: 0 0 0 0;\n",
              "      width: 32px;\n",
              "    }\n",
              "\n",
              "    .colab-df-convert:hover {\n",
              "      background-color: #E2EBFA;\n",
              "      box-shadow: 0px 1px 2px rgba(60, 64, 67, 0.3), 0px 1px 3px 1px rgba(60, 64, 67, 0.15);\n",
              "      fill: #174EA6;\n",
              "    }\n",
              "\n",
              "    .colab-df-buttons div {\n",
              "      margin-bottom: 4px;\n",
              "    }\n",
              "\n",
              "    [theme=dark] .colab-df-convert {\n",
              "      background-color: #3B4455;\n",
              "      fill: #D2E3FC;\n",
              "    }\n",
              "\n",
              "    [theme=dark] .colab-df-convert:hover {\n",
              "      background-color: #434B5C;\n",
              "      box-shadow: 0px 1px 3px 1px rgba(0, 0, 0, 0.15);\n",
              "      filter: drop-shadow(0px 1px 2px rgba(0, 0, 0, 0.3));\n",
              "      fill: #FFFFFF;\n",
              "    }\n",
              "  </style>\n",
              "\n",
              "    <script>\n",
              "      const buttonEl =\n",
              "        document.querySelector('#df-b02315d1-69e7-41ad-b1ab-848b6b7ab640 button.colab-df-convert');\n",
              "      buttonEl.style.display =\n",
              "        google.colab.kernel.accessAllowed ? 'block' : 'none';\n",
              "\n",
              "      async function convertToInteractive(key) {\n",
              "        const element = document.querySelector('#df-b02315d1-69e7-41ad-b1ab-848b6b7ab640');\n",
              "        const dataTable =\n",
              "          await google.colab.kernel.invokeFunction('convertToInteractive',\n",
              "                                                    [key], {});\n",
              "        if (!dataTable) return;\n",
              "\n",
              "        const docLinkHtml = 'Like what you see? Visit the ' +\n",
              "          '<a target=\"_blank\" href=https://colab.research.google.com/notebooks/data_table.ipynb>data table notebook</a>'\n",
              "          + ' to learn more about interactive tables.';\n",
              "        element.innerHTML = '';\n",
              "        dataTable['output_type'] = 'display_data';\n",
              "        await google.colab.output.renderOutput(dataTable, element);\n",
              "        const docLink = document.createElement('div');\n",
              "        docLink.innerHTML = docLinkHtml;\n",
              "        element.appendChild(docLink);\n",
              "      }\n",
              "    </script>\n",
              "  </div>\n",
              "\n",
              "\n",
              "<div id=\"df-9a9258c2-1f52-497e-bbc5-a5ac12a684a0\">\n",
              "  <button class=\"colab-df-quickchart\" onclick=\"quickchart('df-9a9258c2-1f52-497e-bbc5-a5ac12a684a0')\"\n",
              "            title=\"Suggest charts\"\n",
              "            style=\"display:none;\">\n",
              "\n",
              "<svg xmlns=\"http://www.w3.org/2000/svg\" height=\"24px\"viewBox=\"0 0 24 24\"\n",
              "     width=\"24px\">\n",
              "    <g>\n",
              "        <path d=\"M19 3H5c-1.1 0-2 .9-2 2v14c0 1.1.9 2 2 2h14c1.1 0 2-.9 2-2V5c0-1.1-.9-2-2-2zM9 17H7v-7h2v7zm4 0h-2V7h2v10zm4 0h-2v-4h2v4z\"/>\n",
              "    </g>\n",
              "</svg>\n",
              "  </button>\n",
              "\n",
              "<style>\n",
              "  .colab-df-quickchart {\n",
              "      --bg-color: #E8F0FE;\n",
              "      --fill-color: #1967D2;\n",
              "      --hover-bg-color: #E2EBFA;\n",
              "      --hover-fill-color: #174EA6;\n",
              "      --disabled-fill-color: #AAA;\n",
              "      --disabled-bg-color: #DDD;\n",
              "  }\n",
              "\n",
              "  [theme=dark] .colab-df-quickchart {\n",
              "      --bg-color: #3B4455;\n",
              "      --fill-color: #D2E3FC;\n",
              "      --hover-bg-color: #434B5C;\n",
              "      --hover-fill-color: #FFFFFF;\n",
              "      --disabled-bg-color: #3B4455;\n",
              "      --disabled-fill-color: #666;\n",
              "  }\n",
              "\n",
              "  .colab-df-quickchart {\n",
              "    background-color: var(--bg-color);\n",
              "    border: none;\n",
              "    border-radius: 50%;\n",
              "    cursor: pointer;\n",
              "    display: none;\n",
              "    fill: var(--fill-color);\n",
              "    height: 32px;\n",
              "    padding: 0;\n",
              "    width: 32px;\n",
              "  }\n",
              "\n",
              "  .colab-df-quickchart:hover {\n",
              "    background-color: var(--hover-bg-color);\n",
              "    box-shadow: 0 1px 2px rgba(60, 64, 67, 0.3), 0 1px 3px 1px rgba(60, 64, 67, 0.15);\n",
              "    fill: var(--button-hover-fill-color);\n",
              "  }\n",
              "\n",
              "  .colab-df-quickchart-complete:disabled,\n",
              "  .colab-df-quickchart-complete:disabled:hover {\n",
              "    background-color: var(--disabled-bg-color);\n",
              "    fill: var(--disabled-fill-color);\n",
              "    box-shadow: none;\n",
              "  }\n",
              "\n",
              "  .colab-df-spinner {\n",
              "    border: 2px solid var(--fill-color);\n",
              "    border-color: transparent;\n",
              "    border-bottom-color: var(--fill-color);\n",
              "    animation:\n",
              "      spin 1s steps(1) infinite;\n",
              "  }\n",
              "\n",
              "  @keyframes spin {\n",
              "    0% {\n",
              "      border-color: transparent;\n",
              "      border-bottom-color: var(--fill-color);\n",
              "      border-left-color: var(--fill-color);\n",
              "    }\n",
              "    20% {\n",
              "      border-color: transparent;\n",
              "      border-left-color: var(--fill-color);\n",
              "      border-top-color: var(--fill-color);\n",
              "    }\n",
              "    30% {\n",
              "      border-color: transparent;\n",
              "      border-left-color: var(--fill-color);\n",
              "      border-top-color: var(--fill-color);\n",
              "      border-right-color: var(--fill-color);\n",
              "    }\n",
              "    40% {\n",
              "      border-color: transparent;\n",
              "      border-right-color: var(--fill-color);\n",
              "      border-top-color: var(--fill-color);\n",
              "    }\n",
              "    60% {\n",
              "      border-color: transparent;\n",
              "      border-right-color: var(--fill-color);\n",
              "    }\n",
              "    80% {\n",
              "      border-color: transparent;\n",
              "      border-right-color: var(--fill-color);\n",
              "      border-bottom-color: var(--fill-color);\n",
              "    }\n",
              "    90% {\n",
              "      border-color: transparent;\n",
              "      border-bottom-color: var(--fill-color);\n",
              "    }\n",
              "  }\n",
              "</style>\n",
              "\n",
              "  <script>\n",
              "    async function quickchart(key) {\n",
              "      const quickchartButtonEl =\n",
              "        document.querySelector('#' + key + ' button');\n",
              "      quickchartButtonEl.disabled = true;  // To prevent multiple clicks.\n",
              "      quickchartButtonEl.classList.add('colab-df-spinner');\n",
              "      try {\n",
              "        const charts = await google.colab.kernel.invokeFunction(\n",
              "            'suggestCharts', [key], {});\n",
              "      } catch (error) {\n",
              "        console.error('Error during call to suggestCharts:', error);\n",
              "      }\n",
              "      quickchartButtonEl.classList.remove('colab-df-spinner');\n",
              "      quickchartButtonEl.classList.add('colab-df-quickchart-complete');\n",
              "    }\n",
              "    (() => {\n",
              "      let quickchartButtonEl =\n",
              "        document.querySelector('#df-9a9258c2-1f52-497e-bbc5-a5ac12a684a0 button');\n",
              "      quickchartButtonEl.style.display =\n",
              "        google.colab.kernel.accessAllowed ? 'block' : 'none';\n",
              "    })();\n",
              "  </script>\n",
              "</div>\n",
              "\n",
              "    </div>\n",
              "  </div>\n"
            ],
            "text/plain": [
              "0                                                role experience_level  \\\n",
              "5                 Senior Software Engineer @microsoft         Beginner   \n",
              "6   Principal AI Scientist at Genentech. Formerly ...         Beginner   \n",
              "8     CEO and Full-Stack Developer at SULLE WAREHOUSE         Beginner   \n",
              "9   Machine learning, quantum computing, and every...         Beginner   \n",
              "11                         Co-founder, @levelshealth.         Beginner   \n",
              "17  Lead Engineer at Nike.\\n\\nMostly cloud service...     Intermediate   \n",
              "21  Physical oceanographer with a love of open sou...     Intermediate   \n",
              "22                        Tinker, build, make, share.     Intermediate   \n",
              "26                                                :-)     Intermediate   \n",
              "28             Signal processing, radar, data science     Intermediate   \n",
              "33  Content Writer, JavaScript Developer, and Sing...     Intermediate   \n",
              "36                           iOS - Android security.          Beginner   \n",
              "39  Creative, detail-oriented software engineer wi...     Intermediate   \n",
              "44                   Developer, researcher, and geek.     Intermediate   \n",
              "45                                 philosophy student     Intermediate   \n",
              "\n",
              "0                                          languages  \\\n",
              "5        [Shell, PowerShell, C#, Python, JavaScript]   \n",
              "6   [Python, Shell, R, Jupyter Notebook, Dockerfile]   \n",
              "8                   [C, C++, CMake, Shell, Assembly]   \n",
              "9   [Python, Jupyter Notebook, Shell, C++, Starlark]   \n",
              "11               [JavaScript, Scala, CSS, HTML, PHP]   \n",
              "17          [JavaScript, TypeScript, PHP, CSS, HTML]   \n",
              "21      [Jupyter Notebook, Python, HTML, Shell, TeX]   \n",
              "22                   [C++, C, JavaScript, HTML, CSS]   \n",
              "26                     [Python, Shell, C, Java, C++]   \n",
              "28           [Shell, Batchfile, Python, Makefile, C]   \n",
              "33               [JavaScript, HTML, CSS, Shell, EJS]   \n",
              "36         [Makefile, Shell, Python, C, Objective-C]   \n",
              "39              [JavaScript, HTML, CSS, Shell, SCSS]   \n",
              "44        [JavaScript, CSS, HTML, Shell, TypeScript]   \n",
              "45                [Makefile, Shell, C, Python, Perl]   \n",
              "\n",
              "0                                       tech_keywords  \\\n",
              "5   ['github', 'node', 'video', 'action', 'woke', ...   \n",
              "6   ['ecoli_promoter_mpra', 'training', 'women', '...   \n",
              "8   ['b', 'pixels', 'linux', 'parser', 'expression...   \n",
              "9   ['Cybernetics', 'elden_bot', 'quantum', 'Quant...   \n",
              "11  ['sublime', 'play', 'app', 'workflow', 'exampl...   \n",
              "17  ['mee.js', 'Advanced', 'class.js', 'node', 'cu...   \n",
              "21  ['MLINT', 'Notebooks', 'MITgcm66h', 'publicati...   \n",
              "22  ['ESP32Tests', 'eyeball_simulator', 'BlinkRC7'...   \n",
              "26  ['MSRnet', 'codeBase', 'discord', 'CO224_Compu...   \n",
              "28  ['setup', 'asciimatics', 'adwaita', 'icon', 'c...   \n",
              "33  ['client', 'game_dig', 'blog_img', 'express_to...   \n",
              "36  ['Nougat', 'Jailbreak', 'osx', 'xnu', 'iOS', '...   \n",
              "39  ['react', 'Algorithm', 'Reactjs', 'redux', 'da...   \n",
              "44  ['react', 'mocha', '', 'date', 'notes', 'appli...   \n",
              "45  ['old', 'elogind', 'discord', 'bsdunzip', 'com...   \n",
              "\n",
              "0                                            projects  experience_level_num  \n",
              "5   ['A collection of tasks to enable execution My...                     0  \n",
              "6   ['DL based processing of atac-seq data', 'Comm...                     0  \n",
              "8   ['The README for my personal GitHub account', ...                     0  \n",
              "9   ['Final Project for CSCI 2500 Computer Organiz...                     0  \n",
              "11  ['Alfred App Workflow for caniuse.com', 'Stati...                     0  \n",
              "17  ['SecretParser Plugin for the game http://www....                     1  \n",
              "21  ['Repo for the April 10-12 workshop to be held...                     1  \n",
              "22  ['Abandoned: attempt to make 15-tile sliding p...                     1  \n",
              "26  ['ABS: Scanning Neural Networks for Back-doors...                     1  \n",
              "28  ['A conda-smithy repository for adwaita-icon-t...                     1  \n",
              "33  ['My submission to the 2013 js13kgames.com com...                     1  \n",
              "36  ['Android Full Framework for Nougat.', 'Purpos...                     0  \n",
              "39  ['This repository contains System Design resou...                     1  \n",
              "44  ['A React application exercise.', 'Various pro...                     1  \n",
              "45  ['Mirror of aports repository', 'Up to date Ar...                     1  "
            ]
          },
          "execution_count": 18,
          "metadata": {},
          "output_type": "execute_result"
        }
      ],
      "source": [
        "data.head(15)"
      ]
    },
    {
      "cell_type": "code",
      "execution_count": null,
      "metadata": {
        "id": "GuspcTxYc5XK"
      },
      "outputs": [],
      "source": [
        "dataset = []"
      ]
    },
    {
      "cell_type": "code",
      "execution_count": null,
      "metadata": {
        "colab": {
          "base_uri": "https://localhost:8080/"
        },
        "id": "AV4_8nTCgatt",
        "outputId": "2b48cff3-cb67-4d56-9980-e8677b0cab10"
      },
      "outputs": [
        {
          "data": {
            "text/plain": [
              "10"
            ]
          },
          "execution_count": 20,
          "metadata": {},
          "output_type": "execute_result"
        }
      ],
      "source": [
        "len(map_user_to_projects[1])"
      ]
    },
    {
      "cell_type": "code",
      "execution_count": null,
      "metadata": {
        "id": "yvbV5RtBc9Ez"
      },
      "outputs": [],
      "source": [
        "start_project_range = 0\n",
        "for user_num, user_profile in enumerate(user_profiles):\n",
        "  for project_embedding in projects_embedded[start_project_range:start_project_range+len(map_user_to_projects[user_num])]:\n",
        "    dataset.append((user_profile, project_embedding, 1))\n",
        "  start_project_range += len(map_user_to_projects[user_num])\n",
        "  if user_num == 4: break\n"
      ]
    },
    {
      "cell_type": "markdown",
      "metadata": {
        "id": "CW-Co1c06eh5"
      },
      "source": [
        "better manual method"
      ]
    },
    {
      "cell_type": "code",
      "execution_count": null,
      "metadata": {
        "id": "9kWLEOeJ3aRx"
      },
      "outputs": [],
      "source": [
        "# manual small dataset testing\n",
        "\n",
        "def find_project_start_index_for_given_user(user_num):\n",
        "  i = 0\n",
        "  index = 0\n",
        "  while i != user_num:\n",
        "    index += len(map_user_to_projects[i])\n",
        "    i += 1\n",
        "  return index\n",
        "\n",
        "def add_negative_example_given_non_matching_user_profiles_manually(user1: int, non_matching_user2: int):\n",
        "  start_index = find_project_start_index_for_given_user(non_matching_user2)\n",
        "  for i in range(len(map_user_to_projects[non_matching_user2])):\n",
        "    dataset.append((user_profiles[user1], projects_embedded[start_index + i], 0))"
      ]
    },
    {
      "cell_type": "code",
      "execution_count": null,
      "metadata": {
        "id": "Vdm3hg4F6CcZ"
      },
      "outputs": [],
      "source": [
        "add_negative_example_given_non_matching_user_profiles_manually(0, 1)\n",
        "add_negative_example_given_non_matching_user_profiles_manually(1, 2)\n",
        "add_negative_example_given_non_matching_user_profiles_manually(3, 5)\n",
        "add_negative_example_given_non_matching_user_profiles_manually(4, 14)\n"
      ]
    },
    {
      "cell_type": "code",
      "execution_count": null,
      "metadata": {
        "colab": {
          "base_uri": "https://localhost:8080/"
        },
        "id": "pFED4f2pfpzt",
        "outputId": "a97651d6-39b4-419d-b3e8-2a07ab623623"
      },
      "outputs": [
        {
          "data": {
            "text/plain": [
              "137"
            ]
          },
          "execution_count": 24,
          "metadata": {},
          "output_type": "execute_result"
        }
      ],
      "source": [
        "len(dataset)"
      ]
    },
    {
      "cell_type": "code",
      "execution_count": null,
      "metadata": {
        "colab": {
          "base_uri": "https://localhost:8080/"
        },
        "id": "s-NQ_2T7hXVO",
        "outputId": "a3df473b-b9de-47f1-f2da-eaca3e1917bb"
      },
      "outputs": [
        {
          "data": {
            "text/plain": [
              "(<tf.Tensor: shape=(226,), dtype=float32, numpy=\n",
              " array([-0.9998977 ,  0.02674753, -0.95229065,  0.07566944, -0.98473793,\n",
              "         0.8515617 , -0.9891793 , -0.06120098,  0.07552765, -0.00853382,\n",
              "        -0.33273837, -0.07438556, -0.13768643,  0.99698657,  0.20532432,\n",
              "         0.00142703,  0.9212176 ,  0.066608  , -0.86612004, -0.28353733,\n",
              "         0.5697272 ,  0.06278628, -0.8876335 , -0.82182   , -0.9968265 ,\n",
              "        -0.06983151, -0.9948706 ,  0.974122  ,  0.81316996,  0.1028368 ,\n",
              "         0.09937278, -0.0886519 , -0.86351496, -0.9690397 ,  0.7592347 ,\n",
              "         0.996806  , -0.92572796, -0.00526048,  0.51379555, -0.9914838 ,\n",
              "         0.9527194 ,  0.9840963 , -0.99205375,  0.84864724, -0.88819516,\n",
              "        -0.19925441, -0.86289763,  0.9918394 , -0.5801045 ,  0.9990769 ,\n",
              "        -0.5767053 , -0.9606845 , -0.01358342,  0.89274883,  0.8692733 ,\n",
              "         0.59175795, -0.12701385,  0.19582532,  0.9900831 ,  0.7635511 ,\n",
              "         0.08241388, -0.01632024, -0.21319991,  0.7888896 , -0.6095279 ,\n",
              "        -0.99815786,  0.5985274 ,  0.30448887,  0.7767534 ,  0.94538933,\n",
              "         0.99744296,  0.28411013, -0.95372397,  0.0897599 ,  0.8989223 ,\n",
              "        -0.99616855, -0.9038413 ,  0.18534206, -0.5897031 ,  0.02072463,\n",
              "        -0.08313274, -0.02924383, -0.32113564, -0.9986659 ,  0.9884711 ,\n",
              "        -0.9599133 , -0.8250122 , -0.98161006, -0.97992784, -0.28468037,\n",
              "         0.85108006,  0.98269707, -0.87811863,  0.8836258 ,  0.9175378 ,\n",
              "         0.9093333 , -0.53736395,  0.8416976 , -0.99543273, -0.35718548,\n",
              "        -0.97044927, -0.167644  , -0.985918  , -0.9847769 , -0.9972612 ,\n",
              "        -0.19615552, -0.99557334, -0.8198126 , -0.89413035,  0.40607387,\n",
              "         0.993286  ,  0.39813516, -0.2018834 ,  0.98810804, -0.9861045 ,\n",
              "         0.1934642 , -0.9734886 ,  0.7728439 ,  0.12730266, -0.999747  ,\n",
              "         0.1289949 , -0.99871373, -0.94100636,  0.76040995, -0.98724705,\n",
              "         0.9979098 ,  0.92519665,  0.98347044,  1.        ,  0.        ,\n",
              "         0.        ,  0.        ,  0.        ,  0.        ,  0.        ,\n",
              "         0.        ,  0.        ,  0.        ,  0.        ,  0.        ,\n",
              "         0.        ,  0.        ,  0.        ,  0.        ,  0.        ,\n",
              "         1.        ,  0.        ,  0.        ,  0.        ,  0.        ,\n",
              "         0.        ,  0.        ,  0.        ,  0.        ,  0.        ,\n",
              "         0.        ,  0.        ,  0.        ,  0.        ,  0.        ,\n",
              "         0.        ,  0.        ,  0.        ,  0.        ,  0.        ,\n",
              "         0.        ,  0.        ,  0.        ,  0.        ,  0.        ,\n",
              "         0.        ,  0.        ,  0.        ,  0.        ,  0.        ,\n",
              "         1.        ,  0.        ,  0.        ,  0.        ,  0.        ,\n",
              "         0.        ,  0.        ,  0.        ,  0.        ,  0.        ,\n",
              "         0.        ,  0.        ,  0.        ,  0.        ,  0.        ,\n",
              "         0.        ,  0.        ,  0.        ,  0.        ,  0.        ,\n",
              "         0.        ,  0.        ,  0.        ,  1.        ,  0.        ,\n",
              "         0.        ,  1.        ,  0.        ,  0.        ,  0.        ,\n",
              "         0.        ,  0.        ,  0.        ,  0.        ,  0.        ,\n",
              "         0.        ,  1.        ,  0.        ,  0.        ,  0.        ,\n",
              "         0.        ,  0.        ,  0.        ,  0.        ,  0.        ,\n",
              "         0.        ,  0.        ,  0.        ,  0.        ,  0.        ,\n",
              "         0.        ], dtype=float32)>,\n",
              " <tf.Tensor: shape=(128,), dtype=float32, numpy=\n",
              " array([-0.99997556,  0.10367937, -0.99484557,  0.20247303, -0.983751  ,\n",
              "         0.5019201 , -0.9958578 , -0.93500596,  0.08978978, -0.10646143,\n",
              "        -0.95633787, -0.12278103, -0.05347224,  0.9999581 ,  0.6716952 ,\n",
              "        -0.9695135 ,  0.58677894,  0.15617815, -0.59735435,  0.6536289 ,\n",
              "         0.9242595 , -0.0304998 ,  0.6641621 , -0.20273903, -0.9998259 ,\n",
              "        -0.15405513, -0.99992   ,  0.7692286 ,  0.9868126 , -0.10249873,\n",
              "        -0.0312486 , -0.01830142, -0.99403936, -0.59318924,  0.52490395,\n",
              "         0.99991727, -0.96331966,  0.01014567,  0.9866431 , -0.9893402 ,\n",
              "         0.97925   ,  0.9670491 , -0.9964754 ,  0.8972413 , -0.9982625 ,\n",
              "        -0.08672383, -0.9943723 ,  0.9972327 , -0.03944946,  0.99932474,\n",
              "         0.95592624, -0.9642907 , -0.04157207,  0.95110816,  0.9664468 ,\n",
              "         0.9926298 , -0.96393967,  0.20875886,  0.9001865 , -0.9660278 ,\n",
              "         0.01059676,  0.78682435, -0.6277585 ,  0.88548344,  0.7393845 ,\n",
              "        -0.9999417 , -0.13887125,  0.29154357,  0.71336657,  0.9825898 ,\n",
              "         0.99899215,  0.24746516, -0.9937111 ,  0.01890815,  0.26573765,\n",
              "        -0.9907966 ,  0.20934236,  0.12016849, -0.902037  , -0.05549364,\n",
              "        -0.68548757, -0.10025307, -0.8929772 , -0.9996499 ,  0.9999245 ,\n",
              "        -0.99792325,  0.70607305, -0.98736274, -0.86197597,  0.97642237,\n",
              "        -0.85341537,  0.84387404, -0.3401456 ,  0.9936911 ,  0.9450031 ,\n",
              "         0.69817215, -0.91296864,  0.2718971 , -0.99668133, -0.96969295,\n",
              "        -0.991983  ,  0.9098878 , -0.99761724, -0.1601275 , -0.9913866 ,\n",
              "        -0.92585784, -0.999496  , -0.96771455, -0.19039267,  0.47136983,\n",
              "         0.99279404, -0.17062446, -0.84344435,  0.95749664, -0.9997744 ,\n",
              "         0.01016453, -0.04463772,  0.518246  ,  0.14840549, -0.9981674 ,\n",
              "         0.15670674, -0.9998466 , -0.7735771 ,  0.88839   , -0.9963811 ,\n",
              "         0.987865  ,  0.9961912 ,  0.9377838 ], dtype=float32)>,\n",
              " 1)"
            ]
          },
          "execution_count": 25,
          "metadata": {},
          "output_type": "execute_result"
        }
      ],
      "source": [
        "dataset[0]"
      ]
    },
    {
      "cell_type": "code",
      "execution_count": null,
      "metadata": {
        "id": "6ivpRaC6hkIA"
      },
      "outputs": [],
      "source": [
        "import random\n",
        "\n",
        "# Shuffle the dataset\n",
        "random.shuffle(dataset)"
      ]
    },
    {
      "cell_type": "code",
      "execution_count": null,
      "metadata": {
        "id": "lkTNGqWhhjcU"
      },
      "outputs": [],
      "source": [
        "# Split the dataset into features and labels\n",
        "features = [(user_profile, project_embedding) for user_profile, project_embedding, _ in dataset]\n",
        "labels = [label for _, _, label in dataset]"
      ]
    },
    {
      "cell_type": "code",
      "execution_count": null,
      "metadata": {
        "colab": {
          "base_uri": "https://localhost:8080/"
        },
        "id": "SPnr5npWhpxT",
        "outputId": "fe572e12-87bc-4a71-84aa-1719c023dc21"
      },
      "outputs": [
        {
          "name": "stderr",
          "output_type": "stream",
          "text": [
            "<ipython-input-28-b8892ba2606d>:2: VisibleDeprecationWarning: Creating an ndarray from ragged nested sequences (which is a list-or-tuple of lists-or-tuples-or ndarrays with different lengths or shapes) is deprecated. If you meant to do this, you must specify 'dtype=object' when creating the ndarray.\n",
            "  features = np.array(features)\n"
          ]
        }
      ],
      "source": [
        "# Convert to numpy arrays or tensors as required for training\n",
        "features = np.array(features)\n",
        "labels = np.array(labels)"
      ]
    },
    {
      "cell_type": "code",
      "execution_count": null,
      "metadata": {
        "colab": {
          "base_uri": "https://localhost:8080/"
        },
        "id": "4lfHIX0ahvP4",
        "outputId": "3f25697c-317e-461a-83ff-f8a2dda4fbb4"
      },
      "outputs": [
        {
          "data": {
            "text/plain": [
              "137"
            ]
          },
          "execution_count": 29,
          "metadata": {},
          "output_type": "execute_result"
        }
      ],
      "source": [
        "len(labels)"
      ]
    },
    {
      "cell_type": "code",
      "execution_count": null,
      "metadata": {
        "id": "DxhoyKIKcvgu"
      },
      "outputs": [],
      "source": [
        "# Hyperparameters (you can adjust these based on your needs)\n",
        "embedding_size = 128  # Size of the final embeddings\n",
        "dense_units = 64      # Number of units in the dense layers\n",
        "dropout_rate = 0.2    # Dropout rate for regularization\n",
        "\n",
        "# User Profile Branch\n",
        "user_input = Input(shape=(226,))  # Adjust the shape based on your concatenated user profile tensor\n",
        "user_branch = Dense(dense_units, activation='relu')(user_input)\n",
        "user_branch = tf.keras.layers.Dropout(dropout_rate)(user_branch)\n",
        "user_branch = Dense(embedding_size, activation='relu')(user_branch)\n",
        "\n",
        "# Project Description Branch\n",
        "project_input = Input(shape=(128,))  # Adjust the shape based on your BERT embeddings\n",
        "project_branch = Dense(dense_units, activation='relu')(project_input)\n",
        "project_branch = tf.keras.layers.Dropout(dropout_rate)(project_branch)\n",
        "project_branch = Dense(embedding_size, activation='relu')(project_branch)"
      ]
    },
    {
      "cell_type": "code",
      "execution_count": null,
      "metadata": {
        "colab": {
          "base_uri": "https://localhost:8080/"
        },
        "id": "hM7nO1K976AT",
        "outputId": "c10c4d76-d7af-44cc-dfed-8daf95619415"
      },
      "outputs": [
        {
          "name": "stdout",
          "output_type": "stream",
          "text": [
            "Model: \"model\"\n",
            "__________________________________________________________________________________________________\n",
            " Layer (type)                Output Shape                 Param #   Connected to                  \n",
            "==================================================================================================\n",
            " input_1 (InputLayer)        [(None, 226)]                0         []                            \n",
            "                                                                                                  \n",
            " input_2 (InputLayer)        [(None, 128)]                0         []                            \n",
            "                                                                                                  \n",
            " dense (Dense)               (None, 64)                   14528     ['input_1[0][0]']             \n",
            "                                                                                                  \n",
            " dense_2 (Dense)             (None, 64)                   8256      ['input_2[0][0]']             \n",
            "                                                                                                  \n",
            " dropout (Dropout)           (None, 64)                   0         ['dense[0][0]']               \n",
            "                                                                                                  \n",
            " dropout_1 (Dropout)         (None, 64)                   0         ['dense_2[0][0]']             \n",
            "                                                                                                  \n",
            " dense_1 (Dense)             (None, 128)                  8320      ['dropout[0][0]']             \n",
            "                                                                                                  \n",
            " dense_3 (Dense)             (None, 128)                  8320      ['dropout_1[0][0]']           \n",
            "                                                                                                  \n",
            " lambda (Lambda)             (None, 1)                    0         ['dense_1[0][0]',             \n",
            "                                                                     'dense_3[0][0]']             \n",
            "                                                                                                  \n",
            "==================================================================================================\n",
            "Total params: 39424 (154.00 KB)\n",
            "Trainable params: 39424 (154.00 KB)\n",
            "Non-trainable params: 0 (0.00 Byte)\n",
            "__________________________________________________________________________________________________\n"
          ]
        }
      ],
      "source": [
        "# Distance Layer\n",
        "def euclidean_distance(vectors):\n",
        "    x, y = vectors\n",
        "    sum_square = tf.reduce_sum(tf.square(x - y), axis=1, keepdims=True)\n",
        "    return tf.sqrt(tf.maximum(sum_square, tf.keras.backend.epsilon()))\n",
        "\n",
        "distance = Lambda(euclidean_distance)([user_branch, project_branch])\n",
        "\n",
        "# Siamese Network Model\n",
        "siamese_network = Model(inputs=[user_input, project_input], outputs=distance)\n",
        "\n",
        "# Contrastive Loss Function\n",
        "def contrastive_loss(y_true, y_pred):\n",
        "    margin = 1\n",
        "    square_pred = tf.square(y_pred)\n",
        "    margin_square = tf.square(tf.maximum(margin - y_pred, 0))\n",
        "    return tf.reduce_mean(y_true * square_pred + (1 - y_true) * margin_square)\n",
        "\n",
        "# Define a custom accuracy metric\n",
        "def accuracy(y_true, y_pred):\n",
        "    '''Compute classification accuracy with a fixed threshold on distances.\n",
        "    '''\n",
        "    return tf.keras.metrics.binary_accuracy(y_true, tf.cast(y_pred < 0.5, dtype=tf.float32))\n",
        "\n",
        "# Compile the model with the custom accuracy metric\n",
        "siamese_network.compile(optimizer='adam', loss=contrastive_loss, metrics=[accuracy])\n",
        "\n",
        "# Model Summary\n",
        "siamese_network.summary()"
      ]
    },
    {
      "cell_type": "code",
      "execution_count": null,
      "metadata": {
        "id": "5_o0oL85iJuP"
      },
      "outputs": [],
      "source": [
        "# prepare data for training\n",
        "\n",
        "user_profiles, project_embeddings = zip(*features)\n",
        "user_profiles = np.array(user_profiles)\n",
        "project_embeddings = np.array(project_embeddings)\n",
        "labels = np.array(labels)"
      ]
    },
    {
      "cell_type": "code",
      "execution_count": null,
      "metadata": {
        "id": "R0VXp6cUiw6d"
      },
      "outputs": [],
      "source": [
        "# Splitting data into training and validation sets\n",
        "from sklearn.model_selection import train_test_split\n",
        "X_train, X_val, y_train, y_val = train_test_split(\n",
        "    list(zip(user_profiles, project_embeddings)), labels, test_size=0.2, random_state=42\n",
        ")"
      ]
    },
    {
      "cell_type": "code",
      "execution_count": null,
      "metadata": {
        "id": "tBDLtyZNi7xy"
      },
      "outputs": [],
      "source": [
        "# Preparing data for the model\n",
        "user_profiles_train, project_embeddings_train = zip(*X_train)\n",
        "user_profiles_val, project_embeddings_val = zip(*X_val)"
      ]
    },
    {
      "cell_type": "code",
      "execution_count": null,
      "metadata": {
        "id": "L7PLWi-pj4RX"
      },
      "outputs": [],
      "source": [
        "# Convert labels to float32\n",
        "y_train = y_train.astype('float32')\n",
        "y_val = y_val.astype('float32')"
      ]
    },
    {
      "cell_type": "code",
      "execution_count": null,
      "metadata": {
        "colab": {
          "base_uri": "https://localhost:8080/"
        },
        "id": "OV_kfQ7cjMF_",
        "outputId": "46ebcf09-af98-4a48-916c-87619b3553cd"
      },
      "outputs": [
        {
          "name": "stdout",
          "output_type": "stream",
          "text": [
            "Epoch 1/100\n",
            "4/4 [==============================] - 1s 98ms/step - loss: 6.7062 - accuracy: 0.5596 - val_loss: 2.1659 - val_accuracy: 0.5357\n",
            "Epoch 2/100\n",
            "4/4 [==============================] - 0s 21ms/step - loss: 2.2764 - accuracy: 0.5596 - val_loss: 0.8972 - val_accuracy: 0.5357\n",
            "Epoch 3/100\n",
            "4/4 [==============================] - 0s 26ms/step - loss: 1.2270 - accuracy: 0.5596 - val_loss: 0.4679 - val_accuracy: 0.5357\n",
            "Epoch 4/100\n",
            "4/4 [==============================] - 0s 22ms/step - loss: 0.7056 - accuracy: 0.5596 - val_loss: 0.3008 - val_accuracy: 0.5000\n",
            "Epoch 5/100\n",
            "4/4 [==============================] - 0s 24ms/step - loss: 0.4358 - accuracy: 0.5596 - val_loss: 0.2598 - val_accuracy: 0.4286\n",
            "Epoch 6/100\n",
            "4/4 [==============================] - 0s 17ms/step - loss: 0.2842 - accuracy: 0.5780 - val_loss: 0.2680 - val_accuracy: 0.3929\n",
            "Epoch 7/100\n",
            "4/4 [==============================] - 0s 17ms/step - loss: 0.2633 - accuracy: 0.5596 - val_loss: 0.2852 - val_accuracy: 0.6071\n",
            "Epoch 8/100\n",
            "4/4 [==============================] - 0s 18ms/step - loss: 0.2512 - accuracy: 0.5596 - val_loss: 0.2837 - val_accuracy: 0.5000\n",
            "Epoch 9/100\n",
            "4/4 [==============================] - 0s 23ms/step - loss: 0.2443 - accuracy: 0.5505 - val_loss: 0.2732 - val_accuracy: 0.5000\n",
            "Epoch 10/100\n",
            "4/4 [==============================] - 0s 20ms/step - loss: 0.2222 - accuracy: 0.6239 - val_loss: 0.2555 - val_accuracy: 0.6071\n",
            "Epoch 11/100\n",
            "4/4 [==============================] - 0s 26ms/step - loss: 0.2224 - accuracy: 0.6422 - val_loss: 0.2473 - val_accuracy: 0.5357\n",
            "Epoch 12/100\n",
            "4/4 [==============================] - 0s 25ms/step - loss: 0.2139 - accuracy: 0.6972 - val_loss: 0.2577 - val_accuracy: 0.6429\n",
            "Epoch 13/100\n",
            "4/4 [==============================] - 0s 23ms/step - loss: 0.2139 - accuracy: 0.6055 - val_loss: 0.2575 - val_accuracy: 0.6429\n",
            "Epoch 14/100\n",
            "4/4 [==============================] - 0s 18ms/step - loss: 0.1970 - accuracy: 0.6881 - val_loss: 0.2589 - val_accuracy: 0.5714\n",
            "Epoch 15/100\n",
            "4/4 [==============================] - 0s 17ms/step - loss: 0.1986 - accuracy: 0.6514 - val_loss: 0.2626 - val_accuracy: 0.6071\n",
            "Epoch 16/100\n",
            "4/4 [==============================] - 0s 16ms/step - loss: 0.2102 - accuracy: 0.6422 - val_loss: 0.2793 - val_accuracy: 0.5714\n",
            "Epoch 17/100\n",
            "4/4 [==============================] - 0s 22ms/step - loss: 0.2013 - accuracy: 0.7156 - val_loss: 0.2832 - val_accuracy: 0.5357\n",
            "Epoch 18/100\n",
            "4/4 [==============================] - 0s 16ms/step - loss: 0.2071 - accuracy: 0.6606 - val_loss: 0.2781 - val_accuracy: 0.4286\n",
            "Epoch 19/100\n",
            "4/4 [==============================] - 0s 16ms/step - loss: 0.1930 - accuracy: 0.7064 - val_loss: 0.2718 - val_accuracy: 0.3214\n",
            "Epoch 20/100\n",
            "4/4 [==============================] - 0s 17ms/step - loss: 0.1948 - accuracy: 0.6881 - val_loss: 0.2665 - val_accuracy: 0.4643\n",
            "Epoch 21/100\n",
            "4/4 [==============================] - 0s 23ms/step - loss: 0.1784 - accuracy: 0.7706 - val_loss: 0.2726 - val_accuracy: 0.4643\n",
            "Epoch 22/100\n",
            "4/4 [==============================] - 0s 22ms/step - loss: 0.1847 - accuracy: 0.7248 - val_loss: 0.2791 - val_accuracy: 0.4643\n",
            "Epoch 23/100\n",
            "4/4 [==============================] - 0s 16ms/step - loss: 0.2022 - accuracy: 0.6972 - val_loss: 0.2844 - val_accuracy: 0.4643\n",
            "Epoch 24/100\n",
            "4/4 [==============================] - 0s 21ms/step - loss: 0.1829 - accuracy: 0.7615 - val_loss: 0.2877 - val_accuracy: 0.4286\n",
            "Epoch 25/100\n",
            "4/4 [==============================] - 0s 15ms/step - loss: 0.1767 - accuracy: 0.7156 - val_loss: 0.2767 - val_accuracy: 0.3214\n",
            "Epoch 26/100\n",
            "4/4 [==============================] - 0s 24ms/step - loss: 0.1903 - accuracy: 0.6789 - val_loss: 0.2773 - val_accuracy: 0.3571\n",
            "Epoch 27/100\n",
            "4/4 [==============================] - 0s 21ms/step - loss: 0.1869 - accuracy: 0.6972 - val_loss: 0.2797 - val_accuracy: 0.3571\n",
            "Epoch 28/100\n",
            "4/4 [==============================] - 0s 18ms/step - loss: 0.1742 - accuracy: 0.7615 - val_loss: 0.2800 - val_accuracy: 0.4643\n",
            "Epoch 29/100\n",
            "4/4 [==============================] - 0s 15ms/step - loss: 0.1752 - accuracy: 0.7156 - val_loss: 0.2715 - val_accuracy: 0.3571\n",
            "Epoch 30/100\n",
            "4/4 [==============================] - 0s 22ms/step - loss: 0.1831 - accuracy: 0.7248 - val_loss: 0.2637 - val_accuracy: 0.4643\n",
            "Epoch 31/100\n",
            "4/4 [==============================] - 0s 22ms/step - loss: 0.1903 - accuracy: 0.7248 - val_loss: 0.2771 - val_accuracy: 0.4286\n",
            "Epoch 32/100\n",
            "4/4 [==============================] - 0s 17ms/step - loss: 0.1735 - accuracy: 0.7706 - val_loss: 0.3000 - val_accuracy: 0.5357\n",
            "Epoch 33/100\n",
            "4/4 [==============================] - 0s 15ms/step - loss: 0.1707 - accuracy: 0.7982 - val_loss: 0.3005 - val_accuracy: 0.5000\n",
            "Epoch 34/100\n",
            "4/4 [==============================] - 0s 16ms/step - loss: 0.1635 - accuracy: 0.8349 - val_loss: 0.2980 - val_accuracy: 0.3929\n",
            "Epoch 35/100\n",
            "4/4 [==============================] - 0s 20ms/step - loss: 0.1770 - accuracy: 0.7339 - val_loss: 0.2935 - val_accuracy: 0.3571\n",
            "Epoch 36/100\n",
            "4/4 [==============================] - 0s 25ms/step - loss: 0.1675 - accuracy: 0.7431 - val_loss: 0.2834 - val_accuracy: 0.4286\n",
            "Epoch 37/100\n",
            "4/4 [==============================] - 0s 22ms/step - loss: 0.1661 - accuracy: 0.7615 - val_loss: 0.2767 - val_accuracy: 0.4286\n",
            "Epoch 38/100\n",
            "4/4 [==============================] - 0s 25ms/step - loss: 0.1552 - accuracy: 0.7890 - val_loss: 0.2773 - val_accuracy: 0.4643\n",
            "Epoch 39/100\n",
            "4/4 [==============================] - 0s 16ms/step - loss: 0.1593 - accuracy: 0.8165 - val_loss: 0.2833 - val_accuracy: 0.4643\n",
            "Epoch 40/100\n",
            "4/4 [==============================] - 0s 23ms/step - loss: 0.1507 - accuracy: 0.8257 - val_loss: 0.2855 - val_accuracy: 0.3929\n",
            "Epoch 41/100\n",
            "4/4 [==============================] - 0s 21ms/step - loss: 0.1480 - accuracy: 0.8532 - val_loss: 0.2929 - val_accuracy: 0.3571\n",
            "Epoch 42/100\n",
            "4/4 [==============================] - 0s 22ms/step - loss: 0.1544 - accuracy: 0.7248 - val_loss: 0.2988 - val_accuracy: 0.3214\n",
            "Epoch 43/100\n",
            "4/4 [==============================] - 0s 16ms/step - loss: 0.1461 - accuracy: 0.8165 - val_loss: 0.3058 - val_accuracy: 0.3214\n",
            "Epoch 44/100\n",
            "4/4 [==============================] - 0s 22ms/step - loss: 0.1421 - accuracy: 0.8257 - val_loss: 0.3035 - val_accuracy: 0.3571\n",
            "Epoch 45/100\n",
            "4/4 [==============================] - 0s 24ms/step - loss: 0.1380 - accuracy: 0.8532 - val_loss: 0.2985 - val_accuracy: 0.3929\n",
            "Epoch 46/100\n",
            "4/4 [==============================] - 0s 13ms/step - loss: 0.1435 - accuracy: 0.8349 - val_loss: 0.2973 - val_accuracy: 0.3571\n",
            "Epoch 47/100\n",
            "4/4 [==============================] - 0s 11ms/step - loss: 0.1498 - accuracy: 0.8440 - val_loss: 0.2968 - val_accuracy: 0.4286\n",
            "Epoch 48/100\n",
            "4/4 [==============================] - 0s 11ms/step - loss: 0.1338 - accuracy: 0.8440 - val_loss: 0.3028 - val_accuracy: 0.4643\n",
            "Epoch 49/100\n",
            "4/4 [==============================] - 0s 11ms/step - loss: 0.1368 - accuracy: 0.8532 - val_loss: 0.3006 - val_accuracy: 0.3929\n",
            "Epoch 50/100\n",
            "4/4 [==============================] - 0s 12ms/step - loss: 0.1383 - accuracy: 0.8257 - val_loss: 0.2991 - val_accuracy: 0.3571\n",
            "Epoch 51/100\n",
            "4/4 [==============================] - 0s 11ms/step - loss: 0.1325 - accuracy: 0.8440 - val_loss: 0.3028 - val_accuracy: 0.3929\n",
            "Epoch 52/100\n",
            "4/4 [==============================] - 0s 11ms/step - loss: 0.1412 - accuracy: 0.8165 - val_loss: 0.3045 - val_accuracy: 0.4286\n",
            "Epoch 53/100\n",
            "4/4 [==============================] - 0s 13ms/step - loss: 0.1331 - accuracy: 0.8073 - val_loss: 0.3065 - val_accuracy: 0.3929\n",
            "Epoch 54/100\n",
            "4/4 [==============================] - 0s 12ms/step - loss: 0.1201 - accuracy: 0.8624 - val_loss: 0.3071 - val_accuracy: 0.4286\n",
            "Epoch 55/100\n",
            "4/4 [==============================] - 0s 11ms/step - loss: 0.1239 - accuracy: 0.8440 - val_loss: 0.3101 - val_accuracy: 0.4643\n",
            "Epoch 56/100\n",
            "4/4 [==============================] - 0s 17ms/step - loss: 0.1369 - accuracy: 0.8349 - val_loss: 0.3145 - val_accuracy: 0.4643\n",
            "Epoch 57/100\n",
            "4/4 [==============================] - 0s 11ms/step - loss: 0.1339 - accuracy: 0.8257 - val_loss: 0.3056 - val_accuracy: 0.3929\n",
            "Epoch 58/100\n",
            "4/4 [==============================] - 0s 11ms/step - loss: 0.1271 - accuracy: 0.8073 - val_loss: 0.2982 - val_accuracy: 0.3929\n",
            "Epoch 59/100\n",
            "4/4 [==============================] - 0s 11ms/step - loss: 0.1329 - accuracy: 0.8257 - val_loss: 0.2900 - val_accuracy: 0.4643\n",
            "Epoch 60/100\n",
            "4/4 [==============================] - 0s 20ms/step - loss: 0.1327 - accuracy: 0.8624 - val_loss: 0.2896 - val_accuracy: 0.4643\n",
            "Epoch 61/100\n",
            "4/4 [==============================] - 0s 12ms/step - loss: 0.1211 - accuracy: 0.8716 - val_loss: 0.2934 - val_accuracy: 0.4286\n",
            "Epoch 62/100\n",
            "4/4 [==============================] - 0s 12ms/step - loss: 0.1120 - accuracy: 0.9083 - val_loss: 0.2984 - val_accuracy: 0.4643\n",
            "Epoch 63/100\n",
            "4/4 [==============================] - 0s 11ms/step - loss: 0.1224 - accuracy: 0.8532 - val_loss: 0.3031 - val_accuracy: 0.4286\n",
            "Epoch 64/100\n",
            "4/4 [==============================] - 0s 13ms/step - loss: 0.1211 - accuracy: 0.8991 - val_loss: 0.3024 - val_accuracy: 0.4286\n",
            "Epoch 65/100\n",
            "4/4 [==============================] - 0s 11ms/step - loss: 0.1222 - accuracy: 0.8532 - val_loss: 0.3086 - val_accuracy: 0.4286\n",
            "Epoch 66/100\n",
            "4/4 [==============================] - 0s 11ms/step - loss: 0.1137 - accuracy: 0.8440 - val_loss: 0.3166 - val_accuracy: 0.4286\n",
            "Epoch 67/100\n",
            "4/4 [==============================] - 0s 12ms/step - loss: 0.1056 - accuracy: 0.9083 - val_loss: 0.3122 - val_accuracy: 0.5000\n",
            "Epoch 68/100\n",
            "4/4 [==============================] - 0s 11ms/step - loss: 0.1283 - accuracy: 0.8807 - val_loss: 0.3127 - val_accuracy: 0.4643\n",
            "Epoch 69/100\n",
            "4/4 [==============================] - 0s 11ms/step - loss: 0.1163 - accuracy: 0.8716 - val_loss: 0.3152 - val_accuracy: 0.4643\n",
            "Epoch 70/100\n",
            "4/4 [==============================] - 0s 11ms/step - loss: 0.1140 - accuracy: 0.8899 - val_loss: 0.3102 - val_accuracy: 0.4286\n",
            "Epoch 71/100\n",
            "4/4 [==============================] - 0s 11ms/step - loss: 0.1193 - accuracy: 0.8440 - val_loss: 0.3062 - val_accuracy: 0.4643\n",
            "Epoch 72/100\n",
            "4/4 [==============================] - 0s 11ms/step - loss: 0.0989 - accuracy: 0.9358 - val_loss: 0.3066 - val_accuracy: 0.4286\n",
            "Epoch 73/100\n",
            "4/4 [==============================] - 0s 12ms/step - loss: 0.1089 - accuracy: 0.9083 - val_loss: 0.3032 - val_accuracy: 0.5000\n",
            "Epoch 74/100\n",
            "4/4 [==============================] - 0s 11ms/step - loss: 0.1045 - accuracy: 0.8716 - val_loss: 0.3026 - val_accuracy: 0.4286\n",
            "Epoch 75/100\n",
            "4/4 [==============================] - 0s 13ms/step - loss: 0.1026 - accuracy: 0.8807 - val_loss: 0.3108 - val_accuracy: 0.4643\n",
            "Epoch 76/100\n",
            "4/4 [==============================] - 0s 11ms/step - loss: 0.1093 - accuracy: 0.8532 - val_loss: 0.3123 - val_accuracy: 0.5000\n",
            "Epoch 77/100\n",
            "4/4 [==============================] - 0s 12ms/step - loss: 0.0931 - accuracy: 0.9450 - val_loss: 0.3124 - val_accuracy: 0.5000\n",
            "Epoch 78/100\n",
            "4/4 [==============================] - 0s 18ms/step - loss: 0.0984 - accuracy: 0.9083 - val_loss: 0.3133 - val_accuracy: 0.4643\n",
            "Epoch 79/100\n",
            "4/4 [==============================] - 0s 11ms/step - loss: 0.1008 - accuracy: 0.8991 - val_loss: 0.3098 - val_accuracy: 0.4643\n",
            "Epoch 80/100\n",
            "4/4 [==============================] - 0s 13ms/step - loss: 0.1067 - accuracy: 0.9083 - val_loss: 0.3144 - val_accuracy: 0.5000\n",
            "Epoch 81/100\n",
            "4/4 [==============================] - 0s 11ms/step - loss: 0.0948 - accuracy: 0.8991 - val_loss: 0.3098 - val_accuracy: 0.5357\n",
            "Epoch 82/100\n",
            "4/4 [==============================] - 0s 15ms/step - loss: 0.0906 - accuracy: 0.9266 - val_loss: 0.3118 - val_accuracy: 0.5000\n",
            "Epoch 83/100\n",
            "4/4 [==============================] - 0s 11ms/step - loss: 0.1005 - accuracy: 0.9083 - val_loss: 0.3248 - val_accuracy: 0.5000\n",
            "Epoch 84/100\n",
            "4/4 [==============================] - 0s 11ms/step - loss: 0.0961 - accuracy: 0.8899 - val_loss: 0.3160 - val_accuracy: 0.5000\n",
            "Epoch 85/100\n",
            "4/4 [==============================] - 0s 12ms/step - loss: 0.0972 - accuracy: 0.9083 - val_loss: 0.3078 - val_accuracy: 0.5357\n",
            "Epoch 86/100\n",
            "4/4 [==============================] - 0s 11ms/step - loss: 0.0940 - accuracy: 0.9083 - val_loss: 0.3015 - val_accuracy: 0.5000\n",
            "Epoch 87/100\n",
            "4/4 [==============================] - 0s 11ms/step - loss: 0.0982 - accuracy: 0.8991 - val_loss: 0.2994 - val_accuracy: 0.5357\n",
            "Epoch 88/100\n",
            "4/4 [==============================] - 0s 12ms/step - loss: 0.0823 - accuracy: 0.9541 - val_loss: 0.3016 - val_accuracy: 0.5714\n",
            "Epoch 89/100\n",
            "4/4 [==============================] - 0s 11ms/step - loss: 0.0918 - accuracy: 0.8899 - val_loss: 0.3052 - val_accuracy: 0.5357\n",
            "Epoch 90/100\n",
            "4/4 [==============================] - 0s 11ms/step - loss: 0.0859 - accuracy: 0.9633 - val_loss: 0.3092 - val_accuracy: 0.5357\n",
            "Epoch 91/100\n",
            "4/4 [==============================] - 0s 12ms/step - loss: 0.0786 - accuracy: 0.9633 - val_loss: 0.3191 - val_accuracy: 0.5000\n",
            "Epoch 92/100\n",
            "4/4 [==============================] - 0s 11ms/step - loss: 0.0911 - accuracy: 0.9358 - val_loss: 0.3177 - val_accuracy: 0.5000\n",
            "Epoch 93/100\n",
            "4/4 [==============================] - 0s 11ms/step - loss: 0.0858 - accuracy: 0.9174 - val_loss: 0.3200 - val_accuracy: 0.5000\n",
            "Epoch 94/100\n",
            "4/4 [==============================] - 0s 12ms/step - loss: 0.0906 - accuracy: 0.9266 - val_loss: 0.3376 - val_accuracy: 0.4286\n",
            "Epoch 95/100\n",
            "4/4 [==============================] - 0s 11ms/step - loss: 0.0838 - accuracy: 0.9450 - val_loss: 0.3267 - val_accuracy: 0.5000\n",
            "Epoch 96/100\n",
            "4/4 [==============================] - 0s 11ms/step - loss: 0.0963 - accuracy: 0.8991 - val_loss: 0.3090 - val_accuracy: 0.5000\n",
            "Epoch 97/100\n",
            "4/4 [==============================] - 0s 12ms/step - loss: 0.0822 - accuracy: 0.9358 - val_loss: 0.3020 - val_accuracy: 0.4643\n",
            "Epoch 98/100\n",
            "4/4 [==============================] - 0s 12ms/step - loss: 0.0894 - accuracy: 0.9174 - val_loss: 0.3116 - val_accuracy: 0.5000\n",
            "Epoch 99/100\n",
            "4/4 [==============================] - 0s 14ms/step - loss: 0.0875 - accuracy: 0.9358 - val_loss: 0.3197 - val_accuracy: 0.5000\n",
            "Epoch 100/100\n",
            "4/4 [==============================] - 0s 11ms/step - loss: 0.0779 - accuracy: 0.9174 - val_loss: 0.3213 - val_accuracy: 0.4643\n"
          ]
        }
      ],
      "source": [
        "# Training the model\n",
        "history = siamese_network.fit(\n",
        "    [np.array(user_profiles_train), np.array(project_embeddings_train)],\n",
        "    np.array(y_train),\n",
        "    validation_data=([np.array(user_profiles_val), np.array(project_embeddings_val)], np.array(y_val)),\n",
        "    epochs=100,  # You can adjust the number of epochs\n",
        "    batch_size=32  # And the batch size\n",
        ")"
      ]
    },
    {
      "cell_type": "code",
      "execution_count": null,
      "metadata": {
        "id": "-hFzUKY8uSlz"
      },
      "outputs": [],
      "source": [
        "def create_user_vector(role: str, experience_level: str, languages: list[str]):\n",
        "  OHE_types = to_categorical([0,1,2])\n",
        "  if experience_level == \"Beginner\":\n",
        "    experience_vector = OHE_types[0]\n",
        "  elif experience_level == \"Intermediate\":\n",
        "    experience_vector = OHE_types[1]\n",
        "  else:\n",
        "    experience_vector = OHE_types[2]\n",
        "\n",
        "  # Add a new dimension to make it a tensor of shape (1, 3)\n",
        "  experience_vector = tf.expand_dims(experience_vector, axis=0)\n",
        "\n",
        "  languages_vector = mlb.fit_transform([languages])\n",
        "\n",
        "  pred_role_preprocessed = bert_preprocess_model([role])\n",
        "  pred_role_results = bert_model(pred_role_preprocessed)\n",
        "  pred_roles_embedded = pred_role_results['pooled_output']\n",
        "\n",
        "  return tf.concat([pred_roles_embedded, experience_vector, languages_vector], axis=1)\n",
        "\n"
      ]
    },
    {
      "cell_type": "code",
      "execution_count": null,
      "metadata": {
        "colab": {
          "base_uri": "https://localhost:8080/"
        },
        "id": "LuXvv-UUpHlw",
        "outputId": "a85743c3-d0f3-4a18-e423-b3cca4f3c124"
      },
      "outputs": [
        {
          "name": "stdout",
          "output_type": "stream",
          "text": [
            "1/1 [==============================] - 0s 21ms/step\n",
            "Similarity Score: 0.76330703\n"
          ]
        }
      ],
      "source": [
        "user_profile_example = create_user_vector(\"Principal AI Scientist at Genentech. Formerly \", \"Beginner\", [\"Python\", \"Shell\", \"R\", \"Jupyter Notebook\", \"Dockerfile\"])\n",
        "project_embedding_example = bert_model(bert_preprocess_model(['Community-curated list of software packages and data resources for single-cell, including RNA-seq, ATAC-seq, etc.']))['pooled_output']\n",
        "\n",
        "# Make a prediction\n",
        "similarity_score = siamese_network.predict([user_profile_example, project_embedding_example])\n",
        "\n",
        "# Output the similarity score\n",
        "print(\"Similarity Score:\", similarity_score[0][0])"
      ]
    }
  ],
  "metadata": {
    "colab": {
      "provenance": []
    },
    "kernelspec": {
      "display_name": "Python 3",
      "language": "python",
      "name": "python3"
    },
    "language_info": {
      "codemirror_mode": {
        "name": "ipython",
        "version": 3
      },
      "file_extension": ".py",
      "mimetype": "text/x-python",
      "name": "python",
      "nbconvert_exporter": "python",
      "pygments_lexer": "ipython3",
      "version": "3.10.8"
    }
  },
  "nbformat": 4,
  "nbformat_minor": 0
}
